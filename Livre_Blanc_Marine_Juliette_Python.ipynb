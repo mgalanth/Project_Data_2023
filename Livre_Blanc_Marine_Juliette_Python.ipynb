{
  "cells": [
    {
      "cell_type": "markdown",
      "metadata": {
        "id": "view-in-github",
        "colab_type": "text"
      },
      "source": [
        "<a href=\"https://colab.research.google.com/github/mgalanth/Project_Data_2023/blob/main/Livre_Blanc_Marine_Juliette_Python.ipynb\" target=\"_parent\"><img src=\"https://colab.research.google.com/assets/colab-badge.svg\" alt=\"Open In Colab\"/></a>"
      ]
    },
    {
      "cell_type": "markdown",
      "metadata": {
        "id": "8i473ciWCHGa"
      },
      "source": [
        "```\n",
        "Équipe 3 - Marine GALANTH - Juliette VUONG\n",
        "Team Python & PowerBI\n",
        "```"
      ]
    },
    {
      "cell_type": "markdown",
      "metadata": {
        "id": "8Je6dqZX0Qou"
      },
      "source": [
        "## **Chapitre 1 : Décrire les données**\n",
        "\n",
        "\n"
      ]
    },
    {
      "cell_type": "markdown",
      "metadata": {
        "id": "IOxjwNqM03sG"
      },
      "source": [
        "##**Comment importer un jeu de donnée sur Python ?**"
      ]
    },
    {
      "cell_type": "code",
      "execution_count": 1,
      "metadata": {
        "id": "Fo6SILQENiyT"
      },
      "outputs": [],
      "source": [
        "#1ere étape: importer les libraires nécéssaires à l'analyse des données \n",
        "import pandas as pd \n",
        "import seaborn as sns\n",
        "import matplotlib.pyplot as plt"
      ]
    },
    {
      "cell_type": "markdown",
      "metadata": {
        "id": "myankoQsp3AW"
      },
      "source": [
        "**Pandas** est une bibliothèque open-source conçue principalement pour travailler avec des données relationnelles ou étiquetées de manière simple et intuitive. Elle fournit diverses structures de données et opérations pour la manipulation de données numériques et de séries temporelles.\n",
        "\n",
        "**Seaborn** est une bibliothèque permettant de réaliser des graphiques statistiques en Python. Elle s'appuie sur matplotlib et s'intègre étroitement aux structures de données pandas. Il aide à explorer et à comprendre vos données. Ses fonctions de traçage opèrent sur des dataframes et des tableaux contenant des ensembles de données entiers et effectuent en interne la mise en correspondance sémantique et l'agrégation statistique nécessaires pour produire des tracés informatifs. \n",
        "\n",
        "**Matplotlib** est une bibliothèque de traçage pour le langage de programmation Python et son extension de mathématiques numériques NumPy. Elle fournit une API orientée objet permettant d'intégrer des tracés dans des applications utilisant des boîtes à outils d'interface graphique à usage général comme Tkinter, wxPython, Qt ou GTK. Il existe également une interface procédurale \"pylab\" basée sur une machine à états (comme OpenGL), conçue pour ressembler de près à celle de MATLAB, bien que son utilisation soit déconseillée[3] SciPy utilise Matplotlib."
      ]
    },
    {
      "cell_type": "code",
      "execution_count": 2,
      "metadata": {
        "colab": {
          "base_uri": "https://localhost:8080/",
          "height": 483
        },
        "id": "NXurx8f2LGHQ",
        "outputId": "631c6a52-bd62-48b8-bc35-b942cf0c2907"
      },
      "outputs": [
        {
          "output_type": "execute_result",
          "data": {
            "text/plain": [
              "       id_colab  satisfaction_level  last_evaluation  number_project  \\\n",
              "0             4                0.72             0.87               5   \n",
              "1             5                0.37             0.52               2   \n",
              "2             7                0.10             0.77               6   \n",
              "3             9                0.89             1.00               5   \n",
              "4            10                0.42             0.53               2   \n",
              "...         ...                 ...              ...             ...   \n",
              "10046     14993                0.40             0.48               2   \n",
              "10047     14995                0.40             0.57               2   \n",
              "10048     14996                0.37             0.48               2   \n",
              "10049     14997                0.37             0.53               2   \n",
              "10050     14998                0.11             0.96               6   \n",
              "\n",
              "       average_montly_hours  time_spend_company  work_accident  \\\n",
              "0                       223                   5              0   \n",
              "1                       159                   3              0   \n",
              "2                       247                   4              0   \n",
              "3                       224                   5              0   \n",
              "4                       142                   3              0   \n",
              "...                     ...                 ...            ...   \n",
              "10046                   155                   3              0   \n",
              "10047                   151                   3              0   \n",
              "10048                   160                   3              0   \n",
              "10049                   143                   3              0   \n",
              "10050                   280                   4              0   \n",
              "\n",
              "       promotion_last_5years      job salary  left  \n",
              "0                          0    sales    low     1  \n",
              "1                          0    sales    low     1  \n",
              "2                          0    sales    low     1  \n",
              "3                          0    sales    low     1  \n",
              "4                          0    sales    low     1  \n",
              "...                      ...      ...    ...   ...  \n",
              "10046                      0  support    low     1  \n",
              "10047                      0  support    low     1  \n",
              "10048                      0  support    low     1  \n",
              "10049                      0  support    low     1  \n",
              "10050                      0  support    low     1  \n",
              "\n",
              "[10051 rows x 11 columns]"
            ],
            "text/html": [
              "\n",
              "  <div id=\"df-fe97dea2-4790-423e-9ca6-cb2080465c20\">\n",
              "    <div class=\"colab-df-container\">\n",
              "      <div>\n",
              "<style scoped>\n",
              "    .dataframe tbody tr th:only-of-type {\n",
              "        vertical-align: middle;\n",
              "    }\n",
              "\n",
              "    .dataframe tbody tr th {\n",
              "        vertical-align: top;\n",
              "    }\n",
              "\n",
              "    .dataframe thead th {\n",
              "        text-align: right;\n",
              "    }\n",
              "</style>\n",
              "<table border=\"1\" class=\"dataframe\">\n",
              "  <thead>\n",
              "    <tr style=\"text-align: right;\">\n",
              "      <th></th>\n",
              "      <th>id_colab</th>\n",
              "      <th>satisfaction_level</th>\n",
              "      <th>last_evaluation</th>\n",
              "      <th>number_project</th>\n",
              "      <th>average_montly_hours</th>\n",
              "      <th>time_spend_company</th>\n",
              "      <th>work_accident</th>\n",
              "      <th>promotion_last_5years</th>\n",
              "      <th>job</th>\n",
              "      <th>salary</th>\n",
              "      <th>left</th>\n",
              "    </tr>\n",
              "  </thead>\n",
              "  <tbody>\n",
              "    <tr>\n",
              "      <th>0</th>\n",
              "      <td>4</td>\n",
              "      <td>0.72</td>\n",
              "      <td>0.87</td>\n",
              "      <td>5</td>\n",
              "      <td>223</td>\n",
              "      <td>5</td>\n",
              "      <td>0</td>\n",
              "      <td>0</td>\n",
              "      <td>sales</td>\n",
              "      <td>low</td>\n",
              "      <td>1</td>\n",
              "    </tr>\n",
              "    <tr>\n",
              "      <th>1</th>\n",
              "      <td>5</td>\n",
              "      <td>0.37</td>\n",
              "      <td>0.52</td>\n",
              "      <td>2</td>\n",
              "      <td>159</td>\n",
              "      <td>3</td>\n",
              "      <td>0</td>\n",
              "      <td>0</td>\n",
              "      <td>sales</td>\n",
              "      <td>low</td>\n",
              "      <td>1</td>\n",
              "    </tr>\n",
              "    <tr>\n",
              "      <th>2</th>\n",
              "      <td>7</td>\n",
              "      <td>0.10</td>\n",
              "      <td>0.77</td>\n",
              "      <td>6</td>\n",
              "      <td>247</td>\n",
              "      <td>4</td>\n",
              "      <td>0</td>\n",
              "      <td>0</td>\n",
              "      <td>sales</td>\n",
              "      <td>low</td>\n",
              "      <td>1</td>\n",
              "    </tr>\n",
              "    <tr>\n",
              "      <th>3</th>\n",
              "      <td>9</td>\n",
              "      <td>0.89</td>\n",
              "      <td>1.00</td>\n",
              "      <td>5</td>\n",
              "      <td>224</td>\n",
              "      <td>5</td>\n",
              "      <td>0</td>\n",
              "      <td>0</td>\n",
              "      <td>sales</td>\n",
              "      <td>low</td>\n",
              "      <td>1</td>\n",
              "    </tr>\n",
              "    <tr>\n",
              "      <th>4</th>\n",
              "      <td>10</td>\n",
              "      <td>0.42</td>\n",
              "      <td>0.53</td>\n",
              "      <td>2</td>\n",
              "      <td>142</td>\n",
              "      <td>3</td>\n",
              "      <td>0</td>\n",
              "      <td>0</td>\n",
              "      <td>sales</td>\n",
              "      <td>low</td>\n",
              "      <td>1</td>\n",
              "    </tr>\n",
              "    <tr>\n",
              "      <th>...</th>\n",
              "      <td>...</td>\n",
              "      <td>...</td>\n",
              "      <td>...</td>\n",
              "      <td>...</td>\n",
              "      <td>...</td>\n",
              "      <td>...</td>\n",
              "      <td>...</td>\n",
              "      <td>...</td>\n",
              "      <td>...</td>\n",
              "      <td>...</td>\n",
              "      <td>...</td>\n",
              "    </tr>\n",
              "    <tr>\n",
              "      <th>10046</th>\n",
              "      <td>14993</td>\n",
              "      <td>0.40</td>\n",
              "      <td>0.48</td>\n",
              "      <td>2</td>\n",
              "      <td>155</td>\n",
              "      <td>3</td>\n",
              "      <td>0</td>\n",
              "      <td>0</td>\n",
              "      <td>support</td>\n",
              "      <td>low</td>\n",
              "      <td>1</td>\n",
              "    </tr>\n",
              "    <tr>\n",
              "      <th>10047</th>\n",
              "      <td>14995</td>\n",
              "      <td>0.40</td>\n",
              "      <td>0.57</td>\n",
              "      <td>2</td>\n",
              "      <td>151</td>\n",
              "      <td>3</td>\n",
              "      <td>0</td>\n",
              "      <td>0</td>\n",
              "      <td>support</td>\n",
              "      <td>low</td>\n",
              "      <td>1</td>\n",
              "    </tr>\n",
              "    <tr>\n",
              "      <th>10048</th>\n",
              "      <td>14996</td>\n",
              "      <td>0.37</td>\n",
              "      <td>0.48</td>\n",
              "      <td>2</td>\n",
              "      <td>160</td>\n",
              "      <td>3</td>\n",
              "      <td>0</td>\n",
              "      <td>0</td>\n",
              "      <td>support</td>\n",
              "      <td>low</td>\n",
              "      <td>1</td>\n",
              "    </tr>\n",
              "    <tr>\n",
              "      <th>10049</th>\n",
              "      <td>14997</td>\n",
              "      <td>0.37</td>\n",
              "      <td>0.53</td>\n",
              "      <td>2</td>\n",
              "      <td>143</td>\n",
              "      <td>3</td>\n",
              "      <td>0</td>\n",
              "      <td>0</td>\n",
              "      <td>support</td>\n",
              "      <td>low</td>\n",
              "      <td>1</td>\n",
              "    </tr>\n",
              "    <tr>\n",
              "      <th>10050</th>\n",
              "      <td>14998</td>\n",
              "      <td>0.11</td>\n",
              "      <td>0.96</td>\n",
              "      <td>6</td>\n",
              "      <td>280</td>\n",
              "      <td>4</td>\n",
              "      <td>0</td>\n",
              "      <td>0</td>\n",
              "      <td>support</td>\n",
              "      <td>low</td>\n",
              "      <td>1</td>\n",
              "    </tr>\n",
              "  </tbody>\n",
              "</table>\n",
              "<p>10051 rows × 11 columns</p>\n",
              "</div>\n",
              "      <button class=\"colab-df-convert\" onclick=\"convertToInteractive('df-fe97dea2-4790-423e-9ca6-cb2080465c20')\"\n",
              "              title=\"Convert this dataframe to an interactive table.\"\n",
              "              style=\"display:none;\">\n",
              "        \n",
              "  <svg xmlns=\"http://www.w3.org/2000/svg\" height=\"24px\"viewBox=\"0 0 24 24\"\n",
              "       width=\"24px\">\n",
              "    <path d=\"M0 0h24v24H0V0z\" fill=\"none\"/>\n",
              "    <path d=\"M18.56 5.44l.94 2.06.94-2.06 2.06-.94-2.06-.94-.94-2.06-.94 2.06-2.06.94zm-11 1L8.5 8.5l.94-2.06 2.06-.94-2.06-.94L8.5 2.5l-.94 2.06-2.06.94zm10 10l.94 2.06.94-2.06 2.06-.94-2.06-.94-.94-2.06-.94 2.06-2.06.94z\"/><path d=\"M17.41 7.96l-1.37-1.37c-.4-.4-.92-.59-1.43-.59-.52 0-1.04.2-1.43.59L10.3 9.45l-7.72 7.72c-.78.78-.78 2.05 0 2.83L4 21.41c.39.39.9.59 1.41.59.51 0 1.02-.2 1.41-.59l7.78-7.78 2.81-2.81c.8-.78.8-2.07 0-2.86zM5.41 20L4 18.59l7.72-7.72 1.47 1.35L5.41 20z\"/>\n",
              "  </svg>\n",
              "      </button>\n",
              "      \n",
              "  <style>\n",
              "    .colab-df-container {\n",
              "      display:flex;\n",
              "      flex-wrap:wrap;\n",
              "      gap: 12px;\n",
              "    }\n",
              "\n",
              "    .colab-df-convert {\n",
              "      background-color: #E8F0FE;\n",
              "      border: none;\n",
              "      border-radius: 50%;\n",
              "      cursor: pointer;\n",
              "      display: none;\n",
              "      fill: #1967D2;\n",
              "      height: 32px;\n",
              "      padding: 0 0 0 0;\n",
              "      width: 32px;\n",
              "    }\n",
              "\n",
              "    .colab-df-convert:hover {\n",
              "      background-color: #E2EBFA;\n",
              "      box-shadow: 0px 1px 2px rgba(60, 64, 67, 0.3), 0px 1px 3px 1px rgba(60, 64, 67, 0.15);\n",
              "      fill: #174EA6;\n",
              "    }\n",
              "\n",
              "    [theme=dark] .colab-df-convert {\n",
              "      background-color: #3B4455;\n",
              "      fill: #D2E3FC;\n",
              "    }\n",
              "\n",
              "    [theme=dark] .colab-df-convert:hover {\n",
              "      background-color: #434B5C;\n",
              "      box-shadow: 0px 1px 3px 1px rgba(0, 0, 0, 0.15);\n",
              "      filter: drop-shadow(0px 1px 2px rgba(0, 0, 0, 0.3));\n",
              "      fill: #FFFFFF;\n",
              "    }\n",
              "  </style>\n",
              "\n",
              "      <script>\n",
              "        const buttonEl =\n",
              "          document.querySelector('#df-fe97dea2-4790-423e-9ca6-cb2080465c20 button.colab-df-convert');\n",
              "        buttonEl.style.display =\n",
              "          google.colab.kernel.accessAllowed ? 'block' : 'none';\n",
              "\n",
              "        async function convertToInteractive(key) {\n",
              "          const element = document.querySelector('#df-fe97dea2-4790-423e-9ca6-cb2080465c20');\n",
              "          const dataTable =\n",
              "            await google.colab.kernel.invokeFunction('convertToInteractive',\n",
              "                                                     [key], {});\n",
              "          if (!dataTable) return;\n",
              "\n",
              "          const docLinkHtml = 'Like what you see? Visit the ' +\n",
              "            '<a target=\"_blank\" href=https://colab.research.google.com/notebooks/data_table.ipynb>data table notebook</a>'\n",
              "            + ' to learn more about interactive tables.';\n",
              "          element.innerHTML = '';\n",
              "          dataTable['output_type'] = 'display_data';\n",
              "          await google.colab.output.renderOutput(dataTable, element);\n",
              "          const docLink = document.createElement('div');\n",
              "          docLink.innerHTML = docLinkHtml;\n",
              "          element.appendChild(docLink);\n",
              "        }\n",
              "      </script>\n",
              "    </div>\n",
              "  </div>\n",
              "  "
            ]
          },
          "metadata": {},
          "execution_count": 2
        }
      ],
      "source": [
        "#2eme étape: ouvrir le jeu de donnée en Data Frame \n",
        "df = pd.read_csv(\"HR_training.csv\",delimiter=\";\",decimal=\",\")\n",
        "df"
      ]
    },
    {
      "cell_type": "markdown",
      "metadata": {
        "id": "0Slzd9jrAf4n"
      },
      "source": [
        "## I. La typologie des données"
      ]
    },
    {
      "cell_type": "markdown",
      "metadata": {
        "id": "JFXS4g_G9JvX"
      },
      "source": [
        "La typologie de données est un ensemble de catégories ou de types qui permettent de classer les données selon leur structure, leur format et leur comportement. Elle permet de définir les différents types de données utilisés dans une application ou un système informatique, afin de les gérer de manière cohérente et efficace. C'est un élément important pour la conception de bases de données et l'implémentation de systèmes informatiques.\n",
        "\n",
        "Les types de données couramment utilisés incluent les nombres, les chaînes de caractères, les dates, les booléens, etc. "
      ]
    },
    {
      "cell_type": "markdown",
      "metadata": {
        "id": "FhAg900L2PSO"
      },
      "source": [
        "### *A.Les variables quantitatives*\n",
        "\n",
        "Les variables quantitatives peuvent prendre des valeurs numériques. \n",
        "Elles mesurent donc des \"quantités\" (comparaisons, additions, soustractions) telles que :\n",
        "\n",
        "*   Le poids d'un véhicule en kilogrammes\n",
        "*   Le temps nécessaire pour accomplir une tâche en minutes ou secondes\n",
        "*   Le nombre de tâches réussies.\n",
        "\n",
        "Les variables quantitatives peuvent être discrètes ou continues. "
      ]
    },
    {
      "cell_type": "markdown",
      "metadata": {
        "id": "ppWohmikPAE-"
      },
      "source": [
        "##### **Les variables discrètes**\n",
        "\n",
        "Les variables discrètes ne peuvent prendre qu'un ensemble spécifiaue de valeurs : elles ont un nombre fini de valeurs. Elles peuvent être énumérées ('1, 2, 3,...'). Pour cela, on peut généralement l'énoncer sous la forme « Le nombre de… ».\n",
        "\n",
        "Par exemple : \n",
        "*   le nombre d’items dans une liste.\n",
        "*   le nombre de personnes dans une salle."
      ]
    },
    {
      "cell_type": "markdown",
      "metadata": {
        "id": "eWzaeaQIPGWi"
      },
      "source": [
        "##### **Les variables continues**\n",
        "\n",
        "Les variables continues peuvent prendre n'importe quelle valeur dans une plage de données. \n",
        "\n",
        "Par exemple :\n",
        "*   La température\n",
        "*   La taille, le poids d’une personne\n",
        "*   La vitesse d’une voiture\n",
        "\n",
        "Les variables continues peuvent être mesurées avec une précision infinie."
      ]
    },
    {
      "cell_type": "markdown",
      "metadata": {
        "id": "rDbeIHzsPwN2"
      },
      "source": [
        "### *B.Les variables qualitatives*\n",
        "\n",
        "Les variables qualitatives sont des variables qui décrivent une caractéristique ou un trait qui ne peut pas être mesuré numériquement.\n",
        "\n",
        "Par exemple :\n",
        "*   La couleur des yeux \n",
        "*   Le sexe\n",
        "*   La marque d'un véhicule\n"
      ]
    },
    {
      "cell_type": "markdown",
      "metadata": {
        "id": "QuZgyXZd6LF2"
      },
      "source": [
        "##### **Les variables nominales**\n",
        "\n",
        "Les variables nominales n'ont pas d'ordre ou de classement particulier. Elles sont utilisées pour classer et catégoriser les données en différents groupes ou catégories.\n",
        "\n",
        "Par exemple : \n",
        "*   La profession\n",
        "*   La religion\n",
        "*   La couleur des yeux\n",
        "\n",
        "Les variables nominales sont généralement représentées par des mots ou des étiquettes. Ainsi, il n'est pas logique d'effectuer des opérations mathématiques sur celles-ci. \n",
        "\n",
        "Elles sont principalement utilisées dans les statistiques descriptives pour compter le nombre d'observations dans chaque catégorie."
      ]
    },
    {
      "cell_type": "markdown",
      "metadata": {
        "id": "5gq8ljjUQN6N"
      },
      "source": [
        "##### **Les variables ordinales**\n",
        "\n",
        "\n",
        "Les variables ordinales sont généralement représentées par des mots ou des étiquettes et peuvent être triées en fonction du degré de la catégorie. Cela se fait généralement de manière naturelle. \n",
        "\n",
        "Elles ne peuvent pas être utilisées pour des calculs mathématiques mais elles sont utilisées pour faire des comparaisons entre catégories. \n",
        "\n",
        "Les variables ordinales sont le plus souvent utilisées pour établir un classement ou un ordre.\n",
        "\n",
        "Par exemple :\n",
        "*   Questionnaire sur une échelle de Likert (1 : pas du tout d’accord, 2 … 5 : Tout à fait d’accord)\n",
        "*   Notes alphabétiques (A+, A,..)\n",
        "*   Degré de satisfaction (de 0 à 10)\n",
        "\n",
        "Il faut tenir compte du fait que le même intervalle de \"1\" ne signifie pas nécessairement la même chose. \n"
      ]
    },
    {
      "cell_type": "markdown",
      "metadata": {
        "id": "Dxf7_k5ZCeWA"
      },
      "source": [
        "##**Connaître le type des données de toutes les colonnes**"
      ]
    },
    {
      "cell_type": "code",
      "execution_count": 3,
      "metadata": {
        "colab": {
          "base_uri": "https://localhost:8080/"
        },
        "id": "GTgHJtwGC3NK",
        "outputId": "20a76806-c517-4d6d-8d3f-41e674b17ef7"
      },
      "outputs": [
        {
          "output_type": "stream",
          "name": "stdout",
          "text": [
            "<class 'pandas.core.frame.DataFrame'>\n",
            "RangeIndex: 10051 entries, 0 to 10050\n",
            "Data columns (total 11 columns):\n",
            " #   Column                 Non-Null Count  Dtype  \n",
            "---  ------                 --------------  -----  \n",
            " 0   id_colab               10051 non-null  int64  \n",
            " 1   satisfaction_level     10051 non-null  float64\n",
            " 2   last_evaluation        10051 non-null  float64\n",
            " 3   number_project         10051 non-null  int64  \n",
            " 4   average_montly_hours   10051 non-null  int64  \n",
            " 5   time_spend_company     10051 non-null  int64  \n",
            " 6   work_accident          10051 non-null  int64  \n",
            " 7   promotion_last_5years  10051 non-null  int64  \n",
            " 8   job                    10051 non-null  object \n",
            " 9   salary                 10051 non-null  object \n",
            " 10  left                   10051 non-null  int64  \n",
            "dtypes: float64(2), int64(7), object(2)\n",
            "memory usage: 863.9+ KB\n"
          ]
        }
      ],
      "source": [
        "#La fonction .info() permet de connaitre le type de donnée des colonnes\n",
        "df.info()"
      ]
    },
    {
      "cell_type": "markdown",
      "metadata": {
        "id": "-61-O7KV0Tnz"
      },
      "source": [
        "##**HR_training : donnée quantitative ou qualitative** \n",
        "\n",
        "Ci-dessous les données ainsi que leurs typologies : \n",
        "\n",
        "- Id : Numéro du collaborateur: **qualitative nominale**\n",
        "\n",
        "- Satisfaction level : Niveau de satisfaction des collaborateurs: **quantitative continue**\n",
        "\n",
        "- Last evaluation : Niveau de satisfaction des collaborateurs lors de l’évaluation précédente: **quantitative continue**\n",
        "\n",
        "- Number project : Nombre de projets portés par le collaborateur : **quantitative discrète**\n",
        "\n",
        "- Average monthly hours : Nombre d’heures mensuel moyen d’un collaborateur : **quantitative discrète**\n",
        "\n",
        "- Time spent company : Nombre d’années passées au sein de l’entreprise: **quantitative discrète**\n",
        "\n",
        "- Work accident : Information qui précise si le collaborateur a subi un accident du travail : **qualitative nominale**\n",
        "\n",
        "- Promotion last 5 years : Information qui précise si le collaborateur a été sujet à une promotion durant les 5 dernières années: **quanlitative nominale** \n",
        "\n",
        "- Job : Secteur dans lequel travaille le collaborateur: **qualitative nominale** \n",
        "\n",
        "- Salary : Salaire du collaborateur (bas, moyen, haut) : **qualitative nominale**\n",
        "\n",
        "- Left : Si le collaborateur a finalement quitté l’entreprise ou non: **qualitative nominale**"
      ]
    },
    {
      "cell_type": "markdown",
      "metadata": {
        "id": "sv1ELxsC9lzx"
      },
      "source": [
        "## II. Catégories de données\n",
        "Les variables sont-elles dépendantes ou indépendantes ? Que signifient ces notions ?"
      ]
    },
    {
      "cell_type": "markdown",
      "metadata": {
        "id": "0pz86Fx2-Hli"
      },
      "source": [
        "### *A.Les variables dépendantes*\n",
        "\n",
        "Une variable dépendante est affectée par une ou plusieurs variables indépendantes. \n",
        "\n",
        "Elle est souvent appelée variable de résultat ou de réponse et est généralement représentée par la lettre « y » en notation mathématique. \n",
        "\n",
        "La valeur de la variable dépendante est déterminée par les valeurs des variables indépendantes. \n",
        "* Par exemple, dans une étude sur l'effet de la température sur la croissance des plantes, la variable dépendante serait la croissance de la plante, tandis que la variable indépendante serait la température.\n",
        "\n"
      ]
    },
    {
      "cell_type": "markdown",
      "metadata": {
        "id": "iur5T8rSQ1xV"
      },
      "source": [
        "### *B.Les variables indépendantes*\n",
        "\n",
        "Les variables indépendantes ne sont pas affectées par d'autres variables du modèle.\n",
        "\n",
        "Elles sont généralement interprêtées comme des prédicteurs ou variables explicatives dans une étude.\n",
        "\n",
        "Les effets des variables indépendants sur la/les variables dépendantes sont généralement analysés à l'aide de techniques statistiques telles que l'analyse de régression."
      ]
    },
    {
      "cell_type": "markdown",
      "metadata": {
        "id": "mOHaAtvN0kmS"
      },
      "source": [
        "####**HR_training : variable indépedantes ou dépendantes ?** \n",
        "\n",
        "En catégorisant les données du fichier :    \n",
        "\n",
        "- Id : Numéro du collaborateur: **variable indépendante**\n",
        "\n",
        "- Satisfaction level : Niveau de satisfaction des collaborateurs: **variable indépendante**\n",
        "\n",
        "- Last evaluation: Niveau de satisfaction des collaborateurs lors de l’évaluation précédente : **variable indépendante**\n",
        "\n",
        "- Number project : Nombre de projets portés par le collaborateur : **variable indépendante**\n",
        "\n",
        "- Average monthly hours : Nombre d’heures mensuel moyen d’un collaborateur : **variable indépendante**\n",
        "\n",
        "- Time spent company : Nombre d’années passées au sein de l’entreprise: **variable indépendante** \n",
        "\n",
        "- Work accident : Information qui précise si le collaborateur a subi un accident du travail : **variable indépendante**\n",
        "\n",
        "- Promotion last 5 years : Information qui précise si le collaborateur a été sujet à une promotion durant les 5 dernières années: **variable indépendante**\n",
        "\n",
        "- Job : Secteur dans lequel travaille le collaborateur: **variable indépendante**\n",
        "\n",
        "- Salary : Salaire du collaborateur (bas, moyen, haut) : **variable indépendante** \n",
        "\n",
        "- Left : Si le collaborateur a finalement quitté l’entreprise ou non: **variable dépendante**"
      ]
    },
    {
      "cell_type": "markdown",
      "metadata": {
        "id": "nkjTL0Yl276e"
      },
      "source": [
        "## III. La transformation des données"
      ]
    },
    {
      "cell_type": "markdown",
      "metadata": {
        "id": "h9flJJdbHhE9"
      },
      "source": [
        "- Les premiers indicateurs que nous avons décidé de transformer sont le niveau de satisfaction et le niveau de satisfaction des collaborateurs lors de l’évaluation précédente. \n",
        "\n",
        "> Ces indicateurs quantitatifs et nominaux étant sous la forme d'un indice allant de 0 à 1 (maximum) ont alors été transformés en des variables qualitatives ordinales. \n",
        "  - Pour cette transformation, nous avons imaginé des classements par niveau de satisfaction en remplacement des précédents indices :     \n",
        "      - Un niveau de satisfaction appartenant à l'intervalle [0;0,49] révèlera un niveau de satisfaction médiocre ou très faible;\n",
        "      - Un état de satisfaction d'ordre 0,5 démontrera la neutralité de la satisfaction de l'employé qui n'est alors ni trop peu satisfait ni trop fortement satisfait;\n",
        "      - Le niveau de satisfaction élevé appartenant à l'intervalle [0,51;1] montre la satisfaction de l'employé ou sa très haute satisfaction. Le maximum, 1 représentant sa satisfaction absolue.\n",
        "\n",
        "> Au contraire, le second indicateur transformé, \"Job\" est un indicateur qualitatif nominal représentant les secteurs d'activité présents dans l'entreprise selon leur nom. \n",
        "  - Afin que la transformation de la donnée en une variable qualitative puisse en variable quantitative puisse être réalisée, nous avons décider de regrouper le nombre de travailleurs par secteur. "
      ]
    },
    {
      "cell_type": "code",
      "execution_count": 4,
      "metadata": {
        "colab": {
          "base_uri": "https://localhost:8080/",
          "height": 268
        },
        "id": "_7BvnYfWUqje",
        "outputId": "09665b02-a7a2-415d-e0cc-daf839386617"
      },
      "outputs": [
        {
          "output_type": "execute_result",
          "data": {
            "text/plain": [
              "   id_colab  satisfaction_level  last_evaluation  number_project  \\\n",
              "0         4                0.72             0.87               5   \n",
              "1         5                0.37             0.52               2   \n",
              "2         7                0.10             0.77               6   \n",
              "3         9                0.89             1.00               5   \n",
              "4        10                0.42             0.53               2   \n",
              "\n",
              "   average_montly_hours  time_spend_company  work_accident  \\\n",
              "0                   223                   5              0   \n",
              "1                   159                   3              0   \n",
              "2                   247                   4              0   \n",
              "3                   224                   5              0   \n",
              "4                   142                   3              0   \n",
              "\n",
              "   promotion_last_5years    job salary  left satisfaction_segment left_segment  \n",
              "0                      0  sales    low     1         satisfaction     demision  \n",
              "1                      0  sales    low     1         satisfaction     demision  \n",
              "2                      0  sales    low     1         satisfaction     demision  \n",
              "3                      0  sales    low     1         satisfaction     demision  \n",
              "4                      0  sales    low     1         satisfaction     demision  "
            ],
            "text/html": [
              "\n",
              "  <div id=\"df-5de41b75-1a57-4331-a857-d920199b86c5\">\n",
              "    <div class=\"colab-df-container\">\n",
              "      <div>\n",
              "<style scoped>\n",
              "    .dataframe tbody tr th:only-of-type {\n",
              "        vertical-align: middle;\n",
              "    }\n",
              "\n",
              "    .dataframe tbody tr th {\n",
              "        vertical-align: top;\n",
              "    }\n",
              "\n",
              "    .dataframe thead th {\n",
              "        text-align: right;\n",
              "    }\n",
              "</style>\n",
              "<table border=\"1\" class=\"dataframe\">\n",
              "  <thead>\n",
              "    <tr style=\"text-align: right;\">\n",
              "      <th></th>\n",
              "      <th>id_colab</th>\n",
              "      <th>satisfaction_level</th>\n",
              "      <th>last_evaluation</th>\n",
              "      <th>number_project</th>\n",
              "      <th>average_montly_hours</th>\n",
              "      <th>time_spend_company</th>\n",
              "      <th>work_accident</th>\n",
              "      <th>promotion_last_5years</th>\n",
              "      <th>job</th>\n",
              "      <th>salary</th>\n",
              "      <th>left</th>\n",
              "      <th>satisfaction_segment</th>\n",
              "      <th>left_segment</th>\n",
              "    </tr>\n",
              "  </thead>\n",
              "  <tbody>\n",
              "    <tr>\n",
              "      <th>0</th>\n",
              "      <td>4</td>\n",
              "      <td>0.72</td>\n",
              "      <td>0.87</td>\n",
              "      <td>5</td>\n",
              "      <td>223</td>\n",
              "      <td>5</td>\n",
              "      <td>0</td>\n",
              "      <td>0</td>\n",
              "      <td>sales</td>\n",
              "      <td>low</td>\n",
              "      <td>1</td>\n",
              "      <td>satisfaction</td>\n",
              "      <td>demision</td>\n",
              "    </tr>\n",
              "    <tr>\n",
              "      <th>1</th>\n",
              "      <td>5</td>\n",
              "      <td>0.37</td>\n",
              "      <td>0.52</td>\n",
              "      <td>2</td>\n",
              "      <td>159</td>\n",
              "      <td>3</td>\n",
              "      <td>0</td>\n",
              "      <td>0</td>\n",
              "      <td>sales</td>\n",
              "      <td>low</td>\n",
              "      <td>1</td>\n",
              "      <td>satisfaction</td>\n",
              "      <td>demision</td>\n",
              "    </tr>\n",
              "    <tr>\n",
              "      <th>2</th>\n",
              "      <td>7</td>\n",
              "      <td>0.10</td>\n",
              "      <td>0.77</td>\n",
              "      <td>6</td>\n",
              "      <td>247</td>\n",
              "      <td>4</td>\n",
              "      <td>0</td>\n",
              "      <td>0</td>\n",
              "      <td>sales</td>\n",
              "      <td>low</td>\n",
              "      <td>1</td>\n",
              "      <td>satisfaction</td>\n",
              "      <td>demision</td>\n",
              "    </tr>\n",
              "    <tr>\n",
              "      <th>3</th>\n",
              "      <td>9</td>\n",
              "      <td>0.89</td>\n",
              "      <td>1.00</td>\n",
              "      <td>5</td>\n",
              "      <td>224</td>\n",
              "      <td>5</td>\n",
              "      <td>0</td>\n",
              "      <td>0</td>\n",
              "      <td>sales</td>\n",
              "      <td>low</td>\n",
              "      <td>1</td>\n",
              "      <td>satisfaction</td>\n",
              "      <td>demision</td>\n",
              "    </tr>\n",
              "    <tr>\n",
              "      <th>4</th>\n",
              "      <td>10</td>\n",
              "      <td>0.42</td>\n",
              "      <td>0.53</td>\n",
              "      <td>2</td>\n",
              "      <td>142</td>\n",
              "      <td>3</td>\n",
              "      <td>0</td>\n",
              "      <td>0</td>\n",
              "      <td>sales</td>\n",
              "      <td>low</td>\n",
              "      <td>1</td>\n",
              "      <td>satisfaction</td>\n",
              "      <td>demision</td>\n",
              "    </tr>\n",
              "  </tbody>\n",
              "</table>\n",
              "</div>\n",
              "      <button class=\"colab-df-convert\" onclick=\"convertToInteractive('df-5de41b75-1a57-4331-a857-d920199b86c5')\"\n",
              "              title=\"Convert this dataframe to an interactive table.\"\n",
              "              style=\"display:none;\">\n",
              "        \n",
              "  <svg xmlns=\"http://www.w3.org/2000/svg\" height=\"24px\"viewBox=\"0 0 24 24\"\n",
              "       width=\"24px\">\n",
              "    <path d=\"M0 0h24v24H0V0z\" fill=\"none\"/>\n",
              "    <path d=\"M18.56 5.44l.94 2.06.94-2.06 2.06-.94-2.06-.94-.94-2.06-.94 2.06-2.06.94zm-11 1L8.5 8.5l.94-2.06 2.06-.94-2.06-.94L8.5 2.5l-.94 2.06-2.06.94zm10 10l.94 2.06.94-2.06 2.06-.94-2.06-.94-.94-2.06-.94 2.06-2.06.94z\"/><path d=\"M17.41 7.96l-1.37-1.37c-.4-.4-.92-.59-1.43-.59-.52 0-1.04.2-1.43.59L10.3 9.45l-7.72 7.72c-.78.78-.78 2.05 0 2.83L4 21.41c.39.39.9.59 1.41.59.51 0 1.02-.2 1.41-.59l7.78-7.78 2.81-2.81c.8-.78.8-2.07 0-2.86zM5.41 20L4 18.59l7.72-7.72 1.47 1.35L5.41 20z\"/>\n",
              "  </svg>\n",
              "      </button>\n",
              "      \n",
              "  <style>\n",
              "    .colab-df-container {\n",
              "      display:flex;\n",
              "      flex-wrap:wrap;\n",
              "      gap: 12px;\n",
              "    }\n",
              "\n",
              "    .colab-df-convert {\n",
              "      background-color: #E8F0FE;\n",
              "      border: none;\n",
              "      border-radius: 50%;\n",
              "      cursor: pointer;\n",
              "      display: none;\n",
              "      fill: #1967D2;\n",
              "      height: 32px;\n",
              "      padding: 0 0 0 0;\n",
              "      width: 32px;\n",
              "    }\n",
              "\n",
              "    .colab-df-convert:hover {\n",
              "      background-color: #E2EBFA;\n",
              "      box-shadow: 0px 1px 2px rgba(60, 64, 67, 0.3), 0px 1px 3px 1px rgba(60, 64, 67, 0.15);\n",
              "      fill: #174EA6;\n",
              "    }\n",
              "\n",
              "    [theme=dark] .colab-df-convert {\n",
              "      background-color: #3B4455;\n",
              "      fill: #D2E3FC;\n",
              "    }\n",
              "\n",
              "    [theme=dark] .colab-df-convert:hover {\n",
              "      background-color: #434B5C;\n",
              "      box-shadow: 0px 1px 3px 1px rgba(0, 0, 0, 0.15);\n",
              "      filter: drop-shadow(0px 1px 2px rgba(0, 0, 0, 0.3));\n",
              "      fill: #FFFFFF;\n",
              "    }\n",
              "  </style>\n",
              "\n",
              "      <script>\n",
              "        const buttonEl =\n",
              "          document.querySelector('#df-5de41b75-1a57-4331-a857-d920199b86c5 button.colab-df-convert');\n",
              "        buttonEl.style.display =\n",
              "          google.colab.kernel.accessAllowed ? 'block' : 'none';\n",
              "\n",
              "        async function convertToInteractive(key) {\n",
              "          const element = document.querySelector('#df-5de41b75-1a57-4331-a857-d920199b86c5');\n",
              "          const dataTable =\n",
              "            await google.colab.kernel.invokeFunction('convertToInteractive',\n",
              "                                                     [key], {});\n",
              "          if (!dataTable) return;\n",
              "\n",
              "          const docLinkHtml = 'Like what you see? Visit the ' +\n",
              "            '<a target=\"_blank\" href=https://colab.research.google.com/notebooks/data_table.ipynb>data table notebook</a>'\n",
              "            + ' to learn more about interactive tables.';\n",
              "          element.innerHTML = '';\n",
              "          dataTable['output_type'] = 'display_data';\n",
              "          await google.colab.output.renderOutput(dataTable, element);\n",
              "          const docLink = document.createElement('div');\n",
              "          docLink.innerHTML = docLinkHtml;\n",
              "          element.appendChild(docLink);\n",
              "        }\n",
              "      </script>\n",
              "    </div>\n",
              "  </div>\n",
              "  "
            ]
          },
          "metadata": {},
          "execution_count": 4
        }
      ],
      "source": [
        "df2=df.assign(satisfaction_segment='satisfaction', left_segment='demision')\n",
        "df2.head()"
      ]
    },
    {
      "cell_type": "code",
      "execution_count": 5,
      "metadata": {
        "colab": {
          "base_uri": "https://localhost:8080/"
        },
        "id": "dHIPmHqGKXcY",
        "outputId": "5c35dafa-6593-4574-ce84-d166b71f3b11"
      },
      "outputs": [
        {
          "output_type": "stream",
          "name": "stderr",
          "text": [
            "<ipython-input-5-ef0d031d3059>:6: SettingWithCopyWarning: \n",
            "A value is trying to be set on a copy of a slice from a DataFrame\n",
            "\n",
            "See the caveats in the documentation: https://pandas.pydata.org/pandas-docs/stable/user_guide/indexing.html#returning-a-view-versus-a-copy\n",
            "  df2['satisfaction_segment'][x] = \"neutral\"\n",
            "<ipython-input-5-ef0d031d3059>:4: SettingWithCopyWarning: \n",
            "A value is trying to be set on a copy of a slice from a DataFrame\n",
            "\n",
            "See the caveats in the documentation: https://pandas.pydata.org/pandas-docs/stable/user_guide/indexing.html#returning-a-view-versus-a-copy\n",
            "  df2['satisfaction_segment'][x] = \"poor\"\n"
          ]
        }
      ],
      "source": [
        "#transformer les valeurs quantitatives en qualitative d'une colonne \"satisfaction_level\"\n",
        "for x in range(10051):\n",
        "  if df[\"satisfaction_level\"][x]<= 0.49:\n",
        "    df2['satisfaction_segment'][x] = \"poor\"\n",
        "  elif df[\"satisfaction_level\"][x]>= 0.5:\n",
        "    df2['satisfaction_segment'][x] = \"neutral\"\n",
        "  elif df[\"satisfaction_level\"][x] > 0.70:\n",
        "    df2['satisfaction_segment'][x] = \"good\""
      ]
    },
    {
      "cell_type": "code",
      "execution_count": 6,
      "metadata": {
        "colab": {
          "base_uri": "https://localhost:8080/"
        },
        "id": "XV_17T-QqZKc",
        "outputId": "5c5b640c-0114-4b1f-b27b-788f7dd57c41"
      },
      "outputs": [
        {
          "output_type": "stream",
          "name": "stderr",
          "text": [
            "<ipython-input-6-2dab923d5b62>:8: SettingWithCopyWarning: \n",
            "A value is trying to be set on a copy of a slice from a DataFrame\n",
            "\n",
            "See the caveats in the documentation: https://pandas.pydata.org/pandas-docs/stable/user_guide/indexing.html#returning-a-view-versus-a-copy\n",
            "  df2['left_segment'][x] = \"oui\"\n",
            "<ipython-input-6-2dab923d5b62>:6: SettingWithCopyWarning: \n",
            "A value is trying to be set on a copy of a slice from a DataFrame\n",
            "\n",
            "See the caveats in the documentation: https://pandas.pydata.org/pandas-docs/stable/user_guide/indexing.html#returning-a-view-versus-a-copy\n",
            "  df2['left_segment'][x] = \"non\"\n"
          ]
        }
      ],
      "source": [
        "#transformer les valeurs quantitatives en qualitative d'une colonne \"left\"\n",
        "#1 --> salariés ayants quitté la société\n",
        "#0 --> salariés actuels\n",
        "for x in range(10051):\n",
        "  if df[\"left\"][x] == 0 :\n",
        "    df2['left_segment'][x] = \"non\"\n",
        "  elif df[\"left\"][x]== 1:\n",
        "    df2['left_segment'][x] = \"oui\""
      ]
    },
    {
      "cell_type": "code",
      "execution_count": 7,
      "metadata": {
        "colab": {
          "base_uri": "https://localhost:8080/",
          "height": 268
        },
        "id": "ebXaaxNeZrpM",
        "outputId": "cdbc4842-ae9c-47a3-9c73-799e5549b547"
      },
      "outputs": [
        {
          "output_type": "execute_result",
          "data": {
            "text/plain": [
              "   id_colab  satisfaction_level  last_evaluation  number_project  \\\n",
              "0         4                0.72             0.87               5   \n",
              "1         5                0.37             0.52               2   \n",
              "2         7                0.10             0.77               6   \n",
              "3         9                0.89             1.00               5   \n",
              "4        10                0.42             0.53               2   \n",
              "\n",
              "   average_montly_hours  time_spend_company  work_accident  \\\n",
              "0                   223                   5              0   \n",
              "1                   159                   3              0   \n",
              "2                   247                   4              0   \n",
              "3                   224                   5              0   \n",
              "4                   142                   3              0   \n",
              "\n",
              "   promotion_last_5years    job salary  left satisfaction_segment left_segment  \n",
              "0                      0  sales    low     1              neutral          oui  \n",
              "1                      0  sales    low     1                 poor          oui  \n",
              "2                      0  sales    low     1                 poor          oui  \n",
              "3                      0  sales    low     1              neutral          oui  \n",
              "4                      0  sales    low     1                 poor          oui  "
            ],
            "text/html": [
              "\n",
              "  <div id=\"df-b4fa6ae8-7fc3-4f1f-8faa-a909a12b292b\">\n",
              "    <div class=\"colab-df-container\">\n",
              "      <div>\n",
              "<style scoped>\n",
              "    .dataframe tbody tr th:only-of-type {\n",
              "        vertical-align: middle;\n",
              "    }\n",
              "\n",
              "    .dataframe tbody tr th {\n",
              "        vertical-align: top;\n",
              "    }\n",
              "\n",
              "    .dataframe thead th {\n",
              "        text-align: right;\n",
              "    }\n",
              "</style>\n",
              "<table border=\"1\" class=\"dataframe\">\n",
              "  <thead>\n",
              "    <tr style=\"text-align: right;\">\n",
              "      <th></th>\n",
              "      <th>id_colab</th>\n",
              "      <th>satisfaction_level</th>\n",
              "      <th>last_evaluation</th>\n",
              "      <th>number_project</th>\n",
              "      <th>average_montly_hours</th>\n",
              "      <th>time_spend_company</th>\n",
              "      <th>work_accident</th>\n",
              "      <th>promotion_last_5years</th>\n",
              "      <th>job</th>\n",
              "      <th>salary</th>\n",
              "      <th>left</th>\n",
              "      <th>satisfaction_segment</th>\n",
              "      <th>left_segment</th>\n",
              "    </tr>\n",
              "  </thead>\n",
              "  <tbody>\n",
              "    <tr>\n",
              "      <th>0</th>\n",
              "      <td>4</td>\n",
              "      <td>0.72</td>\n",
              "      <td>0.87</td>\n",
              "      <td>5</td>\n",
              "      <td>223</td>\n",
              "      <td>5</td>\n",
              "      <td>0</td>\n",
              "      <td>0</td>\n",
              "      <td>sales</td>\n",
              "      <td>low</td>\n",
              "      <td>1</td>\n",
              "      <td>neutral</td>\n",
              "      <td>oui</td>\n",
              "    </tr>\n",
              "    <tr>\n",
              "      <th>1</th>\n",
              "      <td>5</td>\n",
              "      <td>0.37</td>\n",
              "      <td>0.52</td>\n",
              "      <td>2</td>\n",
              "      <td>159</td>\n",
              "      <td>3</td>\n",
              "      <td>0</td>\n",
              "      <td>0</td>\n",
              "      <td>sales</td>\n",
              "      <td>low</td>\n",
              "      <td>1</td>\n",
              "      <td>poor</td>\n",
              "      <td>oui</td>\n",
              "    </tr>\n",
              "    <tr>\n",
              "      <th>2</th>\n",
              "      <td>7</td>\n",
              "      <td>0.10</td>\n",
              "      <td>0.77</td>\n",
              "      <td>6</td>\n",
              "      <td>247</td>\n",
              "      <td>4</td>\n",
              "      <td>0</td>\n",
              "      <td>0</td>\n",
              "      <td>sales</td>\n",
              "      <td>low</td>\n",
              "      <td>1</td>\n",
              "      <td>poor</td>\n",
              "      <td>oui</td>\n",
              "    </tr>\n",
              "    <tr>\n",
              "      <th>3</th>\n",
              "      <td>9</td>\n",
              "      <td>0.89</td>\n",
              "      <td>1.00</td>\n",
              "      <td>5</td>\n",
              "      <td>224</td>\n",
              "      <td>5</td>\n",
              "      <td>0</td>\n",
              "      <td>0</td>\n",
              "      <td>sales</td>\n",
              "      <td>low</td>\n",
              "      <td>1</td>\n",
              "      <td>neutral</td>\n",
              "      <td>oui</td>\n",
              "    </tr>\n",
              "    <tr>\n",
              "      <th>4</th>\n",
              "      <td>10</td>\n",
              "      <td>0.42</td>\n",
              "      <td>0.53</td>\n",
              "      <td>2</td>\n",
              "      <td>142</td>\n",
              "      <td>3</td>\n",
              "      <td>0</td>\n",
              "      <td>0</td>\n",
              "      <td>sales</td>\n",
              "      <td>low</td>\n",
              "      <td>1</td>\n",
              "      <td>poor</td>\n",
              "      <td>oui</td>\n",
              "    </tr>\n",
              "  </tbody>\n",
              "</table>\n",
              "</div>\n",
              "      <button class=\"colab-df-convert\" onclick=\"convertToInteractive('df-b4fa6ae8-7fc3-4f1f-8faa-a909a12b292b')\"\n",
              "              title=\"Convert this dataframe to an interactive table.\"\n",
              "              style=\"display:none;\">\n",
              "        \n",
              "  <svg xmlns=\"http://www.w3.org/2000/svg\" height=\"24px\"viewBox=\"0 0 24 24\"\n",
              "       width=\"24px\">\n",
              "    <path d=\"M0 0h24v24H0V0z\" fill=\"none\"/>\n",
              "    <path d=\"M18.56 5.44l.94 2.06.94-2.06 2.06-.94-2.06-.94-.94-2.06-.94 2.06-2.06.94zm-11 1L8.5 8.5l.94-2.06 2.06-.94-2.06-.94L8.5 2.5l-.94 2.06-2.06.94zm10 10l.94 2.06.94-2.06 2.06-.94-2.06-.94-.94-2.06-.94 2.06-2.06.94z\"/><path d=\"M17.41 7.96l-1.37-1.37c-.4-.4-.92-.59-1.43-.59-.52 0-1.04.2-1.43.59L10.3 9.45l-7.72 7.72c-.78.78-.78 2.05 0 2.83L4 21.41c.39.39.9.59 1.41.59.51 0 1.02-.2 1.41-.59l7.78-7.78 2.81-2.81c.8-.78.8-2.07 0-2.86zM5.41 20L4 18.59l7.72-7.72 1.47 1.35L5.41 20z\"/>\n",
              "  </svg>\n",
              "      </button>\n",
              "      \n",
              "  <style>\n",
              "    .colab-df-container {\n",
              "      display:flex;\n",
              "      flex-wrap:wrap;\n",
              "      gap: 12px;\n",
              "    }\n",
              "\n",
              "    .colab-df-convert {\n",
              "      background-color: #E8F0FE;\n",
              "      border: none;\n",
              "      border-radius: 50%;\n",
              "      cursor: pointer;\n",
              "      display: none;\n",
              "      fill: #1967D2;\n",
              "      height: 32px;\n",
              "      padding: 0 0 0 0;\n",
              "      width: 32px;\n",
              "    }\n",
              "\n",
              "    .colab-df-convert:hover {\n",
              "      background-color: #E2EBFA;\n",
              "      box-shadow: 0px 1px 2px rgba(60, 64, 67, 0.3), 0px 1px 3px 1px rgba(60, 64, 67, 0.15);\n",
              "      fill: #174EA6;\n",
              "    }\n",
              "\n",
              "    [theme=dark] .colab-df-convert {\n",
              "      background-color: #3B4455;\n",
              "      fill: #D2E3FC;\n",
              "    }\n",
              "\n",
              "    [theme=dark] .colab-df-convert:hover {\n",
              "      background-color: #434B5C;\n",
              "      box-shadow: 0px 1px 3px 1px rgba(0, 0, 0, 0.15);\n",
              "      filter: drop-shadow(0px 1px 2px rgba(0, 0, 0, 0.3));\n",
              "      fill: #FFFFFF;\n",
              "    }\n",
              "  </style>\n",
              "\n",
              "      <script>\n",
              "        const buttonEl =\n",
              "          document.querySelector('#df-b4fa6ae8-7fc3-4f1f-8faa-a909a12b292b button.colab-df-convert');\n",
              "        buttonEl.style.display =\n",
              "          google.colab.kernel.accessAllowed ? 'block' : 'none';\n",
              "\n",
              "        async function convertToInteractive(key) {\n",
              "          const element = document.querySelector('#df-b4fa6ae8-7fc3-4f1f-8faa-a909a12b292b');\n",
              "          const dataTable =\n",
              "            await google.colab.kernel.invokeFunction('convertToInteractive',\n",
              "                                                     [key], {});\n",
              "          if (!dataTable) return;\n",
              "\n",
              "          const docLinkHtml = 'Like what you see? Visit the ' +\n",
              "            '<a target=\"_blank\" href=https://colab.research.google.com/notebooks/data_table.ipynb>data table notebook</a>'\n",
              "            + ' to learn more about interactive tables.';\n",
              "          element.innerHTML = '';\n",
              "          dataTable['output_type'] = 'display_data';\n",
              "          await google.colab.output.renderOutput(dataTable, element);\n",
              "          const docLink = document.createElement('div');\n",
              "          docLink.innerHTML = docLinkHtml;\n",
              "          element.appendChild(docLink);\n",
              "        }\n",
              "      </script>\n",
              "    </div>\n",
              "  </div>\n",
              "  "
            ]
          },
          "metadata": {},
          "execution_count": 7
        }
      ],
      "source": [
        "df2.head()"
      ]
    },
    {
      "cell_type": "code",
      "execution_count": 8,
      "metadata": {
        "id": "lZk1d5EyKLM0"
      },
      "outputs": [],
      "source": [
        "#retirer la colonne id_colab\n",
        "df2=df2.drop(columns=[\"id_colab\"])"
      ]
    },
    {
      "cell_type": "code",
      "execution_count": 9,
      "metadata": {
        "colab": {
          "base_uri": "https://localhost:8080/",
          "height": 483
        },
        "id": "CT0PHIhrqP6t",
        "outputId": "875d0249-99cd-4f0a-e6cc-44865e76385d"
      },
      "outputs": [
        {
          "output_type": "execute_result",
          "data": {
            "text/plain": [
              "       satisfaction_level  last_evaluation  number_project  \\\n",
              "0                    0.72             0.87               5   \n",
              "1                    0.37             0.52               2   \n",
              "2                    0.10             0.77               6   \n",
              "3                    0.89             1.00               5   \n",
              "4                    0.42             0.53               2   \n",
              "...                   ...              ...             ...   \n",
              "10046                0.40             0.48               2   \n",
              "10047                0.40             0.57               2   \n",
              "10048                0.37             0.48               2   \n",
              "10049                0.37             0.53               2   \n",
              "10050                0.11             0.96               6   \n",
              "\n",
              "       average_montly_hours  time_spend_company  work_accident  \\\n",
              "0                       223                   5              0   \n",
              "1                       159                   3              0   \n",
              "2                       247                   4              0   \n",
              "3                       224                   5              0   \n",
              "4                       142                   3              0   \n",
              "...                     ...                 ...            ...   \n",
              "10046                   155                   3              0   \n",
              "10047                   151                   3              0   \n",
              "10048                   160                   3              0   \n",
              "10049                   143                   3              0   \n",
              "10050                   280                   4              0   \n",
              "\n",
              "       promotion_last_5years      job salary  left satisfaction_segment  \\\n",
              "0                          0    sales    low     1              neutral   \n",
              "1                          0    sales    low     1                 poor   \n",
              "2                          0    sales    low     1                 poor   \n",
              "3                          0    sales    low     1              neutral   \n",
              "4                          0    sales    low     1                 poor   \n",
              "...                      ...      ...    ...   ...                  ...   \n",
              "10046                      0  support    low     1                 poor   \n",
              "10047                      0  support    low     1                 poor   \n",
              "10048                      0  support    low     1                 poor   \n",
              "10049                      0  support    low     1                 poor   \n",
              "10050                      0  support    low     1                 poor   \n",
              "\n",
              "      left_segment  \n",
              "0              oui  \n",
              "1              oui  \n",
              "2              oui  \n",
              "3              oui  \n",
              "4              oui  \n",
              "...            ...  \n",
              "10046          oui  \n",
              "10047          oui  \n",
              "10048          oui  \n",
              "10049          oui  \n",
              "10050          oui  \n",
              "\n",
              "[10051 rows x 12 columns]"
            ],
            "text/html": [
              "\n",
              "  <div id=\"df-7e1dbf20-159b-49c2-9cae-136f7d780629\">\n",
              "    <div class=\"colab-df-container\">\n",
              "      <div>\n",
              "<style scoped>\n",
              "    .dataframe tbody tr th:only-of-type {\n",
              "        vertical-align: middle;\n",
              "    }\n",
              "\n",
              "    .dataframe tbody tr th {\n",
              "        vertical-align: top;\n",
              "    }\n",
              "\n",
              "    .dataframe thead th {\n",
              "        text-align: right;\n",
              "    }\n",
              "</style>\n",
              "<table border=\"1\" class=\"dataframe\">\n",
              "  <thead>\n",
              "    <tr style=\"text-align: right;\">\n",
              "      <th></th>\n",
              "      <th>satisfaction_level</th>\n",
              "      <th>last_evaluation</th>\n",
              "      <th>number_project</th>\n",
              "      <th>average_montly_hours</th>\n",
              "      <th>time_spend_company</th>\n",
              "      <th>work_accident</th>\n",
              "      <th>promotion_last_5years</th>\n",
              "      <th>job</th>\n",
              "      <th>salary</th>\n",
              "      <th>left</th>\n",
              "      <th>satisfaction_segment</th>\n",
              "      <th>left_segment</th>\n",
              "    </tr>\n",
              "  </thead>\n",
              "  <tbody>\n",
              "    <tr>\n",
              "      <th>0</th>\n",
              "      <td>0.72</td>\n",
              "      <td>0.87</td>\n",
              "      <td>5</td>\n",
              "      <td>223</td>\n",
              "      <td>5</td>\n",
              "      <td>0</td>\n",
              "      <td>0</td>\n",
              "      <td>sales</td>\n",
              "      <td>low</td>\n",
              "      <td>1</td>\n",
              "      <td>neutral</td>\n",
              "      <td>oui</td>\n",
              "    </tr>\n",
              "    <tr>\n",
              "      <th>1</th>\n",
              "      <td>0.37</td>\n",
              "      <td>0.52</td>\n",
              "      <td>2</td>\n",
              "      <td>159</td>\n",
              "      <td>3</td>\n",
              "      <td>0</td>\n",
              "      <td>0</td>\n",
              "      <td>sales</td>\n",
              "      <td>low</td>\n",
              "      <td>1</td>\n",
              "      <td>poor</td>\n",
              "      <td>oui</td>\n",
              "    </tr>\n",
              "    <tr>\n",
              "      <th>2</th>\n",
              "      <td>0.10</td>\n",
              "      <td>0.77</td>\n",
              "      <td>6</td>\n",
              "      <td>247</td>\n",
              "      <td>4</td>\n",
              "      <td>0</td>\n",
              "      <td>0</td>\n",
              "      <td>sales</td>\n",
              "      <td>low</td>\n",
              "      <td>1</td>\n",
              "      <td>poor</td>\n",
              "      <td>oui</td>\n",
              "    </tr>\n",
              "    <tr>\n",
              "      <th>3</th>\n",
              "      <td>0.89</td>\n",
              "      <td>1.00</td>\n",
              "      <td>5</td>\n",
              "      <td>224</td>\n",
              "      <td>5</td>\n",
              "      <td>0</td>\n",
              "      <td>0</td>\n",
              "      <td>sales</td>\n",
              "      <td>low</td>\n",
              "      <td>1</td>\n",
              "      <td>neutral</td>\n",
              "      <td>oui</td>\n",
              "    </tr>\n",
              "    <tr>\n",
              "      <th>4</th>\n",
              "      <td>0.42</td>\n",
              "      <td>0.53</td>\n",
              "      <td>2</td>\n",
              "      <td>142</td>\n",
              "      <td>3</td>\n",
              "      <td>0</td>\n",
              "      <td>0</td>\n",
              "      <td>sales</td>\n",
              "      <td>low</td>\n",
              "      <td>1</td>\n",
              "      <td>poor</td>\n",
              "      <td>oui</td>\n",
              "    </tr>\n",
              "    <tr>\n",
              "      <th>...</th>\n",
              "      <td>...</td>\n",
              "      <td>...</td>\n",
              "      <td>...</td>\n",
              "      <td>...</td>\n",
              "      <td>...</td>\n",
              "      <td>...</td>\n",
              "      <td>...</td>\n",
              "      <td>...</td>\n",
              "      <td>...</td>\n",
              "      <td>...</td>\n",
              "      <td>...</td>\n",
              "      <td>...</td>\n",
              "    </tr>\n",
              "    <tr>\n",
              "      <th>10046</th>\n",
              "      <td>0.40</td>\n",
              "      <td>0.48</td>\n",
              "      <td>2</td>\n",
              "      <td>155</td>\n",
              "      <td>3</td>\n",
              "      <td>0</td>\n",
              "      <td>0</td>\n",
              "      <td>support</td>\n",
              "      <td>low</td>\n",
              "      <td>1</td>\n",
              "      <td>poor</td>\n",
              "      <td>oui</td>\n",
              "    </tr>\n",
              "    <tr>\n",
              "      <th>10047</th>\n",
              "      <td>0.40</td>\n",
              "      <td>0.57</td>\n",
              "      <td>2</td>\n",
              "      <td>151</td>\n",
              "      <td>3</td>\n",
              "      <td>0</td>\n",
              "      <td>0</td>\n",
              "      <td>support</td>\n",
              "      <td>low</td>\n",
              "      <td>1</td>\n",
              "      <td>poor</td>\n",
              "      <td>oui</td>\n",
              "    </tr>\n",
              "    <tr>\n",
              "      <th>10048</th>\n",
              "      <td>0.37</td>\n",
              "      <td>0.48</td>\n",
              "      <td>2</td>\n",
              "      <td>160</td>\n",
              "      <td>3</td>\n",
              "      <td>0</td>\n",
              "      <td>0</td>\n",
              "      <td>support</td>\n",
              "      <td>low</td>\n",
              "      <td>1</td>\n",
              "      <td>poor</td>\n",
              "      <td>oui</td>\n",
              "    </tr>\n",
              "    <tr>\n",
              "      <th>10049</th>\n",
              "      <td>0.37</td>\n",
              "      <td>0.53</td>\n",
              "      <td>2</td>\n",
              "      <td>143</td>\n",
              "      <td>3</td>\n",
              "      <td>0</td>\n",
              "      <td>0</td>\n",
              "      <td>support</td>\n",
              "      <td>low</td>\n",
              "      <td>1</td>\n",
              "      <td>poor</td>\n",
              "      <td>oui</td>\n",
              "    </tr>\n",
              "    <tr>\n",
              "      <th>10050</th>\n",
              "      <td>0.11</td>\n",
              "      <td>0.96</td>\n",
              "      <td>6</td>\n",
              "      <td>280</td>\n",
              "      <td>4</td>\n",
              "      <td>0</td>\n",
              "      <td>0</td>\n",
              "      <td>support</td>\n",
              "      <td>low</td>\n",
              "      <td>1</td>\n",
              "      <td>poor</td>\n",
              "      <td>oui</td>\n",
              "    </tr>\n",
              "  </tbody>\n",
              "</table>\n",
              "<p>10051 rows × 12 columns</p>\n",
              "</div>\n",
              "      <button class=\"colab-df-convert\" onclick=\"convertToInteractive('df-7e1dbf20-159b-49c2-9cae-136f7d780629')\"\n",
              "              title=\"Convert this dataframe to an interactive table.\"\n",
              "              style=\"display:none;\">\n",
              "        \n",
              "  <svg xmlns=\"http://www.w3.org/2000/svg\" height=\"24px\"viewBox=\"0 0 24 24\"\n",
              "       width=\"24px\">\n",
              "    <path d=\"M0 0h24v24H0V0z\" fill=\"none\"/>\n",
              "    <path d=\"M18.56 5.44l.94 2.06.94-2.06 2.06-.94-2.06-.94-.94-2.06-.94 2.06-2.06.94zm-11 1L8.5 8.5l.94-2.06 2.06-.94-2.06-.94L8.5 2.5l-.94 2.06-2.06.94zm10 10l.94 2.06.94-2.06 2.06-.94-2.06-.94-.94-2.06-.94 2.06-2.06.94z\"/><path d=\"M17.41 7.96l-1.37-1.37c-.4-.4-.92-.59-1.43-.59-.52 0-1.04.2-1.43.59L10.3 9.45l-7.72 7.72c-.78.78-.78 2.05 0 2.83L4 21.41c.39.39.9.59 1.41.59.51 0 1.02-.2 1.41-.59l7.78-7.78 2.81-2.81c.8-.78.8-2.07 0-2.86zM5.41 20L4 18.59l7.72-7.72 1.47 1.35L5.41 20z\"/>\n",
              "  </svg>\n",
              "      </button>\n",
              "      \n",
              "  <style>\n",
              "    .colab-df-container {\n",
              "      display:flex;\n",
              "      flex-wrap:wrap;\n",
              "      gap: 12px;\n",
              "    }\n",
              "\n",
              "    .colab-df-convert {\n",
              "      background-color: #E8F0FE;\n",
              "      border: none;\n",
              "      border-radius: 50%;\n",
              "      cursor: pointer;\n",
              "      display: none;\n",
              "      fill: #1967D2;\n",
              "      height: 32px;\n",
              "      padding: 0 0 0 0;\n",
              "      width: 32px;\n",
              "    }\n",
              "\n",
              "    .colab-df-convert:hover {\n",
              "      background-color: #E2EBFA;\n",
              "      box-shadow: 0px 1px 2px rgba(60, 64, 67, 0.3), 0px 1px 3px 1px rgba(60, 64, 67, 0.15);\n",
              "      fill: #174EA6;\n",
              "    }\n",
              "\n",
              "    [theme=dark] .colab-df-convert {\n",
              "      background-color: #3B4455;\n",
              "      fill: #D2E3FC;\n",
              "    }\n",
              "\n",
              "    [theme=dark] .colab-df-convert:hover {\n",
              "      background-color: #434B5C;\n",
              "      box-shadow: 0px 1px 3px 1px rgba(0, 0, 0, 0.15);\n",
              "      filter: drop-shadow(0px 1px 2px rgba(0, 0, 0, 0.3));\n",
              "      fill: #FFFFFF;\n",
              "    }\n",
              "  </style>\n",
              "\n",
              "      <script>\n",
              "        const buttonEl =\n",
              "          document.querySelector('#df-7e1dbf20-159b-49c2-9cae-136f7d780629 button.colab-df-convert');\n",
              "        buttonEl.style.display =\n",
              "          google.colab.kernel.accessAllowed ? 'block' : 'none';\n",
              "\n",
              "        async function convertToInteractive(key) {\n",
              "          const element = document.querySelector('#df-7e1dbf20-159b-49c2-9cae-136f7d780629');\n",
              "          const dataTable =\n",
              "            await google.colab.kernel.invokeFunction('convertToInteractive',\n",
              "                                                     [key], {});\n",
              "          if (!dataTable) return;\n",
              "\n",
              "          const docLinkHtml = 'Like what you see? Visit the ' +\n",
              "            '<a target=\"_blank\" href=https://colab.research.google.com/notebooks/data_table.ipynb>data table notebook</a>'\n",
              "            + ' to learn more about interactive tables.';\n",
              "          element.innerHTML = '';\n",
              "          dataTable['output_type'] = 'display_data';\n",
              "          await google.colab.output.renderOutput(dataTable, element);\n",
              "          const docLink = document.createElement('div');\n",
              "          docLink.innerHTML = docLinkHtml;\n",
              "          element.appendChild(docLink);\n",
              "        }\n",
              "      </script>\n",
              "    </div>\n",
              "  </div>\n",
              "  "
            ]
          },
          "metadata": {},
          "execution_count": 9
        }
      ],
      "source": [
        "#afficher le nouveau Dataframe\n",
        "df2"
      ]
    },
    {
      "cell_type": "code",
      "execution_count": 10,
      "metadata": {
        "colab": {
          "base_uri": "https://localhost:8080/"
        },
        "id": "iTSPHObCqOCt",
        "outputId": "8225c8ad-df33-4808-f64b-34f6532c137e"
      },
      "outputs": [
        {
          "output_type": "stream",
          "name": "stdout",
          "text": [
            "<class 'pandas.core.frame.DataFrame'>\n",
            "RangeIndex: 10051 entries, 0 to 10050\n",
            "Data columns (total 12 columns):\n",
            " #   Column                 Non-Null Count  Dtype  \n",
            "---  ------                 --------------  -----  \n",
            " 0   satisfaction_level     10051 non-null  float64\n",
            " 1   last_evaluation        10051 non-null  float64\n",
            " 2   number_project         10051 non-null  int64  \n",
            " 3   average_montly_hours   10051 non-null  int64  \n",
            " 4   time_spend_company     10051 non-null  int64  \n",
            " 5   work_accident          10051 non-null  int64  \n",
            " 6   promotion_last_5years  10051 non-null  int64  \n",
            " 7   job                    10051 non-null  object \n",
            " 8   salary                 10051 non-null  object \n",
            " 9   left                   10051 non-null  int64  \n",
            " 10  satisfaction_segment   10051 non-null  object \n",
            " 11  left_segment           10051 non-null  object \n",
            "dtypes: float64(2), int64(6), object(4)\n",
            "memory usage: 942.4+ KB\n"
          ]
        }
      ],
      "source": [
        "df2.info()"
      ]
    },
    {
      "cell_type": "markdown",
      "metadata": {
        "id": "p4BcKzel2wp4"
      },
      "source": [
        "## IV.Les mesures de tendance centrale\n",
        "\n",
        "La dispersion, également connue sous le nom de variabilité ou propagation, fait référence à la mesure dans laquelle un ensemble de données varie ou s'écarte de sa tendance centrale. \n",
        "\n",
        "Il existe plusieurs mesures de dispersion. \n",
        "Celles-ci donnent une idée de la répartition des données et de la façon dont les données sont réparties autour de la tendance centrale."
      ]
    },
    {
      "cell_type": "markdown",
      "metadata": {
        "id": "de1baKWz3qvF"
      },
      "source": [
        "### *A.La moyenne*\n",
        "\n",
        "La moyenne est une mesure de la tendance centrale calculée en additionnant un ensemble de nombres, puis en divisant par le nombre de valeurs de l'ensemble. La valeur résultante est la moyenne et donne une idée de la valeur typique ou moyenne dans un ensemble de données.\n",
        "\n",
        "* Par exemple, si un ensemble de cinq nombres est :  {1, 2, 3, 4, 5}, la moyenne est (1 + 2 + 3 + 4 + 5) / 5 = 15 / 5 = 3.\n",
        "\n",
        "La moyenne est sensible aux valeurs aberrantes : si un ensemble de nombres contient une ou plusieurs valeurs extrêmement élevées ou faibles, la moyenne sera affectée et peut ne pas représenter avec précision la valeur typique de l'ensemble.\n",
        "\n",
        "Dans de tels cas, d'autres mesures de tendance centrale, telles que la médiane ou le mode, pourraient être plus informatives."
      ]
    },
    {
      "cell_type": "code",
      "execution_count": 11,
      "metadata": {
        "colab": {
          "base_uri": "https://localhost:8080/"
        },
        "id": "HOXmx_DzA4KQ",
        "outputId": "785f1e2e-2a12-4228-b3c9-5020b379a61b"
      },
      "outputs": [
        {
          "output_type": "execute_result",
          "data": {
            "text/plain": [
              "satisfaction_level         0.612140\n",
              "last_evaluation            0.717006\n",
              "number_project             3.803303\n",
              "average_montly_hours     200.812655\n",
              "time_spend_company         3.507213\n",
              "work_accident              0.147050\n",
              "promotion_last_5years      0.020098\n",
              "left                       0.237688\n",
              "dtype: float64"
            ]
          },
          "metadata": {},
          "execution_count": 11
        }
      ],
      "source": [
        "#Calcul de la moyenne\n",
        "df2.mean(numeric_only=True) # mean signifie moyenne "
      ]
    },
    {
      "cell_type": "markdown",
      "metadata": {
        "id": "qOQ_Me_b-nvO"
      },
      "source": [
        "Commentaires :  \n",
        "\n",
        "- Le niveau de satisfaction des collaborateurs est, en moyenne, d'environ 61%. Cela représente un niveau de satisfaction supérieur à la médiane, 50%. Autrement dit, la majorité des collaborateurs ont attribué une note supérieure à la moyenne. Cela signifie que la plupart des personnes sont satisfaite. \n",
        "\n",
        "- La note moyenne de la dernière évaluation est d'environ 0,72. La satisfaction est supérieure à 0,5 et proche de la note maximale : 1. \n",
        "\n",
        "- Le nombre moyen de projets confiés à un collaborateur est de 3,80, soit 3 ou 4 projets. \n",
        "\n",
        "- En moyenne, un collaborateur travaille près de 201 heures. \n",
        "\n",
        "- Un collaborateur passe en moyenne 3,5 ans dans l'entreprise. \n",
        "\n",
        "- Le nombre moyen d'accidents de travail est de l'ordre de 0,15. Ce nombre étant très proche de 0, on peut dire que les accidents sont quasi nuls. Toutefois, ce nombre n'est pas égal à 0 ce qui signifie qu'il y a quand même des accidents, même s'ils sont en proportion très faible. \n",
        "\n",
        "- Le nombre moyen de promotions attribuées est de 0,02. Ce nombre est très faible car quasiment égal à 0, \n",
        "\n",
        "- En moyenne, il y a 24% de départ de la part des collaborateurs de l'entreprise. "
      ]
    },
    {
      "cell_type": "markdown",
      "metadata": {
        "id": "emhyo-uI3744"
      },
      "source": [
        "### *B.La médiane*\n",
        "\n",
        "La médiane est une valeur statistique qui sépare un ensemble de données en deux moitiés. C'est la valeur médiane lorsqu'un ensemble de données est classé par ordre de grandeur. \n",
        "\n",
        "* Si l'ensemble de données a un nombre impair d'observations, la médiane est la valeur médiane. \n",
        "* Si l'ensemble de données a un nombre pair d'observations, la médiane est la moyenne des deux valeurs médianes. \n",
        "\n",
        "C'est une mesure de tendance centrale, comme la moyenne ou le mode."
      ]
    },
    {
      "cell_type": "code",
      "execution_count": 12,
      "metadata": {
        "colab": {
          "base_uri": "https://localhost:8080/"
        },
        "id": "Cqy1bpPiBHrG",
        "outputId": "abb88851-c55b-4026-ecb9-3119dad0e9b7"
      },
      "outputs": [
        {
          "output_type": "execute_result",
          "data": {
            "text/plain": [
              "satisfaction_level         0.64\n",
              "last_evaluation            0.72\n",
              "number_project             4.00\n",
              "average_montly_hours     199.00\n",
              "time_spend_company         3.00\n",
              "work_accident              0.00\n",
              "promotion_last_5years      0.00\n",
              "left                       0.00\n",
              "dtype: float64"
            ]
          },
          "metadata": {},
          "execution_count": 12
        }
      ],
      "source": [
        "#Calcul de la médiane\n",
        "df2.median(numeric_only=True) #médian signifie médiane"
      ]
    },
    {
      "cell_type": "markdown",
      "metadata": {
        "id": "2Cdin2Ur4Ck5"
      },
      "source": [
        "### *C.Le mode*\n",
        "\n",
        "Le mode est la valeur qui apparaît le plus fréquemment dans un jeu de données. C'est une mesure de tendance centrale, comme la moyenne et la médiane. \n",
        "\n",
        "Un jeu de données peut avoir un mode, plusieurs modes (multimodal) ou aucun mode du tout. En l'absence de mode, le jeu de données est dit non modal. \n",
        "\n",
        "Le mode n'est défini que pour les ensembles de données avec des valeurs discrètes, si les données sont continues, la valeur modale ne peut pas être calculée."
      ]
    },
    {
      "cell_type": "code",
      "execution_count": 13,
      "metadata": {
        "colab": {
          "base_uri": "https://localhost:8080/"
        },
        "id": "oTAEDyStdVat",
        "outputId": "6323a7fc-8368-441e-9b19-748f969ae5ba"
      },
      "outputs": [
        {
          "output_type": "stream",
          "name": "stdout",
          "text": [
            "(0.46, 0.57, 2, 139, 3, 0, 0, 'sales', 'low', 1, 'poor', 'oui')\n"
          ]
        }
      ],
      "source": [
        "#Calcul du mode\n",
        "mode=df2.value_counts().idxmax()\n",
        "print(mode)"
      ]
    },
    {
      "cell_type": "markdown",
      "metadata": {
        "id": "vNQBNzU1EZEu"
      },
      "source": [
        "Commentaires : \n",
        "\n",
        "- La valeur apparaissant le plus de fois dans le tableau concernant la satisfaction des collaborateurs est de 0,46. Cette valeur est légèrement inférieure à 0,50 : la plupart des collaborateurs semble légèrement insatisfaite. \n",
        "\n",
        "- La dernière note d'évaluation revenant le plus souvent est de 0,57. Elle est supérieure à la note médiane de 0,5 ce qui signifie que l'évaluation est assez correcte. \n",
        "\n",
        "- Le nombre de projet attribué au collaborateurs est, le plus souvent, de l'ordre de 2.  \n",
        "\n",
        "- La plupart des collaborateurs travaillent 139 heures.\n",
        "\n",
        "- En général, les collaborateurs mettent fin à leur contrat au bout de 3 ans.  \n",
        "\n",
        "- Généralement les collaborateurs ne subissent pas d'accidents de travail. \n",
        "\n",
        "- Le plus souvent, on observe que l'entreprise n'attribue pas de promotions aux salariés. \n",
        "\n",
        "- Le service le plus conséquent en terme d'effectif moyen est le département des ventes. \n",
        "\n",
        "- Le plus souvent les employés ont un salaire situé dans la fourchette basse de l'ensemble des salaires distribués aux employés. \n",
        "\n",
        "- En général, les employés ont préféré quitter l'entreprise. "
      ]
    },
    {
      "cell_type": "markdown",
      "metadata": {
        "id": "vLd2lmGN4QMM"
      },
      "source": [
        "## V.Les mesures de dispersion et de position\n",
        "\n",
        "Les mesures de dispersion et de position sont utilisées pour décrire respectivement la propagation et l'emplacement d'un ensemble de données.\n",
        "\n",
        "Les mesures de dispersion, telles que la variance ou l'écart type, décrivent le degré auquel les valeurs d'un ensemble de données varient et s'écartent de la tendance centrale. Elles donnent une idée de la répartition notamment autour de la tendance centrale.\n",
        "\n",
        "Les mesures de position, telles que les centiles ou les quartiles, décrivent l'emplacement d'une valeur spécifique ou d'un groupe de valeurs dans un jeu de données.\n",
        "Ces mesures donnent une idée de la position des données dans l'ensemble de données.\n",
        "\n",
        "\n",
        "\n"
      ]
    },
    {
      "cell_type": "markdown",
      "metadata": {
        "id": "JpB2lYui4y8s"
      },
      "source": [
        "### *A.L'écart-type*\n",
        "\n",
        "L'écart type permet de mesurer la variance des valeurs d'un échantillon statistique ou d'une distribution de probabilité. Il est défini comme étant la racine carrée de la variance ou, de manière équivalente, la racine carrée moyenne des écarts par rapport à la moyenne.\n",
        "\n",
        "L'écart type est aussi utilisé pour calculer d'autres notions comme :\n",
        "*   le coefficient de corrélation \n",
        "*   le coefficient de variation\n",
        "*   la répartition optimale de Neyman.\n",
        "\n",
        "L'écart type est une mesure de la dispersion des données autour de la moyenne. Plus précisément, l'écart type mesure la quantité de variation ou de diffusion des valeurs dans un ensemble de données. \n",
        "\n",
        "Plus l'écart type est grand, plus les données sont dispersées ; plus l'écart type est petit, plus les données sont concentrées autour de la moyenne. \n",
        "\n",
        "L'écart type est un indicateur important pour comprendre la distribution des données et peut être utilisé pour évaluer la fiabilité et la robustesse des résultats statistiques."
      ]
    },
    {
      "cell_type": "code",
      "execution_count": 14,
      "metadata": {
        "colab": {
          "base_uri": "https://localhost:8080/"
        },
        "id": "ZEZOxqU-YqiG",
        "outputId": "87245d81-92b5-4d54-a163-c2a11bd33bdd"
      },
      "outputs": [
        {
          "output_type": "execute_result",
          "data": {
            "text/plain": [
              "satisfaction_level        0.249014\n",
              "last_evaluation           0.171542\n",
              "number_project            1.230464\n",
              "average_montly_hours     49.775706\n",
              "time_spend_company        1.480360\n",
              "work_accident             0.354173\n",
              "promotion_last_5years     0.140341\n",
              "left                      0.425688\n",
              "dtype: float64"
            ]
          },
          "metadata": {},
          "execution_count": 14
        }
      ],
      "source": [
        "#Calcul de l'écart type\n",
        "df2.std(numeric_only=True) #std signifie l'écart type"
      ]
    },
    {
      "cell_type": "markdown",
      "metadata": {
        "id": "CwCKRMmC4_su"
      },
      "source": [
        "### *B.La variance*\n",
        "La variance est utilisée pour caractériser la dispersion d’une distribution ou d’un échantillon. Il est possible de l’interpréter comme la dispersion des valeurs par rapport à la moyenne. Elle mesure la moyenne de la distance des valeurs individuelles par rapport à la moyenne. \n",
        "\n",
        "Concrètement, la variance est définie comme la moyenne des carrés des écarts à la moyenne. La considération du carré de ces écarts évite que s’annulent des écarts positifs et négatifs.\n",
        "\n",
        "La variance est souvent utilisée en statistiques pour mesurer l'incertitude ou la variabilité d'un ensemble de données. \n",
        "\n",
        "Elle peut aider à évaluer la robustesse et la fiabilité des résultats statistiques et est souvent utilisée pour comparer les distributions de données et pour effectuer des tests statistiques."
      ]
    },
    {
      "cell_type": "code",
      "execution_count": 15,
      "metadata": {
        "colab": {
          "base_uri": "https://localhost:8080/"
        },
        "id": "cWdjmq3lY8T-",
        "outputId": "ddac79c3-a773-4d94-f027-8aad3ea576f0"
      },
      "outputs": [
        {
          "output_type": "execute_result",
          "data": {
            "text/plain": [
              "satisfaction_level          0.062008\n",
              "last_evaluation             0.029427\n",
              "number_project              1.514043\n",
              "average_montly_hours     2477.620918\n",
              "time_spend_company          2.191465\n",
              "work_accident               0.125439\n",
              "promotion_last_5years       0.019696\n",
              "left                        0.181210\n",
              "dtype: float64"
            ]
          },
          "metadata": {},
          "execution_count": 15
        }
      ],
      "source": [
        "#Calcul de la variance\n",
        "df2.var(numeric_only=True) #var signifie la variance"
      ]
    },
    {
      "cell_type": "markdown",
      "metadata": {
        "id": "wT32dITn5CBj"
      },
      "source": [
        "### *C.La fréquence*\n",
        "\n",
        "La fréquence d’une valeur donné représente le quotient (la division) de l’effectif de la valeur par l’effectif total. Intuitivement, elle indique la proportion de la présence de la valeur dans la liste. \n",
        "\n",
        "C'est le nombre de fois où une valeur particulière apparaît dans un ensemble de données. \n",
        "\n",
        "En statistiques, la fréquence est utilisée pour décrire la distribution des données et peut être présentée sous forme de tableau de fréquence, de histogramme ou de courbe de densité.\n",
        "\n",
        "La fréquence peut aider à identifier les tendances centrales dans les données et peut fournir une description concise des données. Elle peut également être utilisée pour effectuer des tests statistiques et des analyses de données.\n",
        "\n",
        "On dit qu'une fréquence forte désigne un événement ou une observation qui se produit fréquemment dans un échantillon ou une population, et inversement lorsqu'il s'agit d'une fréquence faible. \n",
        "\n",
        "En général, la fréquence est un indicateur important pour comprendre la distribution des données et peut aider à prendre des décisions informées basées sur les données.\n"
      ]
    },
    {
      "cell_type": "code",
      "execution_count": 16,
      "metadata": {
        "colab": {
          "base_uri": "https://localhost:8080/"
        },
        "id": "4k7WISJ1dlfz",
        "outputId": "b4bdb117-ac5a-4d97-965b-b887e2926ef9"
      },
      "outputs": [
        {
          "output_type": "stream",
          "name": "stdout",
          "text": [
            "low       4899\n",
            "medium    4324\n",
            "high       828\n",
            "Name: salary, dtype: int64\n"
          ]
        }
      ],
      "source": [
        "#Calcul de la fréquence\n",
        "count1 = df2['salary'].value_counts()\n",
        "print(count1)"
      ]
    },
    {
      "cell_type": "code",
      "execution_count": 17,
      "metadata": {
        "colab": {
          "base_uri": "https://localhost:8080/"
        },
        "id": "O-fNjWwJvq_a",
        "outputId": "fb848c84-54a7-4679-f0c6-edd009f1a6b3"
      },
      "outputs": [
        {
          "output_type": "stream",
          "name": "stdout",
          "text": [
            "sales          2816\n",
            "technical      1808\n",
            "support        1468\n",
            "IT              852\n",
            "product_mng     586\n",
            "marketing       583\n",
            "RandD           509\n",
            "accounting      502\n",
            "hr              494\n",
            "management      433\n",
            "Name: job, dtype: int64\n"
          ]
        }
      ],
      "source": [
        "count2 = df2['job'].value_counts()\n",
        "print(count2)"
      ]
    },
    {
      "cell_type": "code",
      "execution_count": 18,
      "metadata": {
        "colab": {
          "base_uri": "https://localhost:8080/"
        },
        "id": "BGLvNG1wvsuI",
        "outputId": "bb4fca71-4fa3-4b75-b2c7-6dfc0ad07300"
      },
      "outputs": [
        {
          "output_type": "stream",
          "name": "stdout",
          "text": [
            "0    9849\n",
            "1     202\n",
            "Name: promotion_last_5years, dtype: int64\n"
          ]
        }
      ],
      "source": [
        "count3 = df2['promotion_last_5years'].value_counts()\n",
        "print(count3)"
      ]
    },
    {
      "cell_type": "code",
      "execution_count": 19,
      "metadata": {
        "colab": {
          "base_uri": "https://localhost:8080/"
        },
        "id": "JNrCsIvYwdWg",
        "outputId": "3520ec04-15c4-4f79-de3f-c8a1aac0d0e0"
      },
      "outputs": [
        {
          "output_type": "stream",
          "name": "stdout",
          "text": [
            "non    7662\n",
            "oui    2389\n",
            "Name: left_segment, dtype: int64\n"
          ]
        }
      ],
      "source": [
        "count4 = df2['left_segment'].value_counts()\n",
        "print(count4)"
      ]
    },
    {
      "cell_type": "code",
      "execution_count": 20,
      "metadata": {
        "colab": {
          "base_uri": "https://localhost:8080/"
        },
        "id": "kb811k4k0e8V",
        "outputId": "4347dd68-ac3e-4bc4-becf-1b870a0ace78"
      },
      "outputs": [
        {
          "output_type": "stream",
          "name": "stdout",
          "text": [
            "neutral    6980\n",
            "poor       3071\n",
            "Name: satisfaction_segment, dtype: int64\n"
          ]
        }
      ],
      "source": [
        "count4 = df2['satisfaction_segment'].value_counts()\n",
        "print(count4)"
      ]
    },
    {
      "cell_type": "code",
      "execution_count": 21,
      "metadata": {
        "colab": {
          "base_uri": "https://localhost:8080/"
        },
        "id": "2C4_gNTsslNh",
        "outputId": "d2060cf0-209e-4c9d-b1d8-e77dad9aca99"
      },
      "outputs": [
        {
          "output_type": "stream",
          "name": "stdout",
          "text": [
            "0    8573\n",
            "1    1478\n",
            "Name: work_accident, dtype: int64\n"
          ]
        }
      ],
      "source": [
        "count5 = df2['work_accident'].value_counts()\n",
        "print(count5)"
      ]
    },
    {
      "cell_type": "markdown",
      "metadata": {
        "id": "W8qwjoAn5Djf"
      },
      "source": [
        "### *D. L’étendue (minimum, maximum)*\n",
        "\n",
        "L'étendue mesure la dispersion des données dans un échantillon ou une population. C'est la différence entre le plus grand et le plus petit élément d'un ensemble de données :     \n",
        "- **Minimum** est la valeur la plus petite atteinte par une quantité variable ; limite inférieure (s'oppose à maximum).\n",
        "\n",
        "- **Maximum** est la valeur la plus grande atteinte par une quantité variable ; limite supérieure (s'oppose à minimum).\n",
        "\n",
        "L'étendue d'un ensemble de données donne une idée de la variabilité des valeurs dans ce jeu de données. \n",
        "\n",
        "Plus l'étendue est grande, plus les valeurs sont dispersées, et inversement. L'étendue peut être utilisée pour comparer la variabilité entre deux ou plusieurs ensembles de données.\n",
        "\n",
        "Elle est souvent utilisée conjointement avec d'autres mesures de la dispersion des données, telles que la moyenne, la variance et l'écart type.\n",
        "\n",
        "Cette mesure peut donner une idée rapide de la dispersion des données, tandis que ces autres mesures peuvent fournir une description plus détaillée de la dispersion.\n",
        "\n"
      ]
    },
    {
      "cell_type": "code",
      "execution_count": 22,
      "metadata": {
        "colab": {
          "base_uri": "https://localhost:8080/"
        },
        "id": "ceY6TohZclmP",
        "outputId": "8533c0e9-d82f-499d-932b-93f8cbe22b63"
      },
      "outputs": [
        {
          "output_type": "execute_result",
          "data": {
            "text/plain": [
              "satisfaction_level          0.09\n",
              "last_evaluation             0.36\n",
              "number_project                 2\n",
              "average_montly_hours          96\n",
              "time_spend_company             2\n",
              "work_accident                  0\n",
              "promotion_last_5years          0\n",
              "job                           IT\n",
              "salary                      high\n",
              "left                           0\n",
              "satisfaction_segment     neutral\n",
              "left_segment                 non\n",
              "dtype: object"
            ]
          },
          "metadata": {},
          "execution_count": 22
        }
      ],
      "source": [
        "#Calcul du min\n",
        "df2.min(axis=0)"
      ]
    },
    {
      "cell_type": "code",
      "execution_count": 23,
      "metadata": {
        "colab": {
          "base_uri": "https://localhost:8080/"
        },
        "id": "2dYeCwxVcnnm",
        "outputId": "d17a4973-2aac-4567-8077-2c5988702c59"
      },
      "outputs": [
        {
          "output_type": "execute_result",
          "data": {
            "text/plain": [
              "satisfaction_level             1.0\n",
              "last_evaluation                1.0\n",
              "number_project                   7\n",
              "average_montly_hours           310\n",
              "time_spend_company              10\n",
              "work_accident                    1\n",
              "promotion_last_5years            1\n",
              "job                      technical\n",
              "salary                      medium\n",
              "left                             1\n",
              "satisfaction_segment          poor\n",
              "left_segment                   oui\n",
              "dtype: object"
            ]
          },
          "metadata": {},
          "execution_count": 23
        }
      ],
      "source": [
        "#Calcul du max\n",
        "df2.max(axis=0)"
      ]
    },
    {
      "cell_type": "markdown",
      "metadata": {
        "id": "xeq-7CAf5Gi6"
      },
      "source": [
        "### *E. Le percentile*\n",
        "\n",
        "Un percentile est un concept de statistique qui permet de déterminer la position d’une personne par rapport à un groupe donné. Il désigne un niveau dans une distribution de données qui représente la valeur en-dessous de laquelle se trouve un certain pourcentage d'observations. \n",
        "\n",
        "Les percentiles sont utilisés pour décrire la distribution des données et pour effectuer des comparaisons entre les groupes.\n",
        "\n",
        "Le groupe est divisé en 99 parts, chacune correspondant à un centile, c’est-à-dire à 1/100 du groupe: le 1er centile, le 2ème centile, le 3ème centile (…) le 99ème centile.\n",
        "\n",
        "Les percentiles peuvent être calculés à partir de l'ensemble complet des données ou à partir d'un échantillon de données. Ils peuvent également être utilisés pour déterminer la répartition des observations par rapport à une référence, telle qu'une moyenne ou une médiane.\n",
        "\n",
        "Ils sont un outil important en statistiques pour comprendre et décrire la distribution des données et pour effectuer des comparaisons entre les groupes. Ces mesures peuvent fournir une description détaillée de la distribution des données et peuvent être utilisés pour évaluer les tendances et les anomalies dans les données."
      ]
    },
    {
      "cell_type": "code",
      "execution_count": 24,
      "metadata": {
        "colab": {
          "base_uri": "https://localhost:8080/"
        },
        "id": "5BCAaHJH-Lk_",
        "outputId": "f32a99fd-74cc-4831-f161-82a5e4db5e8b"
      },
      "outputs": [
        {
          "output_type": "execute_result",
          "data": {
            "text/plain": [
              "satisfaction_level         0.44\n",
              "last_evaluation            0.56\n",
              "number_project             3.00\n",
              "average_montly_hours     156.00\n",
              "time_spend_company         3.00\n",
              "work_accident              0.00\n",
              "promotion_last_5years      0.00\n",
              "left                       0.00\n",
              "Name: 0.25, dtype: float64"
            ]
          },
          "metadata": {},
          "execution_count": 24
        }
      ],
      "source": [
        "#Trouver le 25ème percentile de chaque colonne\n",
        "df2.quantile(.25)"
      ]
    },
    {
      "cell_type": "code",
      "execution_count": 25,
      "metadata": {
        "colab": {
          "base_uri": "https://localhost:8080/"
        },
        "id": "yZIUjnja_cQi",
        "outputId": "fa1d0f20-7bed-4604-b38e-d7d5d9c2db42"
      },
      "outputs": [
        {
          "output_type": "execute_result",
          "data": {
            "text/plain": [
              "satisfaction_level         0.64\n",
              "last_evaluation            0.72\n",
              "number_project             4.00\n",
              "average_montly_hours     199.00\n",
              "time_spend_company         3.00\n",
              "work_accident              0.00\n",
              "promotion_last_5years      0.00\n",
              "left                       0.00\n",
              "Name: 0.5, dtype: float64"
            ]
          },
          "metadata": {},
          "execution_count": 25
        }
      ],
      "source": [
        "#Trouver le 50ème percentile (median) de chaque colonne\n",
        "df2.quantile(.50)"
      ]
    },
    {
      "cell_type": "code",
      "execution_count": 26,
      "metadata": {
        "colab": {
          "base_uri": "https://localhost:8080/"
        },
        "id": "6vDoGVfD_mFI",
        "outputId": "f6c0fb6a-605f-48a6-cda4-57a4c73fba29"
      },
      "outputs": [
        {
          "output_type": "execute_result",
          "data": {
            "text/plain": [
              "satisfaction_level         0.82\n",
              "last_evaluation            0.87\n",
              "number_project             5.00\n",
              "average_montly_hours     245.00\n",
              "time_spend_company         4.00\n",
              "work_accident              0.00\n",
              "promotion_last_5years      0.00\n",
              "left                       0.00\n",
              "Name: 0.75, dtype: float64"
            ]
          },
          "metadata": {},
          "execution_count": 26
        }
      ],
      "source": [
        "#Trouver le 75ème percentile de chaque colonne\n",
        "df2.quantile(.75)"
      ]
    },
    {
      "cell_type": "markdown",
      "metadata": {
        "id": "eR6Il1kC52hQ"
      },
      "source": [
        "## **Calculer les mesures de tendance centrale ou dispersion et de position:**"
      ]
    },
    {
      "cell_type": "code",
      "execution_count": 27,
      "metadata": {
        "colab": {
          "base_uri": "https://localhost:8080/",
          "height": 361
        },
        "id": "satwzkQk-45l",
        "outputId": "ef6b9b58-49f9-4b27-dad7-1d88d2eb8d70"
      },
      "outputs": [
        {
          "output_type": "execute_result",
          "data": {
            "text/plain": [
              "      satisfaction_level last_evaluation number_project average_montly_hours  \\\n",
              "count           10051.00        10051.00       10051.00             10051.00   \n",
              "mean                0.61            0.72           3.80               200.81   \n",
              "std                 0.25            0.17           1.23                49.78   \n",
              "min                 0.09            0.36           2.00                96.00   \n",
              "25%                 0.44            0.56           3.00               156.00   \n",
              "50%                 0.64            0.72           4.00               199.00   \n",
              "75%                 0.82            0.87           5.00               245.00   \n",
              "max                 1.00            1.00           7.00               310.00   \n",
              "\n",
              "      time_spend_company work_accident promotion_last_5years      left  \n",
              "count           10051.00      10051.00              10051.00  10051.00  \n",
              "mean                3.51          0.15                  0.02      0.24  \n",
              "std                 1.48          0.35                  0.14      0.43  \n",
              "min                 2.00          0.00                  0.00      0.00  \n",
              "25%                 3.00          0.00                  0.00      0.00  \n",
              "50%                 3.00          0.00                  0.00      0.00  \n",
              "75%                 4.00          0.00                  0.00      0.00  \n",
              "max                10.00          1.00                  1.00      1.00  "
            ],
            "text/html": [
              "\n",
              "  <div id=\"df-15aff7c2-ee28-4d0e-a84e-cc92633b0dbf\">\n",
              "    <div class=\"colab-df-container\">\n",
              "      <div>\n",
              "<style scoped>\n",
              "    .dataframe tbody tr th:only-of-type {\n",
              "        vertical-align: middle;\n",
              "    }\n",
              "\n",
              "    .dataframe tbody tr th {\n",
              "        vertical-align: top;\n",
              "    }\n",
              "\n",
              "    .dataframe thead th {\n",
              "        text-align: right;\n",
              "    }\n",
              "</style>\n",
              "<table border=\"1\" class=\"dataframe\">\n",
              "  <thead>\n",
              "    <tr style=\"text-align: right;\">\n",
              "      <th></th>\n",
              "      <th>satisfaction_level</th>\n",
              "      <th>last_evaluation</th>\n",
              "      <th>number_project</th>\n",
              "      <th>average_montly_hours</th>\n",
              "      <th>time_spend_company</th>\n",
              "      <th>work_accident</th>\n",
              "      <th>promotion_last_5years</th>\n",
              "      <th>left</th>\n",
              "    </tr>\n",
              "  </thead>\n",
              "  <tbody>\n",
              "    <tr>\n",
              "      <th>count</th>\n",
              "      <td>10051.00</td>\n",
              "      <td>10051.00</td>\n",
              "      <td>10051.00</td>\n",
              "      <td>10051.00</td>\n",
              "      <td>10051.00</td>\n",
              "      <td>10051.00</td>\n",
              "      <td>10051.00</td>\n",
              "      <td>10051.00</td>\n",
              "    </tr>\n",
              "    <tr>\n",
              "      <th>mean</th>\n",
              "      <td>0.61</td>\n",
              "      <td>0.72</td>\n",
              "      <td>3.80</td>\n",
              "      <td>200.81</td>\n",
              "      <td>3.51</td>\n",
              "      <td>0.15</td>\n",
              "      <td>0.02</td>\n",
              "      <td>0.24</td>\n",
              "    </tr>\n",
              "    <tr>\n",
              "      <th>std</th>\n",
              "      <td>0.25</td>\n",
              "      <td>0.17</td>\n",
              "      <td>1.23</td>\n",
              "      <td>49.78</td>\n",
              "      <td>1.48</td>\n",
              "      <td>0.35</td>\n",
              "      <td>0.14</td>\n",
              "      <td>0.43</td>\n",
              "    </tr>\n",
              "    <tr>\n",
              "      <th>min</th>\n",
              "      <td>0.09</td>\n",
              "      <td>0.36</td>\n",
              "      <td>2.00</td>\n",
              "      <td>96.00</td>\n",
              "      <td>2.00</td>\n",
              "      <td>0.00</td>\n",
              "      <td>0.00</td>\n",
              "      <td>0.00</td>\n",
              "    </tr>\n",
              "    <tr>\n",
              "      <th>25%</th>\n",
              "      <td>0.44</td>\n",
              "      <td>0.56</td>\n",
              "      <td>3.00</td>\n",
              "      <td>156.00</td>\n",
              "      <td>3.00</td>\n",
              "      <td>0.00</td>\n",
              "      <td>0.00</td>\n",
              "      <td>0.00</td>\n",
              "    </tr>\n",
              "    <tr>\n",
              "      <th>50%</th>\n",
              "      <td>0.64</td>\n",
              "      <td>0.72</td>\n",
              "      <td>4.00</td>\n",
              "      <td>199.00</td>\n",
              "      <td>3.00</td>\n",
              "      <td>0.00</td>\n",
              "      <td>0.00</td>\n",
              "      <td>0.00</td>\n",
              "    </tr>\n",
              "    <tr>\n",
              "      <th>75%</th>\n",
              "      <td>0.82</td>\n",
              "      <td>0.87</td>\n",
              "      <td>5.00</td>\n",
              "      <td>245.00</td>\n",
              "      <td>4.00</td>\n",
              "      <td>0.00</td>\n",
              "      <td>0.00</td>\n",
              "      <td>0.00</td>\n",
              "    </tr>\n",
              "    <tr>\n",
              "      <th>max</th>\n",
              "      <td>1.00</td>\n",
              "      <td>1.00</td>\n",
              "      <td>7.00</td>\n",
              "      <td>310.00</td>\n",
              "      <td>10.00</td>\n",
              "      <td>1.00</td>\n",
              "      <td>1.00</td>\n",
              "      <td>1.00</td>\n",
              "    </tr>\n",
              "  </tbody>\n",
              "</table>\n",
              "</div>\n",
              "      <button class=\"colab-df-convert\" onclick=\"convertToInteractive('df-15aff7c2-ee28-4d0e-a84e-cc92633b0dbf')\"\n",
              "              title=\"Convert this dataframe to an interactive table.\"\n",
              "              style=\"display:none;\">\n",
              "        \n",
              "  <svg xmlns=\"http://www.w3.org/2000/svg\" height=\"24px\"viewBox=\"0 0 24 24\"\n",
              "       width=\"24px\">\n",
              "    <path d=\"M0 0h24v24H0V0z\" fill=\"none\"/>\n",
              "    <path d=\"M18.56 5.44l.94 2.06.94-2.06 2.06-.94-2.06-.94-.94-2.06-.94 2.06-2.06.94zm-11 1L8.5 8.5l.94-2.06 2.06-.94-2.06-.94L8.5 2.5l-.94 2.06-2.06.94zm10 10l.94 2.06.94-2.06 2.06-.94-2.06-.94-.94-2.06-.94 2.06-2.06.94z\"/><path d=\"M17.41 7.96l-1.37-1.37c-.4-.4-.92-.59-1.43-.59-.52 0-1.04.2-1.43.59L10.3 9.45l-7.72 7.72c-.78.78-.78 2.05 0 2.83L4 21.41c.39.39.9.59 1.41.59.51 0 1.02-.2 1.41-.59l7.78-7.78 2.81-2.81c.8-.78.8-2.07 0-2.86zM5.41 20L4 18.59l7.72-7.72 1.47 1.35L5.41 20z\"/>\n",
              "  </svg>\n",
              "      </button>\n",
              "      \n",
              "  <style>\n",
              "    .colab-df-container {\n",
              "      display:flex;\n",
              "      flex-wrap:wrap;\n",
              "      gap: 12px;\n",
              "    }\n",
              "\n",
              "    .colab-df-convert {\n",
              "      background-color: #E8F0FE;\n",
              "      border: none;\n",
              "      border-radius: 50%;\n",
              "      cursor: pointer;\n",
              "      display: none;\n",
              "      fill: #1967D2;\n",
              "      height: 32px;\n",
              "      padding: 0 0 0 0;\n",
              "      width: 32px;\n",
              "    }\n",
              "\n",
              "    .colab-df-convert:hover {\n",
              "      background-color: #E2EBFA;\n",
              "      box-shadow: 0px 1px 2px rgba(60, 64, 67, 0.3), 0px 1px 3px 1px rgba(60, 64, 67, 0.15);\n",
              "      fill: #174EA6;\n",
              "    }\n",
              "\n",
              "    [theme=dark] .colab-df-convert {\n",
              "      background-color: #3B4455;\n",
              "      fill: #D2E3FC;\n",
              "    }\n",
              "\n",
              "    [theme=dark] .colab-df-convert:hover {\n",
              "      background-color: #434B5C;\n",
              "      box-shadow: 0px 1px 3px 1px rgba(0, 0, 0, 0.15);\n",
              "      filter: drop-shadow(0px 1px 2px rgba(0, 0, 0, 0.3));\n",
              "      fill: #FFFFFF;\n",
              "    }\n",
              "  </style>\n",
              "\n",
              "      <script>\n",
              "        const buttonEl =\n",
              "          document.querySelector('#df-15aff7c2-ee28-4d0e-a84e-cc92633b0dbf button.colab-df-convert');\n",
              "        buttonEl.style.display =\n",
              "          google.colab.kernel.accessAllowed ? 'block' : 'none';\n",
              "\n",
              "        async function convertToInteractive(key) {\n",
              "          const element = document.querySelector('#df-15aff7c2-ee28-4d0e-a84e-cc92633b0dbf');\n",
              "          const dataTable =\n",
              "            await google.colab.kernel.invokeFunction('convertToInteractive',\n",
              "                                                     [key], {});\n",
              "          if (!dataTable) return;\n",
              "\n",
              "          const docLinkHtml = 'Like what you see? Visit the ' +\n",
              "            '<a target=\"_blank\" href=https://colab.research.google.com/notebooks/data_table.ipynb>data table notebook</a>'\n",
              "            + ' to learn more about interactive tables.';\n",
              "          element.innerHTML = '';\n",
              "          dataTable['output_type'] = 'display_data';\n",
              "          await google.colab.output.renderOutput(dataTable, element);\n",
              "          const docLink = document.createElement('div');\n",
              "          docLink.innerHTML = docLinkHtml;\n",
              "          element.appendChild(docLink);\n",
              "        }\n",
              "      </script>\n",
              "    </div>\n",
              "  </div>\n",
              "  "
            ]
          },
          "metadata": {},
          "execution_count": 27
        }
      ],
      "source": [
        "# la fonction .describe() permet d'identifier la moyenne, médiane, variance, percentile, écart-type d'un jeu de donnée\n",
        "#applymap('{:.2f}'.format) >>> arrondiir à 2 chiffres après la virgule \n",
        "df2.describe().applymap('{:.2f}'.format)"
      ]
    },
    {
      "cell_type": "code",
      "execution_count": 28,
      "metadata": {
        "colab": {
          "base_uri": "https://localhost:8080/",
          "height": 173
        },
        "id": "gs55wdF7Ooyc",
        "outputId": "51fe79f4-00cf-4b2d-8494-f9684119376e"
      },
      "outputs": [
        {
          "output_type": "execute_result",
          "data": {
            "text/plain": [
              "          job salary satisfaction_segment left_segment\n",
              "count   10051  10051                10051        10051\n",
              "unique     10      3                    2            2\n",
              "top     sales    low              neutral          non\n",
              "freq     2816   4899                 6980         7662"
            ],
            "text/html": [
              "\n",
              "  <div id=\"df-bb7ffa66-5e29-415b-ac43-686519ec85cf\">\n",
              "    <div class=\"colab-df-container\">\n",
              "      <div>\n",
              "<style scoped>\n",
              "    .dataframe tbody tr th:only-of-type {\n",
              "        vertical-align: middle;\n",
              "    }\n",
              "\n",
              "    .dataframe tbody tr th {\n",
              "        vertical-align: top;\n",
              "    }\n",
              "\n",
              "    .dataframe thead th {\n",
              "        text-align: right;\n",
              "    }\n",
              "</style>\n",
              "<table border=\"1\" class=\"dataframe\">\n",
              "  <thead>\n",
              "    <tr style=\"text-align: right;\">\n",
              "      <th></th>\n",
              "      <th>job</th>\n",
              "      <th>salary</th>\n",
              "      <th>satisfaction_segment</th>\n",
              "      <th>left_segment</th>\n",
              "    </tr>\n",
              "  </thead>\n",
              "  <tbody>\n",
              "    <tr>\n",
              "      <th>count</th>\n",
              "      <td>10051</td>\n",
              "      <td>10051</td>\n",
              "      <td>10051</td>\n",
              "      <td>10051</td>\n",
              "    </tr>\n",
              "    <tr>\n",
              "      <th>unique</th>\n",
              "      <td>10</td>\n",
              "      <td>3</td>\n",
              "      <td>2</td>\n",
              "      <td>2</td>\n",
              "    </tr>\n",
              "    <tr>\n",
              "      <th>top</th>\n",
              "      <td>sales</td>\n",
              "      <td>low</td>\n",
              "      <td>neutral</td>\n",
              "      <td>non</td>\n",
              "    </tr>\n",
              "    <tr>\n",
              "      <th>freq</th>\n",
              "      <td>2816</td>\n",
              "      <td>4899</td>\n",
              "      <td>6980</td>\n",
              "      <td>7662</td>\n",
              "    </tr>\n",
              "  </tbody>\n",
              "</table>\n",
              "</div>\n",
              "      <button class=\"colab-df-convert\" onclick=\"convertToInteractive('df-bb7ffa66-5e29-415b-ac43-686519ec85cf')\"\n",
              "              title=\"Convert this dataframe to an interactive table.\"\n",
              "              style=\"display:none;\">\n",
              "        \n",
              "  <svg xmlns=\"http://www.w3.org/2000/svg\" height=\"24px\"viewBox=\"0 0 24 24\"\n",
              "       width=\"24px\">\n",
              "    <path d=\"M0 0h24v24H0V0z\" fill=\"none\"/>\n",
              "    <path d=\"M18.56 5.44l.94 2.06.94-2.06 2.06-.94-2.06-.94-.94-2.06-.94 2.06-2.06.94zm-11 1L8.5 8.5l.94-2.06 2.06-.94-2.06-.94L8.5 2.5l-.94 2.06-2.06.94zm10 10l.94 2.06.94-2.06 2.06-.94-2.06-.94-.94-2.06-.94 2.06-2.06.94z\"/><path d=\"M17.41 7.96l-1.37-1.37c-.4-.4-.92-.59-1.43-.59-.52 0-1.04.2-1.43.59L10.3 9.45l-7.72 7.72c-.78.78-.78 2.05 0 2.83L4 21.41c.39.39.9.59 1.41.59.51 0 1.02-.2 1.41-.59l7.78-7.78 2.81-2.81c.8-.78.8-2.07 0-2.86zM5.41 20L4 18.59l7.72-7.72 1.47 1.35L5.41 20z\"/>\n",
              "  </svg>\n",
              "      </button>\n",
              "      \n",
              "  <style>\n",
              "    .colab-df-container {\n",
              "      display:flex;\n",
              "      flex-wrap:wrap;\n",
              "      gap: 12px;\n",
              "    }\n",
              "\n",
              "    .colab-df-convert {\n",
              "      background-color: #E8F0FE;\n",
              "      border: none;\n",
              "      border-radius: 50%;\n",
              "      cursor: pointer;\n",
              "      display: none;\n",
              "      fill: #1967D2;\n",
              "      height: 32px;\n",
              "      padding: 0 0 0 0;\n",
              "      width: 32px;\n",
              "    }\n",
              "\n",
              "    .colab-df-convert:hover {\n",
              "      background-color: #E2EBFA;\n",
              "      box-shadow: 0px 1px 2px rgba(60, 64, 67, 0.3), 0px 1px 3px 1px rgba(60, 64, 67, 0.15);\n",
              "      fill: #174EA6;\n",
              "    }\n",
              "\n",
              "    [theme=dark] .colab-df-convert {\n",
              "      background-color: #3B4455;\n",
              "      fill: #D2E3FC;\n",
              "    }\n",
              "\n",
              "    [theme=dark] .colab-df-convert:hover {\n",
              "      background-color: #434B5C;\n",
              "      box-shadow: 0px 1px 3px 1px rgba(0, 0, 0, 0.15);\n",
              "      filter: drop-shadow(0px 1px 2px rgba(0, 0, 0, 0.3));\n",
              "      fill: #FFFFFF;\n",
              "    }\n",
              "  </style>\n",
              "\n",
              "      <script>\n",
              "        const buttonEl =\n",
              "          document.querySelector('#df-bb7ffa66-5e29-415b-ac43-686519ec85cf button.colab-df-convert');\n",
              "        buttonEl.style.display =\n",
              "          google.colab.kernel.accessAllowed ? 'block' : 'none';\n",
              "\n",
              "        async function convertToInteractive(key) {\n",
              "          const element = document.querySelector('#df-bb7ffa66-5e29-415b-ac43-686519ec85cf');\n",
              "          const dataTable =\n",
              "            await google.colab.kernel.invokeFunction('convertToInteractive',\n",
              "                                                     [key], {});\n",
              "          if (!dataTable) return;\n",
              "\n",
              "          const docLinkHtml = 'Like what you see? Visit the ' +\n",
              "            '<a target=\"_blank\" href=https://colab.research.google.com/notebooks/data_table.ipynb>data table notebook</a>'\n",
              "            + ' to learn more about interactive tables.';\n",
              "          element.innerHTML = '';\n",
              "          dataTable['output_type'] = 'display_data';\n",
              "          await google.colab.output.renderOutput(dataTable, element);\n",
              "          const docLink = document.createElement('div');\n",
              "          docLink.innerHTML = docLinkHtml;\n",
              "          element.appendChild(docLink);\n",
              "        }\n",
              "      </script>\n",
              "    </div>\n",
              "  </div>\n",
              "  "
            ]
          },
          "metadata": {},
          "execution_count": 28
        }
      ],
      "source": [
        "# l'ajout describe(include=[object]) permet d'identifier uniquement pour les valeurs de type 'objet' :\n",
        "#top/mode > la valeur la plus courante\n",
        "#freq > la fréquence de la valeur la plus courante\n",
        "#unique > le nombre de modalité possible dans la colonne (le nombre de choix possibles)\n",
        "df2.describe(include=[object])"
      ]
    },
    {
      "cell_type": "markdown",
      "metadata": {
        "id": "bTXhHDs8ewLA"
      },
      "source": [
        "## **Présentation graphique via PowerBI**"
      ]
    },
    {
      "cell_type": "code",
      "execution_count": 29,
      "metadata": {
        "colab": {
          "base_uri": "https://localhost:8080/",
          "height": 297
        },
        "id": "B5QXyX5JYAiv",
        "outputId": "23d016f2-d567-4f01-dda6-5ddfb470153d"
      },
      "outputs": [
        {
          "output_type": "execute_result",
          "data": {
            "text/plain": [
              "<matplotlib.axes._subplots.AxesSubplot at 0x7f8b491fa790>"
            ]
          },
          "metadata": {},
          "execution_count": 29
        },
        {
          "output_type": "display_data",
          "data": {
            "text/plain": [
              "<Figure size 432x288 with 1 Axes>"
            ],
            "image/png": "[encoded data removed]"
          },
          "metadata": {
            "needs_background": "light"
          }
        }
      ],
      "source": [
        "#Représentation graphique de la variable satisfaction_level\n",
        "sns.histplot(df2[\"satisfaction_level\"])"
      ]
    },
    {
      "cell_type": "markdown",
      "metadata": {
        "id": "_L6yRPh53Z1R"
      },
      "source": [
        "***Commentaire :*** \n",
        "\n",
        "Ce graphique représente le niveau de satisfaction des utilisateurs au travail. \n",
        "\n",
        "On remarque que les notes sont hétérogènes : la densité obeservée montre des notes comprises dans l'intervalle [0;1]. \n",
        "- Une partie de cette densité montre que certains collaborateurs sont insatisfaits (notes comprises dans [0;0,5]) tandis que d'autres le sont (notes comprises dans l'intervalle [0,5;1]). \n",
        "- La densité se révèle assez faible en ce qui concerne les notes inférieures à 0,5 contrairement aux notes supérieures à 0,5 : globalement, on peut donc en déduire que la majorité des collaborateurs sont satisfaits.\n",
        "\n"
      ]
    },
    {
      "cell_type": "code",
      "execution_count": 30,
      "metadata": {
        "colab": {
          "base_uri": "https://localhost:8080/",
          "height": 297
        },
        "id": "PbZ10khZTkQv",
        "outputId": "ffdf50fb-e9ff-47d6-fbac-50bd8eb2ba28"
      },
      "outputs": [
        {
          "output_type": "execute_result",
          "data": {
            "text/plain": [
              "<matplotlib.axes._subplots.AxesSubplot at 0x7f8b490a7100>"
            ]
          },
          "metadata": {},
          "execution_count": 30
        },
        {
          "output_type": "display_data",
          "data": {
            "text/plain": [
              "<Figure size 432x288 with 1 Axes>"
            ],
            "image/png": "[encoded data removed]"
          },
          "metadata": {
            "needs_background": "light"
          }
        }
      ],
      "source": [
        "#Représentation graphique de la variable last_evaluation\n",
        "sns.histplot(df2[\"last_evaluation\"])"
      ]
    },
    {
      "cell_type": "markdown",
      "metadata": {
        "id": "gKeI6tlG5ZCl"
      },
      "source": [
        "***Commentaire :*** \n",
        "\n",
        "Ce second graphique montre le niveau de satisfaction des collaborateurs lors de l’évaluation précédente. \n",
        "\n",
        "- On note un pic du niveau de satisfaction des employés entre 0,5 et 0,6 puis un second à 0,9. \n",
        "- Les notes les plus basses sont peu nombreuses et tournent autour de 0,3. \n",
        "- Globalement, la satisfaction est assez forte : la densité révélant une densité importante dés la note de 0,5 et se poursuivant jusque la note de 1. "
      ]
    },
    {
      "cell_type": "code",
      "execution_count": 31,
      "metadata": {
        "colab": {
          "base_uri": "https://localhost:8080/",
          "height": 297
        },
        "id": "fwCd06s_YCKP",
        "outputId": "58f0289f-b980-4914-b95e-c150ee0fcd41"
      },
      "outputs": [
        {
          "output_type": "execute_result",
          "data": {
            "text/plain": [
              "<matplotlib.axes._subplots.AxesSubplot at 0x7f8b490a73a0>"
            ]
          },
          "metadata": {},
          "execution_count": 31
        },
        {
          "output_type": "display_data",
          "data": {
            "text/plain": [
              "<Figure size 432x288 with 1 Axes>"
            ],
            "image/png": "[encoded data removed]"
          },
          "metadata": {
            "needs_background": "light"
          }
        }
      ],
      "source": [
        "#Représentation graphique de la variable number_project\n",
        "sns.histplot(df2[\"number_project\"])"
      ]
    },
    {
      "cell_type": "markdown",
      "metadata": {
        "id": "obhvBSCZ8zkB"
      },
      "source": [
        "***Commentaire :*** \n",
        "\n",
        "Ce graphique décompte le nombre de projets portés par les employés. \n",
        "On remarque que le nombre de projet est très variable : les pics les plus importants impliquent les collaborateurs portent majoritairement entre 3 et 4 projets (il s'agit d'environ 5500 employés au total *-environ 2600 employés portent 3 projets et 2900, 4 projets-* soit plus 50% de la totalité des employés (environ 10 000 personnes)). \n"
      ]
    },
    {
      "cell_type": "code",
      "execution_count": 32,
      "metadata": {
        "colab": {
          "base_uri": "https://localhost:8080/",
          "height": 297
        },
        "id": "W0FQi5stYFVb",
        "outputId": "014e31d6-9a85-4bab-8227-93cde6b3b1fc"
      },
      "outputs": [
        {
          "output_type": "execute_result",
          "data": {
            "text/plain": [
              "<matplotlib.axes._subplots.AxesSubplot at 0x7f8b48b1e220>"
            ]
          },
          "metadata": {},
          "execution_count": 32
        },
        {
          "output_type": "display_data",
          "data": {
            "text/plain": [
              "<Figure size 432x288 with 1 Axes>"
            ],
            "image/png": "[encoded data removed]"
          },
          "metadata": {
            "needs_background": "light"
          }
        }
      ],
      "source": [
        "#Représentation graphique de la variable average_montly_hours\n",
        "sns.histplot(df2[\"average_montly_hours\"])"
      ]
    },
    {
      "cell_type": "markdown",
      "metadata": {
        "id": "H-UsB-Dm1k4P"
      },
      "source": [
        "***Commentaire :*** \n",
        "\n",
        "Ce graphique montre le nombre d'heures mensuelles travaillées par les employés. \n",
        "\n",
        "- On note deux pics aux alentours de 120-150h et 270-280h. \n",
        "\n",
        "- Par ailleurs, la plupart des heures effectuées par les salariés sont généralement comprises entre ces valeurs, soit l'intervalle [120;280] : très peu d'employés font moins que 120h et plus que 280h."
      ]
    },
    {
      "cell_type": "code",
      "execution_count": 33,
      "metadata": {
        "colab": {
          "base_uri": "https://localhost:8080/",
          "height": 297
        },
        "id": "aEAwSyFATsbF",
        "outputId": "bf159c75-61fd-44fe-9d62-69f0b2a967fc"
      },
      "outputs": [
        {
          "output_type": "execute_result",
          "data": {
            "text/plain": [
              "<matplotlib.axes._subplots.AxesSubplot at 0x7f8b48a974c0>"
            ]
          },
          "metadata": {},
          "execution_count": 33
        },
        {
          "output_type": "display_data",
          "data": {
            "text/plain": [
              "<Figure size 432x288 with 1 Axes>"
            ],
            "image/png": "[encoded data removed]"
          },
          "metadata": {
            "needs_background": "light"
          }
        }
      ],
      "source": [
        "#Représentation graphique de la variable time_spend_company\n",
        "sns.histplot(df2[\"time_spend_company\"])"
      ]
    },
    {
      "cell_type": "markdown",
      "metadata": {
        "id": "jH9PYVn01rFH"
      },
      "source": [
        "***Commentaire :*** \n",
        "\n",
        "Ce graphique représente le nombre moyen d'années passées par un collaborateur dans l'entreprise. \n",
        "\n",
        "- Il démontre que, les employés restent, en général plus ou moins 3 ans.\n",
        "\n",
        "- Autrement, les employés restant le moins longtemps, quittent la société au bout de 2 ans. \n",
        "\n",
        "- Au contraire ils quittent la société lorsqu'ils atteignent 4, 5, ou 6 ans et plus rarement au bout de 8 ou 10 ans."
      ]
    },
    {
      "cell_type": "code",
      "execution_count": 34,
      "metadata": {
        "colab": {
          "base_uri": "https://localhost:8080/",
          "height": 297
        },
        "id": "MTXNwdQV15Ii",
        "outputId": "ac7e0749-c359-4674-ced2-19471d7533ff"
      },
      "outputs": [
        {
          "output_type": "execute_result",
          "data": {
            "text/plain": [
              "<matplotlib.axes._subplots.AxesSubplot at 0x7f8b4895ffd0>"
            ]
          },
          "metadata": {},
          "execution_count": 34
        },
        {
          "output_type": "display_data",
          "data": {
            "text/plain": [
              "<Figure size 432x288 with 1 Axes>"
            ],
            "image/png": "[encoded data removed]"
          },
          "metadata": {
            "needs_background": "light"
          }
        }
      ],
      "source": [
        "#Représentation graphique de la variable work_accident\n",
        "sns.histplot(df2[\"work_accident\"])"
      ]
    },
    {
      "cell_type": "markdown",
      "metadata": {
        "id": "RqqdKiMCsMAn"
      },
      "source": [
        "***Commentaire :*** \n",
        "\n",
        "Ce graphique représente le nombre d'accident de travail dans l'entreprise. \n",
        "\n",
        "En termes de proportions, selon les densités représentées :\n",
        "\n",
        "- on note que le nombre d'accidents est assez faible (au niveau de 1, signifiant qu'il y a eu un accident): 1478 accidents ont eu lieu sur les 10 000 employés. \n",
        "\n",
        "- pour appuyer cet argument, la densité au niveau du 0 signifant qu'il n'y a pas eu d'accident est beaucoup plus volumineuse montrant que la plupart des employés n'a pas subi d'accident (plus de 75% des employés). Toutefois, le nombre d'accidents n'est pas nul.\n"
      ]
    },
    {
      "cell_type": "code",
      "execution_count": 35,
      "metadata": {
        "colab": {
          "base_uri": "https://localhost:8080/",
          "height": 358
        },
        "id": "mHNDbE012_Sh",
        "outputId": "f3077ac6-a6ac-4d25-9cdd-27cd387bf673"
      },
      "outputs": [
        {
          "output_type": "execute_result",
          "data": {
            "text/plain": [
              "([0, 1, 2, 3, 4, 5, 6, 7, 8, 9], <a list of 10 Text major ticklabel objects>)"
            ]
          },
          "metadata": {},
          "execution_count": 35
        },
        {
          "output_type": "display_data",
          "data": {
            "text/plain": [
              "<Figure size 432x288 with 1 Axes>"
            ],
            "image/png": "[encoded data removed]"
          },
          "metadata": {
            "needs_background": "light"
          }
        }
      ],
      "source": [
        "#Représentation graphique de la variable job\n",
        "sns.histplot(df2[\"job\"])\n",
        "plt.xticks(rotation=-45)"
      ]
    },
    {
      "cell_type": "markdown",
      "metadata": {
        "id": "GW5PeEtitX5j"
      },
      "source": [
        "***Commentaire :*** \n",
        "\n",
        "Ce graphique représentant le volume des collaborateurs par services dans l'entreprise montre que le service \"sales\" compte l'effectif le plus important de collaborateurs (plus de 2 500 personnes). Il est suivi par le service \"technical\" (environ 1 750 personnes), puis celui du \"support\" (environ 1 500 personnes). "
      ]
    },
    {
      "cell_type": "code",
      "execution_count": 36,
      "metadata": {
        "colab": {
          "base_uri": "https://localhost:8080/",
          "height": 296
        },
        "id": "OApSr6Y4Rmv4",
        "outputId": "346f9db2-e7ea-4267-fea9-a4105b72b6d6"
      },
      "outputs": [
        {
          "output_type": "execute_result",
          "data": {
            "text/plain": [
              "<matplotlib.axes._subplots.AxesSubplot at 0x7f8b489b9e80>"
            ]
          },
          "metadata": {},
          "execution_count": 36
        },
        {
          "output_type": "display_data",
          "data": {
            "text/plain": [
              "<Figure size 432x288 with 1 Axes>"
            ],
            "image/png": "[encoded data removed]"
          },
          "metadata": {
            "needs_background": "light"
          }
        }
      ],
      "source": [
        "#Représentation graphique de la variable salary\n",
        "sns.histplot(df2[\"salary\"])"
      ]
    },
    {
      "cell_type": "markdown",
      "metadata": {
        "id": "MgOuO9oaRsMw"
      },
      "source": [
        "***Commentaire :*** \n",
        "\n",
        "Ce graphique représente les niveau de salaires des collaborateurs de l'entreprise.\n",
        "\n",
        "- Les salaires les moins importants sont attribués à une grande partie des employés (environ 50% de la globalité des collaborateurs). \n",
        "- Les salaires moyens vont à 40% des salariés. \n",
        "- Les salaires les plus hauts sont attribués à 10% des employés. "
      ]
    },
    {
      "cell_type": "markdown",
      "metadata": {
        "id": "3tomG5KJgtYY"
      },
      "source": [
        "## **Chapitre 2 : Exploration les données**"
      ]
    },
    {
      "cell_type": "markdown",
      "metadata": {
        "id": "5XuXQxsMg5pX"
      },
      "source": [
        "## I. Comparer des variables "
      ]
    },
    {
      "cell_type": "markdown",
      "metadata": {
        "id": "CRaZEKNiHboj"
      },
      "source": [
        "### *A.Tableau de corrélation*\n"
      ]
    },
    {
      "cell_type": "markdown",
      "metadata": {
        "id": "w_xYhJYGZRV8"
      },
      "source": [
        "Une variable numérique est un type de donnée représentant une valeur numérique telle qu’un entier ou un décimal. \n",
        "\n",
        "Elles sont souvent utilisées dans les opérations mathématiques et l’analyse statistique. On les retrouve également dans les langages de programmation (R, Python et Java).\n",
        "\n",
        "Exemples : \n",
        "- Âge \n",
        "- Poids \n",
        "- Température\n",
        "\n",
        "Le tableau de corrélation présente les coefficients entre plusieurs variables. Chaque ligne et colonne du tableau représente une variable différente. \n",
        "Quant aux cellules, elles représentent l’intersection entre ces variables et renvoient le coefficient de corrélation entre ces variables. \n",
        "\n",
        "Le coefficient de corrélation est une valeur comprise entre -1 et 1 qui indique la force et la direction de la relation entre les deux variables. Un coefficient de corrélation de 1 indique une corrélation positive parfaite (lorsqu'une variable augmente, l'autre augmente également). Tandis qu’un coefficient de -1 indique une corrélation négative parfaite (lorsqu'une variable augmente, l'autre diminue) et un coefficient de 0 renvoie une corrélation nulle.\n",
        "\n",
        "Les tables de corrélation sont souvent utilisées dans les statistiques et l'analyse des données pour identifier rapidement la relation entre différentes variables.\n"
      ]
    },
    {
      "cell_type": "code",
      "execution_count": 37,
      "metadata": {
        "colab": {
          "base_uri": "https://localhost:8080/"
        },
        "id": "11viUTQ7JEVq",
        "outputId": "1ac8e65b-a4c6-4621-bbde-03aabf6ce260"
      },
      "outputs": [
        {
          "output_type": "stream",
          "name": "stdout",
          "text": [
            "0.42165714172381863\n"
          ]
        }
      ],
      "source": [
        "#Correlation (Pearson) entre deux variables quantitatives d'un DataFrame\n",
        "corr=df2['number_project'].corr(df2['average_montly_hours'])\n",
        "print(corr)"
      ]
    },
    {
      "cell_type": "markdown",
      "metadata": {
        "id": "efAApdMMuNeB"
      },
      "source": [
        "***Commentaire :*** \n",
        "\n",
        "Le coefficient de corrélation entre les variables \"number_projet\" et \"average_montly_hours\" est positif et est de 0,42.\n",
        "\n",
        "Cela montre que ces deux variable ssont positivement corélées : si la première variable augmente, la seconde augmente également. Autrement dit, plus le nombre de projets augmente, plus le nombre d'heures travaillées augmente. "
      ]
    },
    {
      "cell_type": "code",
      "execution_count": 38,
      "metadata": {
        "colab": {
          "base_uri": "https://localhost:8080/",
          "height": 361
        },
        "id": "gDjwXUhN6S-X",
        "outputId": "acbee1ee-4244-4bec-adf2-34469a9e42d6"
      },
      "outputs": [
        {
          "output_type": "execute_result",
          "data": {
            "text/plain": [
              "                       satisfaction_level  last_evaluation  number_project  \\\n",
              "satisfaction_level               1.000000         0.097477       -0.151525   \n",
              "last_evaluation                  0.097477         1.000000        0.349590   \n",
              "number_project                  -0.151525         0.349590        1.000000   \n",
              "average_montly_hours            -0.018748         0.335761        0.421657   \n",
              "time_spend_company              -0.103022         0.124500        0.190412   \n",
              "work_accident                    0.059217        -0.011473       -0.001434   \n",
              "promotion_last_5years            0.024537        -0.012958       -0.004764   \n",
              "left                            -0.388664         0.015700        0.039495   \n",
              "\n",
              "                       average_montly_hours  time_spend_company  \\\n",
              "satisfaction_level                -0.018748           -0.103022   \n",
              "last_evaluation                    0.335761            0.124500   \n",
              "number_project                     0.421657            0.190412   \n",
              "average_montly_hours               1.000000            0.121405   \n",
              "time_spend_company                 0.121405            1.000000   \n",
              "work_accident                     -0.017560            0.007845   \n",
              "promotion_last_5years             -0.009389            0.071622   \n",
              "left                               0.082652            0.141676   \n",
              "\n",
              "                       work_accident  promotion_last_5years      left  \n",
              "satisfaction_level          0.059217               0.024537 -0.388664  \n",
              "last_evaluation            -0.011473              -0.012958  0.015700  \n",
              "number_project             -0.001434              -0.004764  0.039495  \n",
              "average_montly_hours       -0.017560              -0.009389  0.082652  \n",
              "time_spend_company          0.007845               0.071622  0.141676  \n",
              "work_accident               1.000000               0.032622 -0.155293  \n",
              "promotion_last_5years       0.032622               1.000000 -0.061647  \n",
              "left                       -0.155293              -0.061647  1.000000  "
            ],
            "text/html": [
              "\n",
              "  <div id=\"df-19cbd901-2c91-40d6-95f8-5e512a9ffe8a\">\n",
              "    <div class=\"colab-df-container\">\n",
              "      <div>\n",
              "<style scoped>\n",
              "    .dataframe tbody tr th:only-of-type {\n",
              "        vertical-align: middle;\n",
              "    }\n",
              "\n",
              "    .dataframe tbody tr th {\n",
              "        vertical-align: top;\n",
              "    }\n",
              "\n",
              "    .dataframe thead th {\n",
              "        text-align: right;\n",
              "    }\n",
              "</style>\n",
              "<table border=\"1\" class=\"dataframe\">\n",
              "  <thead>\n",
              "    <tr style=\"text-align: right;\">\n",
              "      <th></th>\n",
              "      <th>satisfaction_level</th>\n",
              "      <th>last_evaluation</th>\n",
              "      <th>number_project</th>\n",
              "      <th>average_montly_hours</th>\n",
              "      <th>time_spend_company</th>\n",
              "      <th>work_accident</th>\n",
              "      <th>promotion_last_5years</th>\n",
              "      <th>left</th>\n",
              "    </tr>\n",
              "  </thead>\n",
              "  <tbody>\n",
              "    <tr>\n",
              "      <th>satisfaction_level</th>\n",
              "      <td>1.000000</td>\n",
              "      <td>0.097477</td>\n",
              "      <td>-0.151525</td>\n",
              "      <td>-0.018748</td>\n",
              "      <td>-0.103022</td>\n",
              "      <td>0.059217</td>\n",
              "      <td>0.024537</td>\n",
              "      <td>-0.388664</td>\n",
              "    </tr>\n",
              "    <tr>\n",
              "      <th>last_evaluation</th>\n",
              "      <td>0.097477</td>\n",
              "      <td>1.000000</td>\n",
              "      <td>0.349590</td>\n",
              "      <td>0.335761</td>\n",
              "      <td>0.124500</td>\n",
              "      <td>-0.011473</td>\n",
              "      <td>-0.012958</td>\n",
              "      <td>0.015700</td>\n",
              "    </tr>\n",
              "    <tr>\n",
              "      <th>number_project</th>\n",
              "      <td>-0.151525</td>\n",
              "      <td>0.349590</td>\n",
              "      <td>1.000000</td>\n",
              "      <td>0.421657</td>\n",
              "      <td>0.190412</td>\n",
              "      <td>-0.001434</td>\n",
              "      <td>-0.004764</td>\n",
              "      <td>0.039495</td>\n",
              "    </tr>\n",
              "    <tr>\n",
              "      <th>average_montly_hours</th>\n",
              "      <td>-0.018748</td>\n",
              "      <td>0.335761</td>\n",
              "      <td>0.421657</td>\n",
              "      <td>1.000000</td>\n",
              "      <td>0.121405</td>\n",
              "      <td>-0.017560</td>\n",
              "      <td>-0.009389</td>\n",
              "      <td>0.082652</td>\n",
              "    </tr>\n",
              "    <tr>\n",
              "      <th>time_spend_company</th>\n",
              "      <td>-0.103022</td>\n",
              "      <td>0.124500</td>\n",
              "      <td>0.190412</td>\n",
              "      <td>0.121405</td>\n",
              "      <td>1.000000</td>\n",
              "      <td>0.007845</td>\n",
              "      <td>0.071622</td>\n",
              "      <td>0.141676</td>\n",
              "    </tr>\n",
              "    <tr>\n",
              "      <th>work_accident</th>\n",
              "      <td>0.059217</td>\n",
              "      <td>-0.011473</td>\n",
              "      <td>-0.001434</td>\n",
              "      <td>-0.017560</td>\n",
              "      <td>0.007845</td>\n",
              "      <td>1.000000</td>\n",
              "      <td>0.032622</td>\n",
              "      <td>-0.155293</td>\n",
              "    </tr>\n",
              "    <tr>\n",
              "      <th>promotion_last_5years</th>\n",
              "      <td>0.024537</td>\n",
              "      <td>-0.012958</td>\n",
              "      <td>-0.004764</td>\n",
              "      <td>-0.009389</td>\n",
              "      <td>0.071622</td>\n",
              "      <td>0.032622</td>\n",
              "      <td>1.000000</td>\n",
              "      <td>-0.061647</td>\n",
              "    </tr>\n",
              "    <tr>\n",
              "      <th>left</th>\n",
              "      <td>-0.388664</td>\n",
              "      <td>0.015700</td>\n",
              "      <td>0.039495</td>\n",
              "      <td>0.082652</td>\n",
              "      <td>0.141676</td>\n",
              "      <td>-0.155293</td>\n",
              "      <td>-0.061647</td>\n",
              "      <td>1.000000</td>\n",
              "    </tr>\n",
              "  </tbody>\n",
              "</table>\n",
              "</div>\n",
              "      <button class=\"colab-df-convert\" onclick=\"convertToInteractive('df-19cbd901-2c91-40d6-95f8-5e512a9ffe8a')\"\n",
              "              title=\"Convert this dataframe to an interactive table.\"\n",
              "              style=\"display:none;\">\n",
              "        \n",
              "  <svg xmlns=\"http://www.w3.org/2000/svg\" height=\"24px\"viewBox=\"0 0 24 24\"\n",
              "       width=\"24px\">\n",
              "    <path d=\"M0 0h24v24H0V0z\" fill=\"none\"/>\n",
              "    <path d=\"M18.56 5.44l.94 2.06.94-2.06 2.06-.94-2.06-.94-.94-2.06-.94 2.06-2.06.94zm-11 1L8.5 8.5l.94-2.06 2.06-.94-2.06-.94L8.5 2.5l-.94 2.06-2.06.94zm10 10l.94 2.06.94-2.06 2.06-.94-2.06-.94-.94-2.06-.94 2.06-2.06.94z\"/><path d=\"M17.41 7.96l-1.37-1.37c-.4-.4-.92-.59-1.43-.59-.52 0-1.04.2-1.43.59L10.3 9.45l-7.72 7.72c-.78.78-.78 2.05 0 2.83L4 21.41c.39.39.9.59 1.41.59.51 0 1.02-.2 1.41-.59l7.78-7.78 2.81-2.81c.8-.78.8-2.07 0-2.86zM5.41 20L4 18.59l7.72-7.72 1.47 1.35L5.41 20z\"/>\n",
              "  </svg>\n",
              "      </button>\n",
              "      \n",
              "  <style>\n",
              "    .colab-df-container {\n",
              "      display:flex;\n",
              "      flex-wrap:wrap;\n",
              "      gap: 12px;\n",
              "    }\n",
              "\n",
              "    .colab-df-convert {\n",
              "      background-color: #E8F0FE;\n",
              "      border: none;\n",
              "      border-radius: 50%;\n",
              "      cursor: pointer;\n",
              "      display: none;\n",
              "      fill: #1967D2;\n",
              "      height: 32px;\n",
              "      padding: 0 0 0 0;\n",
              "      width: 32px;\n",
              "    }\n",
              "\n",
              "    .colab-df-convert:hover {\n",
              "      background-color: #E2EBFA;\n",
              "      box-shadow: 0px 1px 2px rgba(60, 64, 67, 0.3), 0px 1px 3px 1px rgba(60, 64, 67, 0.15);\n",
              "      fill: #174EA6;\n",
              "    }\n",
              "\n",
              "    [theme=dark] .colab-df-convert {\n",
              "      background-color: #3B4455;\n",
              "      fill: #D2E3FC;\n",
              "    }\n",
              "\n",
              "    [theme=dark] .colab-df-convert:hover {\n",
              "      background-color: #434B5C;\n",
              "      box-shadow: 0px 1px 3px 1px rgba(0, 0, 0, 0.15);\n",
              "      filter: drop-shadow(0px 1px 2px rgba(0, 0, 0, 0.3));\n",
              "      fill: #FFFFFF;\n",
              "    }\n",
              "  </style>\n",
              "\n",
              "      <script>\n",
              "        const buttonEl =\n",
              "          document.querySelector('#df-19cbd901-2c91-40d6-95f8-5e512a9ffe8a button.colab-df-convert');\n",
              "        buttonEl.style.display =\n",
              "          google.colab.kernel.accessAllowed ? 'block' : 'none';\n",
              "\n",
              "        async function convertToInteractive(key) {\n",
              "          const element = document.querySelector('#df-19cbd901-2c91-40d6-95f8-5e512a9ffe8a');\n",
              "          const dataTable =\n",
              "            await google.colab.kernel.invokeFunction('convertToInteractive',\n",
              "                                                     [key], {});\n",
              "          if (!dataTable) return;\n",
              "\n",
              "          const docLinkHtml = 'Like what you see? Visit the ' +\n",
              "            '<a target=\"_blank\" href=https://colab.research.google.com/notebooks/data_table.ipynb>data table notebook</a>'\n",
              "            + ' to learn more about interactive tables.';\n",
              "          element.innerHTML = '';\n",
              "          dataTable['output_type'] = 'display_data';\n",
              "          await google.colab.output.renderOutput(dataTable, element);\n",
              "          const docLink = document.createElement('div');\n",
              "          docLink.innerHTML = docLinkHtml;\n",
              "          element.appendChild(docLink);\n",
              "        }\n",
              "      </script>\n",
              "    </div>\n",
              "  </div>\n",
              "  "
            ]
          },
          "metadata": {},
          "execution_count": 38
        }
      ],
      "source": [
        "#Correlation entre toutes les colonnes d'un DataFrame \n",
        "corr2=df2.corr()\n",
        "corr2"
      ]
    },
    {
      "cell_type": "code",
      "execution_count": 39,
      "metadata": {
        "colab": {
          "base_uri": "https://localhost:8080/",
          "height": 385
        },
        "id": "nHZ7FkZKYqY8",
        "outputId": "53a0900e-5f52-4921-e5a3-d42873357f7d"
      },
      "outputs": [
        {
          "output_type": "display_data",
          "data": {
            "text/plain": [
              "<Figure size 432x288 with 2 Axes>"
            ],
            "image/png": "[encoded data removed]"
          },
          "metadata": {
            "needs_background": "light"
          }
        }
      ],
      "source": [
        "#Créer un graphique représentative d'une matrice de corrélation Pearson\n",
        "corr_df=df2.corr(method='pearson')\n",
        "sns.heatmap(corr_df, annot = True)\n",
        "plt.title(\"Matrice de corrélation\")\n",
        "plt.show()"
      ]
    },
    {
      "cell_type": "markdown",
      "metadata": {
        "id": "gtUaJ_lbHkHe"
      },
      "source": [
        "### *B. Khi-deux*"
      ]
    },
    {
      "cell_type": "markdown",
      "metadata": {
        "id": "ZUGbYSCrc7TY"
      },
      "source": [
        "Le test du Khi-deux -ou Chi-square test est un test statistique utilisé pour déterminer s’il existe une différence significative entre une distribution de fréquence observée et une distribution théorique.\n",
        "\n",
        "Il permet de tester la qualité de l'ajustement d'un ensemble de données observées à une distribution de probabilité spécifique. \n",
        "\n",
        "Le test du Khi-deux est utilisé pour tester l'indépendance de deux variables catégorielles (variable qui prend pour valeur des modalités, des catégories ou bien des niveaux, par opposition aux variables quantitatives qui mesurent une quantité) dans un tableau de contingence.\n",
        "\n",
        "\n",
        "Un tableau de contingence est une méthode de représentation de données issues d’un comptage permettant d'estimer la dépendance entre deux caractères. Elle consiste à croiser deux caractères d'une population (par exemple une classe d'âge et un score) en dénombrant l'effectif correspondant à la conjonction « caractère 1 » et « caractère 2 ». \n",
        "\n",
        "Les effectifs partiels sont rassemblés dans un tableau à double entrée, par ligne pour le premier caractère, et par colonne en fonction du second caractère : c'est le « tableau de contingence ». Cet outil simple répond à un problème crucial en statistique : la détection d’éventuelles dépendances entre les qualités relevées sur les individus d'une population. \n",
        "\n",
        "L’existence de dépendances conditionnelles suggère en effet la possibilité de stocker les résultats d'un sondage de façon plus condensée.\n",
        "\n",
        "La notion de tableau croisé dynamique, proposée par les tableurs, est une généralisation du tableau de contingence classique.\n",
        "Il compare les fréquences observées dans le tableau de contingence aux fréquences attendues si les variables étaient indépendantes. La statistique de test est la statistique du Khi-deux, qui est calculée comme la somme des différences au carré entre les fréquences observées et attendues, divisée par les fréquences attendues. \n",
        "\n",
        "Le test du chi carré est souvent utilisé dans des domaines tels que la recherche par sondage, la génétique et la recherche marketing.\n"
      ]
    },
    {
      "cell_type": "code",
      "execution_count": 40,
      "metadata": {
        "id": "m5_6jrLRbyun"
      },
      "outputs": [],
      "source": [
        "#p-value: la valeur p du test\n",
        "#dof: degrés de liberté\n",
        "#expected: les fréquences attendues, basées sur les sommes marginales du tableau"
      ]
    },
    {
      "cell_type": "code",
      "execution_count": 41,
      "metadata": {
        "colab": {
          "base_uri": "https://localhost:8080/",
          "height": 390
        },
        "id": "h-D8iaqWUPdy",
        "outputId": "3d92f4d3-783b-4919-a4a0-d12e30512f1c"
      },
      "outputs": [
        {
          "output_type": "execute_result",
          "data": {
            "text/plain": [
              "left_segment       non       oui\n",
              "job                             \n",
              "IT            0.773474  0.226526\n",
              "RandD         0.852652  0.147348\n",
              "accounting    0.701195  0.298805\n",
              "hr            0.708502  0.291498\n",
              "management    0.859122  0.140878\n",
              "marketing     0.766724  0.233276\n",
              "product_mng   0.781570  0.218430\n",
              "sales         0.758878  0.241122\n",
              "support       0.746594  0.253406\n",
              "technical     0.750553  0.249447"
            ],
            "text/html": [
              "\n",
              "  <div id=\"df-15eeaf6b-566b-47c8-ae02-5706552d4a6f\">\n",
              "    <div class=\"colab-df-container\">\n",
              "      <div>\n",
              "<style scoped>\n",
              "    .dataframe tbody tr th:only-of-type {\n",
              "        vertical-align: middle;\n",
              "    }\n",
              "\n",
              "    .dataframe tbody tr th {\n",
              "        vertical-align: top;\n",
              "    }\n",
              "\n",
              "    .dataframe thead th {\n",
              "        text-align: right;\n",
              "    }\n",
              "</style>\n",
              "<table border=\"1\" class=\"dataframe\">\n",
              "  <thead>\n",
              "    <tr style=\"text-align: right;\">\n",
              "      <th>left_segment</th>\n",
              "      <th>non</th>\n",
              "      <th>oui</th>\n",
              "    </tr>\n",
              "    <tr>\n",
              "      <th>job</th>\n",
              "      <th></th>\n",
              "      <th></th>\n",
              "    </tr>\n",
              "  </thead>\n",
              "  <tbody>\n",
              "    <tr>\n",
              "      <th>IT</th>\n",
              "      <td>0.773474</td>\n",
              "      <td>0.226526</td>\n",
              "    </tr>\n",
              "    <tr>\n",
              "      <th>RandD</th>\n",
              "      <td>0.852652</td>\n",
              "      <td>0.147348</td>\n",
              "    </tr>\n",
              "    <tr>\n",
              "      <th>accounting</th>\n",
              "      <td>0.701195</td>\n",
              "      <td>0.298805</td>\n",
              "    </tr>\n",
              "    <tr>\n",
              "      <th>hr</th>\n",
              "      <td>0.708502</td>\n",
              "      <td>0.291498</td>\n",
              "    </tr>\n",
              "    <tr>\n",
              "      <th>management</th>\n",
              "      <td>0.859122</td>\n",
              "      <td>0.140878</td>\n",
              "    </tr>\n",
              "    <tr>\n",
              "      <th>marketing</th>\n",
              "      <td>0.766724</td>\n",
              "      <td>0.233276</td>\n",
              "    </tr>\n",
              "    <tr>\n",
              "      <th>product_mng</th>\n",
              "      <td>0.781570</td>\n",
              "      <td>0.218430</td>\n",
              "    </tr>\n",
              "    <tr>\n",
              "      <th>sales</th>\n",
              "      <td>0.758878</td>\n",
              "      <td>0.241122</td>\n",
              "    </tr>\n",
              "    <tr>\n",
              "      <th>support</th>\n",
              "      <td>0.746594</td>\n",
              "      <td>0.253406</td>\n",
              "    </tr>\n",
              "    <tr>\n",
              "      <th>technical</th>\n",
              "      <td>0.750553</td>\n",
              "      <td>0.249447</td>\n",
              "    </tr>\n",
              "  </tbody>\n",
              "</table>\n",
              "</div>\n",
              "      <button class=\"colab-df-convert\" onclick=\"convertToInteractive('df-15eeaf6b-566b-47c8-ae02-5706552d4a6f')\"\n",
              "              title=\"Convert this dataframe to an interactive table.\"\n",
              "              style=\"display:none;\">\n",
              "        \n",
              "  <svg xmlns=\"http://www.w3.org/2000/svg\" height=\"24px\"viewBox=\"0 0 24 24\"\n",
              "       width=\"24px\">\n",
              "    <path d=\"M0 0h24v24H0V0z\" fill=\"none\"/>\n",
              "    <path d=\"M18.56 5.44l.94 2.06.94-2.06 2.06-.94-2.06-.94-.94-2.06-.94 2.06-2.06.94zm-11 1L8.5 8.5l.94-2.06 2.06-.94-2.06-.94L8.5 2.5l-.94 2.06-2.06.94zm10 10l.94 2.06.94-2.06 2.06-.94-2.06-.94-.94-2.06-.94 2.06-2.06.94z\"/><path d=\"M17.41 7.96l-1.37-1.37c-.4-.4-.92-.59-1.43-.59-.52 0-1.04.2-1.43.59L10.3 9.45l-7.72 7.72c-.78.78-.78 2.05 0 2.83L4 21.41c.39.39.9.59 1.41.59.51 0 1.02-.2 1.41-.59l7.78-7.78 2.81-2.81c.8-.78.8-2.07 0-2.86zM5.41 20L4 18.59l7.72-7.72 1.47 1.35L5.41 20z\"/>\n",
              "  </svg>\n",
              "      </button>\n",
              "      \n",
              "  <style>\n",
              "    .colab-df-container {\n",
              "      display:flex;\n",
              "      flex-wrap:wrap;\n",
              "      gap: 12px;\n",
              "    }\n",
              "\n",
              "    .colab-df-convert {\n",
              "      background-color: #E8F0FE;\n",
              "      border: none;\n",
              "      border-radius: 50%;\n",
              "      cursor: pointer;\n",
              "      display: none;\n",
              "      fill: #1967D2;\n",
              "      height: 32px;\n",
              "      padding: 0 0 0 0;\n",
              "      width: 32px;\n",
              "    }\n",
              "\n",
              "    .colab-df-convert:hover {\n",
              "      background-color: #E2EBFA;\n",
              "      box-shadow: 0px 1px 2px rgba(60, 64, 67, 0.3), 0px 1px 3px 1px rgba(60, 64, 67, 0.15);\n",
              "      fill: #174EA6;\n",
              "    }\n",
              "\n",
              "    [theme=dark] .colab-df-convert {\n",
              "      background-color: #3B4455;\n",
              "      fill: #D2E3FC;\n",
              "    }\n",
              "\n",
              "    [theme=dark] .colab-df-convert:hover {\n",
              "      background-color: #434B5C;\n",
              "      box-shadow: 0px 1px 3px 1px rgba(0, 0, 0, 0.15);\n",
              "      filter: drop-shadow(0px 1px 2px rgba(0, 0, 0, 0.3));\n",
              "      fill: #FFFFFF;\n",
              "    }\n",
              "  </style>\n",
              "\n",
              "      <script>\n",
              "        const buttonEl =\n",
              "          document.querySelector('#df-15eeaf6b-566b-47c8-ae02-5706552d4a6f button.colab-df-convert');\n",
              "        buttonEl.style.display =\n",
              "          google.colab.kernel.accessAllowed ? 'block' : 'none';\n",
              "\n",
              "        async function convertToInteractive(key) {\n",
              "          const element = document.querySelector('#df-15eeaf6b-566b-47c8-ae02-5706552d4a6f');\n",
              "          const dataTable =\n",
              "            await google.colab.kernel.invokeFunction('convertToInteractive',\n",
              "                                                     [key], {});\n",
              "          if (!dataTable) return;\n",
              "\n",
              "          const docLinkHtml = 'Like what you see? Visit the ' +\n",
              "            '<a target=\"_blank\" href=https://colab.research.google.com/notebooks/data_table.ipynb>data table notebook</a>'\n",
              "            + ' to learn more about interactive tables.';\n",
              "          element.innerHTML = '';\n",
              "          dataTable['output_type'] = 'display_data';\n",
              "          await google.colab.output.renderOutput(dataTable, element);\n",
              "          const docLink = document.createElement('div');\n",
              "          docLink.innerHTML = docLinkHtml;\n",
              "          element.appendChild(docLink);\n",
              "        }\n",
              "      </script>\n",
              "    </div>\n",
              "  </div>\n",
              "  "
            ]
          },
          "metadata": {},
          "execution_count": 41
        }
      ],
      "source": [
        "#Calculer un Khi-2 avec deux variables qualitatives\n",
        "contigency = pd.crosstab(df2['job'], df2['left_segment'], normalize='index')\n",
        "contigency"
      ]
    },
    {
      "cell_type": "code",
      "execution_count": 42,
      "metadata": {
        "colab": {
          "base_uri": "https://localhost:8080/",
          "height": 454
        },
        "id": "hmL1XVSnUuJB",
        "outputId": "76b9bdad-f546-4f80-8966-69d406cdd098"
      },
      "outputs": [
        {
          "output_type": "display_data",
          "data": {
            "text/plain": [
              "<Figure size 864x576 with 2 Axes>"
            ],
            "image/png": "[encoded data removed]"
          },
          "metadata": {
            "needs_background": "light"
          }
        }
      ],
      "source": [
        "#Créer un graphique représentative du Khi-Test\n",
        "plt.figure(figsize=(12,8)) \n",
        "sns.heatmap(contigency, annot=True, cmap=\"YlGnBu\")\n",
        "plt.title(\"Khi-2 graphique sur les variables left et job\")\n",
        "plt.show()"
      ]
    },
    {
      "cell_type": "markdown",
      "metadata": {
        "id": "ShsQ2pTi-wZO"
      },
      "source": [
        "***Commentaire :*** \n",
        "\n",
        "En général, il y a très peu de départ par service.\n",
        "\n",
        "Les salariés du service management sont 86% moins suceptible de quitter leurs postes etant donné qu'il ya un faible lien avec le valeur left_segment d'un volonté de quitter l'entreprise.\n",
        "\n",
        "Toutefois, les salariés des services \"accounting\", \"hr\", \"sales\" sont plus proche de 0,donc il y a un très grand lien avec l'attribut \"oui\" pour quitter l'entreprise."
      ]
    },
    {
      "cell_type": "markdown",
      "metadata": {
        "id": "oRkDuaomIEG-"
      },
      "source": [
        "### *C. Corrélation de Spearman*\n",
        "\n",
        "La corrélation de Spearman est l'équivalent non paramétrique de la corrélation de Pearson. Mesure la relation entre deux variables. \n",
        "Elle est utilisée lorsque les variables sont ordinales, discrètes ou non distribuées normalement. \n",
        "\n",
        "Cette corrélation utilise RANK plutôt que des valeurs de données. \n",
        "\n",
        "L'interprétation du coefficient de corrélation obtenu reste la même que lors de l'utilisation de la corrélation de Pearson. Les coefficients de corrélation varient entre -1 et 1. Ici, 0 indique une relation nulle entre les deux variables, et une valeur négative (corrélation négative) signifie que lorsque l'une des variables augmente, l'autre diminue. En revanche, une valeur positive (corrélation positive) indique que les deux variables évoluent ensemble dans le même sens.\n",
        "\n",
        "Dès lors, sa valeur fluctuera d'un échantillon à l'autre. On veut donc savoir si, dans la population ces deux variables sont réellement corrélées ou pas. On doit donc réaliser un test d'hypothèse. (Biostatistique,2021)"
      ]
    },
    {
      "cell_type": "code",
      "execution_count": 43,
      "metadata": {
        "colab": {
          "base_uri": "https://localhost:8080/"
        },
        "id": "1hn3wWcTOiCY",
        "outputId": "d1d241a8-0dde-4fc2-8099-372e2b5fea38"
      },
      "outputs": [
        {
          "output_type": "stream",
          "name": "stdout",
          "text": [
            "-0.023851428354017965\n",
            "0.016790659331104275\n"
          ]
        }
      ],
      "source": [
        "#Calculer un Khi-2 avec deux variables qualitatives\n",
        "from scipy.stats import spearmanr\n",
        "rho, p = spearmanr(df['left'], df['salary'])\n",
        "print(rho)\n",
        "print(p)"
      ]
    },
    {
      "cell_type": "code",
      "execution_count": 44,
      "metadata": {
        "colab": {
          "base_uri": "https://localhost:8080/",
          "height": 402
        },
        "id": "qRBGeYDvPTmy",
        "outputId": "86409978-f09e-46c6-8de1-dbca1e4edb33"
      },
      "outputs": [
        {
          "output_type": "execute_result",
          "data": {
            "text/plain": [
              "Text(0.5, 1.0, 'Corrélation de Spearman')"
            ]
          },
          "metadata": {},
          "execution_count": 44
        },
        {
          "output_type": "display_data",
          "data": {
            "text/plain": [
              "<Figure size 432x288 with 2 Axes>"
            ],
            "image/png": "[encoded data removed]"
          },
          "metadata": {
            "needs_background": "light"
          }
        }
      ],
      "source": [
        "#Créer un graphique représentative d'une matrice de corrélation Spearman\n",
        "corr = df2.corr(method = 'spearman')\n",
        "sns.heatmap(corr, annot = True)\n",
        "plt.title(\"Corrélation de Spearman\")"
      ]
    },
    {
      "cell_type": "markdown",
      "metadata": {
        "id": "VQty2O5AIL3d"
      },
      "source": [
        "### *D. Test de Student*\n",
        "\n",
        "Le test de Student, également appelé *test t* ou distribution t, est un test statistique courant utilisé pour mesurer la différence entre deux groupes ou les moyennes de groupe par rapport à une valeur standard. Elle est basée sur une loi de probabilité appelée loi de Student. Le but de la réalisation de ce test est de comprendre si la différence est statistiquement significative, c'est-à-dire non due au hasard.\n",
        "\n",
        "Les analystes peuvent utiliser des tests t pour déterminer s'il existe des facteurs qui influencent la différence dans les résultats observés pour plusieurs échantillons.\n",
        "\n",
        "Nous pouvons utiliser la statistique t pour répondre à cette question. Cela indique que les différences observées peuvent être dues au hasard. Si cette probabilité est très faible, la différence est dite significative ou statistiquement significative.\n",
        "\n",
        "Dans le test t, nous créons d'abord une hypothèse nulle. Cela signifie que les deux populations sont égales et qu'il n'y a pas de différence significative entre elles. Les tests de Student prouvent ou infirment l'hypothèse nulle.\n",
        "\n",
        "Pour exécuter la distribution T de Student, vous avez besoin de cinq éléments :\n",
        "*   Différence moyenne des ensembles de données \n",
        "*   Écart type (variance) de chaque échantillon\n",
        "*   Nombre de données dans chaque groupe\n",
        "*   Valeur 𝝰 (alpha) : C'est une marge d'erreur acceptable. Une valeur 𝝰 de 0,05 signifie un taux d'erreur acceptable de 5D44. Pour les calculs manuels, un tableau de valeurs clés est nécessaire pour aider à interpréter les résultats.\n",
        "\n",
        "\n",
        "Avec ces cinq éléments en main, vous pouvez soit exécuter le test t manuellement à l'aide d'une formule (la formule est disponible plus loin dans cet article), soit utiliser un progiciel statistique tel que SPSS ou Minitab pour générer automatiquement les résultats. (Qualtrics XM,2022)"
      ]
    },
    {
      "cell_type": "code",
      "execution_count": 45,
      "metadata": {
        "colab": {
          "base_uri": "https://localhost:8080/"
        },
        "id": "tCfxRBQIZnX0",
        "outputId": "2b9935d8-51ee-4681-e96e-af9893acf04f"
      },
      "outputs": [
        {
          "output_type": "execute_result",
          "data": {
            "text/plain": [
              "Ttest_indResult(statistic=396.6809957648194, pvalue=0.0)"
            ]
          },
          "metadata": {},
          "execution_count": 45
        }
      ],
      "source": [
        "from scipy import stats\n",
        "#Définir les deux variables d'échantillon\n",
        "a= df2['average_montly_hours']\n",
        "b= df2['number_project']\n",
        "#Appliquer le t-test\n",
        "t2 = stats.ttest_ind(a,b)\n",
        "t2"
      ]
    },
    {
      "cell_type": "code",
      "execution_count": 46,
      "metadata": {
        "colab": {
          "base_uri": "https://localhost:8080/",
          "height": 298
        },
        "id": "GY3sc9oJalUI",
        "outputId": "54300ce6-ee02-4d7f-b283-37bf2a35a442"
      },
      "outputs": [
        {
          "output_type": "execute_result",
          "data": {
            "text/plain": [
              "Text(0.5, 1.0, 'T-Test')"
            ]
          },
          "metadata": {},
          "execution_count": 46
        },
        {
          "output_type": "display_data",
          "data": {
            "text/plain": [
              "<Figure size 432x288 with 1 Axes>"
            ],
            "image/png": "[encoded data removed]"
          },
          "metadata": {
            "needs_background": "light"
          }
        }
      ],
      "source": [
        "#Créer un graphique représentative T-Test\n",
        "sns.kdeplot(t2,shade=True)\n",
        "plt.title(\"T-Test\")"
      ]
    },
    {
      "cell_type": "markdown",
      "metadata": {
        "id": "ZDf1gZdoIWr3"
      },
      "source": [
        "### *E. Heatmap*\n",
        "Une heatmap est une représentation graphique des données où les valeurs individuelles sont représentées sous forme de couleurs. Il est utilisé pour représenter visuellement la distribution et la densité des points de données en deux dimensions (souvent l'axe des x et l'axe des y) à l'aide d'une échelle de couleurs.\n",
        "\n",
        "En règle générale, l'axe des x et l'axe des y représentent les variables mesurées, tandis que l'intensité de la couleur représente l'amplitude de la variable. \n",
        "\n",
        "Par exemple, dans un jeu de données comportant de nombreuses colonnes, une carte thermique peut être utilisée pour afficher la corrélation ou la relation entre différentes colonnes. \n",
        "\n",
        "Il est souvent utilisé dans la visualisation de données, le traitement d'images et les statistiques.\n",
        "\n",
        "\n",
        "Les cartes thermiques peuvent être créées à l'aide de divers outils logiciels, notamment Excel, des bibliothèques Python telles que Matplotlib et Seaborn, des bibliothèques R telles que ggplot2 et plotly, et des outils de visualisation en ligne tels que Plotly et Tableau. Le choix de l'outil dépendra des exigences spécifiques du projet et du niveau d'interactivité et de personnalisation requis.\n"
      ]
    },
    {
      "cell_type": "markdown",
      "metadata": {
        "id": "s-dR_5uqhGJ6"
      },
      "source": [
        "## II. Analyser la variance"
      ]
    },
    {
      "cell_type": "markdown",
      "metadata": {
        "id": "wMyANziBjTHs"
      },
      "source": [
        "L'analyse de la variance a pour but la comparaison des moyennes de k populations, à partir d'échantillons aléatoires et indépendants prélevés dans chacune d'elles.\n",
        "\n",
        "Ces populations sont en général des variantes (ou niveaux k) d'un ou plusieurs facteurs contrôlés de variation (facteur A, B)."
      ]
    },
    {
      "cell_type": "markdown",
      "metadata": {
        "id": "9uWV9STqIlEP"
      },
      "source": [
        "### *A. ANOVA à un facteur*\n",
        "\n",
        "Un test ANOVA à un facteur est utilisé pour déterminer s'il existe une différence significative dans les moyennes de deux groupes ou plus. Dans ce cas, le seul facteur fait référence à une seule variable indépendante ou à un seul facteur utilisé pour diviser les données en différents groupes. \n",
        "\n",
        "L'hypothèse nulle du test est qu'il n'y a pas de différence de moyennes entre les groupes et l'hypothèse alternative est qu'il existe au moins une paire de moyennes différentes. \n",
        "\n",
        "La statistique de test est calculée à l'aide de la variance entre les groupes et au sein des groupes. Une valeur de p est obtenue, qui peut être utilisée pour déterminer s'il faut rejeter ou ne pas rejeter l'hypothèse nulle\n"
      ]
    },
    {
      "cell_type": "code",
      "execution_count": 47,
      "metadata": {
        "colab": {
          "base_uri": "https://localhost:8080/"
        },
        "id": "Nf39MmIBy7eo",
        "outputId": "7bfbeb66-d033-4a54-95b1-7bbc76485c3e"
      },
      "outputs": [
        {
          "output_type": "stream",
          "name": "stdout",
          "text": [
            "F_onewayResult(statistic=5794.37000725603, pvalue=0.0)\n"
          ]
        }
      ],
      "source": [
        "#Importer une librairie\n",
        "from scipy.stats import f_oneway\n",
        "#Effectuer un ANOVA\n",
        "x=f_oneway(df2.left, df2.satisfaction_level)\n",
        "print(x)"
      ]
    },
    {
      "cell_type": "markdown",
      "metadata": {
        "id": "fn_2cDie_zYJ"
      },
      "source": [
        "***Commentaire :*** \n",
        "\n",
        "La statistique F et la valeur p s'avèrent être égales à 5794.3 et 0,0 respectivement. Comme la valeur p est inférieure à 0,05, nous rejetons l'hypothèse nulle. \n",
        "\n",
        "Cela implique que nous avons suffisamment de preuves pour affirmer qu'il existe un lein entre le niveau de satisfaction et la volonté de quitter l'entreprise."
      ]
    },
    {
      "cell_type": "code",
      "execution_count": 48,
      "metadata": {
        "colab": {
          "base_uri": "https://localhost:8080/",
          "height": 335
        },
        "id": "gj5AVj6azed-",
        "outputId": "0846aa65-621f-42ef-d4d8-31a2c0867309"
      },
      "outputs": [
        {
          "output_type": "display_data",
          "data": {
            "text/plain": [
              "<Figure size 360x360 with 1 Axes>"
            ],
            "image/png": "[encoded data removed]"
          },
          "metadata": {
            "needs_background": "light"
          }
        }
      ],
      "source": [
        "plt.subplots(figsize=(5,5))\n",
        "ax = sns.boxplot(x=\"left_segment\", y=\"satisfaction_level\", data=df2)"
      ]
    },
    {
      "cell_type": "markdown",
      "metadata": {
        "id": "zUJSbU5sBVPc"
      },
      "source": [
        "***Commentaire :*** \n",
        "\n",
        "Ce graphique montre que les salariés ayant quittés l'entrepise ne sont pas satisfaits. En parallèle, ceux qui sont restés dans l'entreprise ont un niveau de satisfaction entre 0.5 et 0.8, avec une moyenne de 0.7"
      ]
    },
    {
      "cell_type": "markdown",
      "metadata": {
        "id": "u0OEG4QLIsmx"
      },
      "source": [
        "### *B. ANOVA à plusieurs facteurs*\n",
        "\n",
        "Un test ANOVA (analyse de variance) à plusieurs facteurs, également appelé ANOVA multifactorielle ou ANOVA factorielle, est utilisé pour déterminer l'effet de plusieurs variables indépendantes ou facteurs sur une variable dépendante.\n",
        "\n",
        "Dans ce cas, les données sont divisées en groupes en fonction des niveaux de chacun des facteurs. \n",
        "\n",
        "Par exemple, s'il y a deux facteurs, chacun avec deux niveaux, les données seraient divisées en quatre groupes. \n",
        "\n",
        "L'hypothèse nulle est qu'il n'y a pas de différence de moyennes entre les groupes et l'hypothèse alternative est qu'il existe au moins une paire de moyennes différentes. \n",
        "\n",
        "La statistique de test est calculée à l'aide de la variance entre les groupes et au sein des groupes et une valeur de p est obtenue, qui peut être utilisée pour déterminer s'il faut rejeter ou ne pas rejeter l'hypothèse nulle. \n",
        "\n",
        "Le test peut également être utilisé pour déterminer quels facteurs et leurs interactions ont un effet significatif sur la variable dépendante."
      ]
    },
    {
      "cell_type": "code",
      "execution_count": 49,
      "metadata": {
        "colab": {
          "base_uri": "https://localhost:8080/",
          "height": 348
        },
        "id": "PO3aXtTSBnfJ",
        "outputId": "ec1b4e45-a4a9-4951-f41a-39e725133d9b"
      },
      "outputs": [
        {
          "output_type": "display_data",
          "data": {
            "text/plain": [
              "<Figure size 1080x576 with 1 Axes>"
            ],
            "image/png": "[encoded data removed]"
          },
          "metadata": {
            "needs_background": "light"
          }
        }
      ],
      "source": [
        "plt.subplots(figsize=(15,8))\n",
        "ax = sns.boxplot(x=\"satisfaction_level\", y=\"salary\", data=df2)"
      ]
    },
    {
      "cell_type": "markdown",
      "metadata": {
        "id": "C091DrzECJtq"
      },
      "source": [
        "***Commentaire :*** \n",
        "\n",
        "En moyenne, le niveau de satisfaction est similaire selon le niveau de salaire des collaborateurs. Néanmoins, l'étendue est plus important pour les salariés à faible salaire. "
      ]
    },
    {
      "cell_type": "markdown",
      "metadata": {
        "id": "GursgNobhssS"
      },
      "source": [
        "## **Chapitre 3 : Modéliser les données**"
      ]
    },
    {
      "cell_type": "markdown",
      "metadata": {
        "id": "c6vcWQQnh2ai"
      },
      "source": [
        "## I. Quel est le profil des collaborateurs qui vont quitter l'entreprise ? "
      ]
    },
    {
      "cell_type": "markdown",
      "source": [
        "Il peut y avoir de nombreuses raisons pour lesquelles les collaborateurs quittent leur entreprise. \n",
        "\n",
        "En général, les employés quittent leur entreprise lorsqu'ils ne se sentent plus satisfaits de leur environnement de travail. \n",
        "\n",
        "Il est donc important pour les entreprises de s'assurer que leurs employés se sentent valorisés et appréciés, et de fournir des opportunités pour le développement professionnel et la croissance personnelle."
      ],
      "metadata": {
        "id": "zb83m8HnZ-87"
      }
    },
    {
      "cell_type": "markdown",
      "metadata": {
        "id": "XAfKXqpBBYVm"
      },
      "source": [
        "Quelques caractérisitques de la personne susceptible de quitter l'entreprise :  \n",
        "- le nombre de projet ( > 6 projet) (surcharge de travail)\n",
        "- salaire (faible salaire face à la charge de travail attribuée)\n",
        "- la satisfaction (niveau de satisfaction compris dans l'intervalle [0;0,4])\n",
        "- ancienneté (la plupart des employés ne restant pas après 3 ans)"
      ]
    },
    {
      "cell_type": "markdown",
      "metadata": {
        "id": "6376EKJih_VZ"
      },
      "source": [
        "## II. Pourquoi les collaborateurs quittent l'entreprise ? "
      ]
    },
    {
      "cell_type": "markdown",
      "metadata": {
        "id": "qvBkHDZsrT7P"
      },
      "source": [
        "### *A. Une régression logistique et les paramètres du modèle*"
      ]
    },
    {
      "cell_type": "markdown",
      "metadata": {
        "id": "ZAQyRG8pBhjJ"
      },
      "source": [
        "La regression logistique est un modèle statistique qui permet d'étudier les relations entre différents variables qualitatives ou indépendantes, nommée X, avec une seule varible qualitative ou dépendante, nommée y. Comme le modèle linéaire, la fonction logistique définit une fonction lien. Graphiquement, elle est réprésentée sous la forme une courbe en S\n",
        "\n",
        "Les modèles de régression logistique peuvent également prédire la probabilité qu'un événement se produise ou ne se produise pas en optimisant les coefficients de régression. Le résultat obtenu se situera toujours entre 0 et 1. Si la valeur est près de 0, la probabilité est faible que l'événement arrive, alors que si la valeur est près de 1, la probabilité est élevée. \n",
        "\n",
        "*Par exemple, le jeu de donnée Titanic a identifié que la probabilité de survie pour les passages masculin de 0,0810 par rapport aux passages feminin. Nous interpréterions le rapport de cotes comme la probabilité de survie des hommes diminuée d'un facteur de 0,0810 par rapport aux femmes, en maintenant toutes les autres variables constantes.* (IBM, 2022)\n",
        "\n",
        "\n",
        "> Dans notre étude de cas, nous avons crée le dateframe en données numérique, pour cela nous avons supprimé les données des colonnes \"job\" et \"salary\" pour les remplacer par des chiffres.\n",
        "Ainsi, les valeurs de la colonne \"salary\" ne sont plus nominales mais ordinales.Les bas salaires mentionnés \"low\" sont dorénavant identifés par le chiffre 1, puis les salaires moyens mentionnés \"medium\" par le chiffre 2 et les slaires \"high\" mentionés par le chiffre 3. D'un autre côté, les jobs sont aussi identifées par les chiffres suivants:\n",
        "\"accounting\": 1, \"sales\": 2, \"hr\": 3, \"technical\": 4, \"support\": 5, \"management\": 6, \"IT\": 7, \"product_mng\": 8, \"marketing\": 9, \"RandD\": 10\n",
        "\n"
      ]
    },
    {
      "cell_type": "code",
      "execution_count": 50,
      "metadata": {
        "colab": {
          "base_uri": "https://localhost:8080/",
          "height": 268
        },
        "id": "-GLuHUd2P0Dr",
        "outputId": "8008d6cd-f3ef-4282-bd46-abd808dbe8d4"
      },
      "outputs": [
        {
          "output_type": "execute_result",
          "data": {
            "text/plain": [
              "   id_colab  satisfaction_level  last_evaluation  number_project  \\\n",
              "0         4                0.72             0.87               5   \n",
              "1         5                0.37             0.52               2   \n",
              "2         7                0.10             0.77               6   \n",
              "3         9                0.89             1.00               5   \n",
              "4        10                0.42             0.53               2   \n",
              "\n",
              "   average_montly_hours  time_spend_company  work_accident  \\\n",
              "0                   223                   5              0   \n",
              "1                   159                   3              0   \n",
              "2                   247                   4              0   \n",
              "3                   224                   5              0   \n",
              "4                   142                   3              0   \n",
              "\n",
              "   promotion_last_5years job salary  left  \n",
              "0                      0                1  \n",
              "1                      0                1  \n",
              "2                      0                1  \n",
              "3                      0                1  \n",
              "4                      0                1  "
            ],
            "text/html": [
              "\n",
              "  <div id=\"df-b8f8b5ba-7428-43d0-b143-30cd4f8da1df\">\n",
              "    <div class=\"colab-df-container\">\n",
              "      <div>\n",
              "<style scoped>\n",
              "    .dataframe tbody tr th:only-of-type {\n",
              "        vertical-align: middle;\n",
              "    }\n",
              "\n",
              "    .dataframe tbody tr th {\n",
              "        vertical-align: top;\n",
              "    }\n",
              "\n",
              "    .dataframe thead th {\n",
              "        text-align: right;\n",
              "    }\n",
              "</style>\n",
              "<table border=\"1\" class=\"dataframe\">\n",
              "  <thead>\n",
              "    <tr style=\"text-align: right;\">\n",
              "      <th></th>\n",
              "      <th>id_colab</th>\n",
              "      <th>satisfaction_level</th>\n",
              "      <th>last_evaluation</th>\n",
              "      <th>number_project</th>\n",
              "      <th>average_montly_hours</th>\n",
              "      <th>time_spend_company</th>\n",
              "      <th>work_accident</th>\n",
              "      <th>promotion_last_5years</th>\n",
              "      <th>job</th>\n",
              "      <th>salary</th>\n",
              "      <th>left</th>\n",
              "    </tr>\n",
              "  </thead>\n",
              "  <tbody>\n",
              "    <tr>\n",
              "      <th>0</th>\n",
              "      <td>4</td>\n",
              "      <td>0.72</td>\n",
              "      <td>0.87</td>\n",
              "      <td>5</td>\n",
              "      <td>223</td>\n",
              "      <td>5</td>\n",
              "      <td>0</td>\n",
              "      <td>0</td>\n",
              "      <td></td>\n",
              "      <td></td>\n",
              "      <td>1</td>\n",
              "    </tr>\n",
              "    <tr>\n",
              "      <th>1</th>\n",
              "      <td>5</td>\n",
              "      <td>0.37</td>\n",
              "      <td>0.52</td>\n",
              "      <td>2</td>\n",
              "      <td>159</td>\n",
              "      <td>3</td>\n",
              "      <td>0</td>\n",
              "      <td>0</td>\n",
              "      <td></td>\n",
              "      <td></td>\n",
              "      <td>1</td>\n",
              "    </tr>\n",
              "    <tr>\n",
              "      <th>2</th>\n",
              "      <td>7</td>\n",
              "      <td>0.10</td>\n",
              "      <td>0.77</td>\n",
              "      <td>6</td>\n",
              "      <td>247</td>\n",
              "      <td>4</td>\n",
              "      <td>0</td>\n",
              "      <td>0</td>\n",
              "      <td></td>\n",
              "      <td></td>\n",
              "      <td>1</td>\n",
              "    </tr>\n",
              "    <tr>\n",
              "      <th>3</th>\n",
              "      <td>9</td>\n",
              "      <td>0.89</td>\n",
              "      <td>1.00</td>\n",
              "      <td>5</td>\n",
              "      <td>224</td>\n",
              "      <td>5</td>\n",
              "      <td>0</td>\n",
              "      <td>0</td>\n",
              "      <td></td>\n",
              "      <td></td>\n",
              "      <td>1</td>\n",
              "    </tr>\n",
              "    <tr>\n",
              "      <th>4</th>\n",
              "      <td>10</td>\n",
              "      <td>0.42</td>\n",
              "      <td>0.53</td>\n",
              "      <td>2</td>\n",
              "      <td>142</td>\n",
              "      <td>3</td>\n",
              "      <td>0</td>\n",
              "      <td>0</td>\n",
              "      <td></td>\n",
              "      <td></td>\n",
              "      <td>1</td>\n",
              "    </tr>\n",
              "  </tbody>\n",
              "</table>\n",
              "</div>\n",
              "      <button class=\"colab-df-convert\" onclick=\"convertToInteractive('df-b8f8b5ba-7428-43d0-b143-30cd4f8da1df')\"\n",
              "              title=\"Convert this dataframe to an interactive table.\"\n",
              "              style=\"display:none;\">\n",
              "        \n",
              "  <svg xmlns=\"http://www.w3.org/2000/svg\" height=\"24px\"viewBox=\"0 0 24 24\"\n",
              "       width=\"24px\">\n",
              "    <path d=\"M0 0h24v24H0V0z\" fill=\"none\"/>\n",
              "    <path d=\"M18.56 5.44l.94 2.06.94-2.06 2.06-.94-2.06-.94-.94-2.06-.94 2.06-2.06.94zm-11 1L8.5 8.5l.94-2.06 2.06-.94-2.06-.94L8.5 2.5l-.94 2.06-2.06.94zm10 10l.94 2.06.94-2.06 2.06-.94-2.06-.94-.94-2.06-.94 2.06-2.06.94z\"/><path d=\"M17.41 7.96l-1.37-1.37c-.4-.4-.92-.59-1.43-.59-.52 0-1.04.2-1.43.59L10.3 9.45l-7.72 7.72c-.78.78-.78 2.05 0 2.83L4 21.41c.39.39.9.59 1.41.59.51 0 1.02-.2 1.41-.59l7.78-7.78 2.81-2.81c.8-.78.8-2.07 0-2.86zM5.41 20L4 18.59l7.72-7.72 1.47 1.35L5.41 20z\"/>\n",
              "  </svg>\n",
              "      </button>\n",
              "      \n",
              "  <style>\n",
              "    .colab-df-container {\n",
              "      display:flex;\n",
              "      flex-wrap:wrap;\n",
              "      gap: 12px;\n",
              "    }\n",
              "\n",
              "    .colab-df-convert {\n",
              "      background-color: #E8F0FE;\n",
              "      border: none;\n",
              "      border-radius: 50%;\n",
              "      cursor: pointer;\n",
              "      display: none;\n",
              "      fill: #1967D2;\n",
              "      height: 32px;\n",
              "      padding: 0 0 0 0;\n",
              "      width: 32px;\n",
              "    }\n",
              "\n",
              "    .colab-df-convert:hover {\n",
              "      background-color: #E2EBFA;\n",
              "      box-shadow: 0px 1px 2px rgba(60, 64, 67, 0.3), 0px 1px 3px 1px rgba(60, 64, 67, 0.15);\n",
              "      fill: #174EA6;\n",
              "    }\n",
              "\n",
              "    [theme=dark] .colab-df-convert {\n",
              "      background-color: #3B4455;\n",
              "      fill: #D2E3FC;\n",
              "    }\n",
              "\n",
              "    [theme=dark] .colab-df-convert:hover {\n",
              "      background-color: #434B5C;\n",
              "      box-shadow: 0px 1px 3px 1px rgba(0, 0, 0, 0.15);\n",
              "      filter: drop-shadow(0px 1px 2px rgba(0, 0, 0, 0.3));\n",
              "      fill: #FFFFFF;\n",
              "    }\n",
              "  </style>\n",
              "\n",
              "      <script>\n",
              "        const buttonEl =\n",
              "          document.querySelector('#df-b8f8b5ba-7428-43d0-b143-30cd4f8da1df button.colab-df-convert');\n",
              "        buttonEl.style.display =\n",
              "          google.colab.kernel.accessAllowed ? 'block' : 'none';\n",
              "\n",
              "        async function convertToInteractive(key) {\n",
              "          const element = document.querySelector('#df-b8f8b5ba-7428-43d0-b143-30cd4f8da1df');\n",
              "          const dataTable =\n",
              "            await google.colab.kernel.invokeFunction('convertToInteractive',\n",
              "                                                     [key], {});\n",
              "          if (!dataTable) return;\n",
              "\n",
              "          const docLinkHtml = 'Like what you see? Visit the ' +\n",
              "            '<a target=\"_blank\" href=https://colab.research.google.com/notebooks/data_table.ipynb>data table notebook</a>'\n",
              "            + ' to learn more about interactive tables.';\n",
              "          element.innerHTML = '';\n",
              "          dataTable['output_type'] = 'display_data';\n",
              "          await google.colab.output.renderOutput(dataTable, element);\n",
              "          const docLink = document.createElement('div');\n",
              "          docLink.innerHTML = docLinkHtml;\n",
              "          element.appendChild(docLink);\n",
              "        }\n",
              "      </script>\n",
              "    </div>\n",
              "  </div>\n",
              "  "
            ]
          },
          "metadata": {},
          "execution_count": 50
        }
      ],
      "source": [
        "#Transformer toutes les colonnes job et salary données en valeurs numériques\n",
        "df_num=df.assign(job='', salary='')\n",
        "df_num.head()"
      ]
    },
    {
      "cell_type": "code",
      "execution_count": null,
      "metadata": {
        "id": "xqb1_oIVQLK1"
      },
      "outputs": [],
      "source": [
        "#Transformer les valeurs qualitative en quantitatives d'une colonne \"salary\"\n",
        "for x in range(10051):\n",
        "  if df[\"salary\"][x] == \"low\":\n",
        "    df_num['salary'][x] = 1\n",
        "  elif df[\"salary\"][x] == \"medium\":\n",
        "    df_num['salary'][x] = 2\n",
        "  elif df[\"salary\"][x] == \"high\":\n",
        "    df_num['salary'][x] = 3"
      ]
    },
    {
      "cell_type": "code",
      "execution_count": null,
      "metadata": {
        "id": "NIxwpwipSQYS"
      },
      "outputs": [],
      "source": [
        "#Transformer les valeurs qualitative en quantitatives d'une colonne \"salary\"\n",
        "for x in range(10051):\n",
        "  if df[\"job\"][x] == \"accounting\":\n",
        "    df_num['job'][x] = 1\n",
        "  elif df[\"job\"][x] == \"sales\":\n",
        "    df_num['job'][x] = 2\n",
        "  elif df[\"job\"][x] == \"hr\":\n",
        "    df_num['job'][x] = 3\n",
        "  elif df[\"job\"][x] == \"technical\":\n",
        "    df_num['job'][x] = 4\n",
        "  elif df[\"job\"][x] == \"support\":\n",
        "    df_num['job'][x] = 5\n",
        "  elif df[\"job\"][x] == \"management\":\n",
        "    df_num['job'][x] = 6\n",
        "  elif df[\"job\"][x] == \"IT\":\n",
        "    df_num['job'][x] = 7\n",
        "  elif df[\"job\"][x] == \"product_mng\":\n",
        "    df_num['job'][x] = 8\n",
        "  elif df[\"job\"][x] == \"marketing\":\n",
        "    df_num['job'][x] = 9\n",
        "  elif df[\"job\"][x] == \"RandD\":\n",
        "    df_num['job'][x] = 10"
      ]
    },
    {
      "cell_type": "code",
      "execution_count": 53,
      "metadata": {
        "colab": {
          "base_uri": "https://localhost:8080/",
          "height": 268
        },
        "id": "qlQCVazAdG1w",
        "outputId": "f6f9604d-1e1e-4d00-c5e4-e59eb30a880f"
      },
      "outputs": [
        {
          "output_type": "execute_result",
          "data": {
            "text/plain": [
              "   id_colab  satisfaction_level  last_evaluation  number_project  \\\n",
              "0         4                0.72             0.87               5   \n",
              "1         5                0.37             0.52               2   \n",
              "2         7                0.10             0.77               6   \n",
              "3         9                0.89             1.00               5   \n",
              "4        10                0.42             0.53               2   \n",
              "\n",
              "   average_montly_hours  time_spend_company  work_accident  \\\n",
              "0                   223                   5              0   \n",
              "1                   159                   3              0   \n",
              "2                   247                   4              0   \n",
              "3                   224                   5              0   \n",
              "4                   142                   3              0   \n",
              "\n",
              "   promotion_last_5years job salary  left  \n",
              "0                      0   2      1     1  \n",
              "1                      0   2      1     1  \n",
              "2                      0   2      1     1  \n",
              "3                      0   2      1     1  \n",
              "4                      0   2      1     1  "
            ],
            "text/html": [
              "\n",
              "  <div id=\"df-1f660452-6395-4ba5-be50-2cbe1786d1f6\">\n",
              "    <div class=\"colab-df-container\">\n",
              "      <div>\n",
              "<style scoped>\n",
              "    .dataframe tbody tr th:only-of-type {\n",
              "        vertical-align: middle;\n",
              "    }\n",
              "\n",
              "    .dataframe tbody tr th {\n",
              "        vertical-align: top;\n",
              "    }\n",
              "\n",
              "    .dataframe thead th {\n",
              "        text-align: right;\n",
              "    }\n",
              "</style>\n",
              "<table border=\"1\" class=\"dataframe\">\n",
              "  <thead>\n",
              "    <tr style=\"text-align: right;\">\n",
              "      <th></th>\n",
              "      <th>id_colab</th>\n",
              "      <th>satisfaction_level</th>\n",
              "      <th>last_evaluation</th>\n",
              "      <th>number_project</th>\n",
              "      <th>average_montly_hours</th>\n",
              "      <th>time_spend_company</th>\n",
              "      <th>work_accident</th>\n",
              "      <th>promotion_last_5years</th>\n",
              "      <th>job</th>\n",
              "      <th>salary</th>\n",
              "      <th>left</th>\n",
              "    </tr>\n",
              "  </thead>\n",
              "  <tbody>\n",
              "    <tr>\n",
              "      <th>0</th>\n",
              "      <td>4</td>\n",
              "      <td>0.72</td>\n",
              "      <td>0.87</td>\n",
              "      <td>5</td>\n",
              "      <td>223</td>\n",
              "      <td>5</td>\n",
              "      <td>0</td>\n",
              "      <td>0</td>\n",
              "      <td>2</td>\n",
              "      <td>1</td>\n",
              "      <td>1</td>\n",
              "    </tr>\n",
              "    <tr>\n",
              "      <th>1</th>\n",
              "      <td>5</td>\n",
              "      <td>0.37</td>\n",
              "      <td>0.52</td>\n",
              "      <td>2</td>\n",
              "      <td>159</td>\n",
              "      <td>3</td>\n",
              "      <td>0</td>\n",
              "      <td>0</td>\n",
              "      <td>2</td>\n",
              "      <td>1</td>\n",
              "      <td>1</td>\n",
              "    </tr>\n",
              "    <tr>\n",
              "      <th>2</th>\n",
              "      <td>7</td>\n",
              "      <td>0.10</td>\n",
              "      <td>0.77</td>\n",
              "      <td>6</td>\n",
              "      <td>247</td>\n",
              "      <td>4</td>\n",
              "      <td>0</td>\n",
              "      <td>0</td>\n",
              "      <td>2</td>\n",
              "      <td>1</td>\n",
              "      <td>1</td>\n",
              "    </tr>\n",
              "    <tr>\n",
              "      <th>3</th>\n",
              "      <td>9</td>\n",
              "      <td>0.89</td>\n",
              "      <td>1.00</td>\n",
              "      <td>5</td>\n",
              "      <td>224</td>\n",
              "      <td>5</td>\n",
              "      <td>0</td>\n",
              "      <td>0</td>\n",
              "      <td>2</td>\n",
              "      <td>1</td>\n",
              "      <td>1</td>\n",
              "    </tr>\n",
              "    <tr>\n",
              "      <th>4</th>\n",
              "      <td>10</td>\n",
              "      <td>0.42</td>\n",
              "      <td>0.53</td>\n",
              "      <td>2</td>\n",
              "      <td>142</td>\n",
              "      <td>3</td>\n",
              "      <td>0</td>\n",
              "      <td>0</td>\n",
              "      <td>2</td>\n",
              "      <td>1</td>\n",
              "      <td>1</td>\n",
              "    </tr>\n",
              "  </tbody>\n",
              "</table>\n",
              "</div>\n",
              "      <button class=\"colab-df-convert\" onclick=\"convertToInteractive('df-1f660452-6395-4ba5-be50-2cbe1786d1f6')\"\n",
              "              title=\"Convert this dataframe to an interactive table.\"\n",
              "              style=\"display:none;\">\n",
              "        \n",
              "  <svg xmlns=\"http://www.w3.org/2000/svg\" height=\"24px\"viewBox=\"0 0 24 24\"\n",
              "       width=\"24px\">\n",
              "    <path d=\"M0 0h24v24H0V0z\" fill=\"none\"/>\n",
              "    <path d=\"M18.56 5.44l.94 2.06.94-2.06 2.06-.94-2.06-.94-.94-2.06-.94 2.06-2.06.94zm-11 1L8.5 8.5l.94-2.06 2.06-.94-2.06-.94L8.5 2.5l-.94 2.06-2.06.94zm10 10l.94 2.06.94-2.06 2.06-.94-2.06-.94-.94-2.06-.94 2.06-2.06.94z\"/><path d=\"M17.41 7.96l-1.37-1.37c-.4-.4-.92-.59-1.43-.59-.52 0-1.04.2-1.43.59L10.3 9.45l-7.72 7.72c-.78.78-.78 2.05 0 2.83L4 21.41c.39.39.9.59 1.41.59.51 0 1.02-.2 1.41-.59l7.78-7.78 2.81-2.81c.8-.78.8-2.07 0-2.86zM5.41 20L4 18.59l7.72-7.72 1.47 1.35L5.41 20z\"/>\n",
              "  </svg>\n",
              "      </button>\n",
              "      \n",
              "  <style>\n",
              "    .colab-df-container {\n",
              "      display:flex;\n",
              "      flex-wrap:wrap;\n",
              "      gap: 12px;\n",
              "    }\n",
              "\n",
              "    .colab-df-convert {\n",
              "      background-color: #E8F0FE;\n",
              "      border: none;\n",
              "      border-radius: 50%;\n",
              "      cursor: pointer;\n",
              "      display: none;\n",
              "      fill: #1967D2;\n",
              "      height: 32px;\n",
              "      padding: 0 0 0 0;\n",
              "      width: 32px;\n",
              "    }\n",
              "\n",
              "    .colab-df-convert:hover {\n",
              "      background-color: #E2EBFA;\n",
              "      box-shadow: 0px 1px 2px rgba(60, 64, 67, 0.3), 0px 1px 3px 1px rgba(60, 64, 67, 0.15);\n",
              "      fill: #174EA6;\n",
              "    }\n",
              "\n",
              "    [theme=dark] .colab-df-convert {\n",
              "      background-color: #3B4455;\n",
              "      fill: #D2E3FC;\n",
              "    }\n",
              "\n",
              "    [theme=dark] .colab-df-convert:hover {\n",
              "      background-color: #434B5C;\n",
              "      box-shadow: 0px 1px 3px 1px rgba(0, 0, 0, 0.15);\n",
              "      filter: drop-shadow(0px 1px 2px rgba(0, 0, 0, 0.3));\n",
              "      fill: #FFFFFF;\n",
              "    }\n",
              "  </style>\n",
              "\n",
              "      <script>\n",
              "        const buttonEl =\n",
              "          document.querySelector('#df-1f660452-6395-4ba5-be50-2cbe1786d1f6 button.colab-df-convert');\n",
              "        buttonEl.style.display =\n",
              "          google.colab.kernel.accessAllowed ? 'block' : 'none';\n",
              "\n",
              "        async function convertToInteractive(key) {\n",
              "          const element = document.querySelector('#df-1f660452-6395-4ba5-be50-2cbe1786d1f6');\n",
              "          const dataTable =\n",
              "            await google.colab.kernel.invokeFunction('convertToInteractive',\n",
              "                                                     [key], {});\n",
              "          if (!dataTable) return;\n",
              "\n",
              "          const docLinkHtml = 'Like what you see? Visit the ' +\n",
              "            '<a target=\"_blank\" href=https://colab.research.google.com/notebooks/data_table.ipynb>data table notebook</a>'\n",
              "            + ' to learn more about interactive tables.';\n",
              "          element.innerHTML = '';\n",
              "          dataTable['output_type'] = 'display_data';\n",
              "          await google.colab.output.renderOutput(dataTable, element);\n",
              "          const docLink = document.createElement('div');\n",
              "          docLink.innerHTML = docLinkHtml;\n",
              "          element.appendChild(docLink);\n",
              "        }\n",
              "      </script>\n",
              "    </div>\n",
              "  </div>\n",
              "  "
            ]
          },
          "metadata": {},
          "execution_count": 53
        }
      ],
      "source": [
        "#Visualiser les premiers lignes du nouveau DataFrame \n",
        "df_num.head()"
      ]
    },
    {
      "cell_type": "markdown",
      "metadata": {
        "id": "MVZwmtHlfAGM"
      },
      "source": [
        "Nous définissons les variables indépendantes de notre modèle. Dans ce cas, nous utilisons toutes nos données caractéristiques pour prédire quel est le profil d'un salarié qui peut quitter l'entreprise.\n",
        "\n",
        "Nous divisons nos données en deux parties : les données d'entraînement et les données de test afin d'effectuer une validation croisée de notre modèle.\n",
        "\n",
        "Ici, nous utiliserons 80 % de données de formation et 20 % de données de test. Pour diviser nos données, nous devons importer train_test_split de la bibliothèque sklearn. Nous mélangeons également nos données de manière aléatoire pour éviter tout problème de biais à l'aide de \"random_state\", l'algorithme de mélange reste le même, afin de produire des résultats cohérents plus faciles à évaluer.Nous importons la fonction de régression logistique de la bibliothèque sci-kit learn et l'appliquons à nos données.\n",
        "\n",
        "Enfin, nous utilisons y_pred pour obtenir un ensemble de valeurs prédites à partir de nos données de test, afin d'évaluer notre modèle.\n"
      ]
    },
    {
      "cell_type": "code",
      "source": [
        "X = df_num.drop(['id_colab','left'], axis=1) # Features\n",
        "y = df_num.left # Target variable\n",
        "\n",
        "# split X and y into training and testing sets\n",
        "from sklearn.model_selection import train_test_split\n",
        "\n",
        "X_train, X_test, y_train, y_test = train_test_split(X, y, test_size=0.25, random_state=16)\n",
        "\n",
        "# import the class\n",
        "from sklearn.linear_model import LogisticRegression\n",
        "\n",
        "# instantiate the model (using the default parameters)\n",
        "logreg = LogisticRegression(random_state=16)\n",
        "\n",
        "# fit the model with data\n",
        "logreg.fit(X_train, y_train)\n",
        "\n",
        "y_pred = logreg.predict(X_test)\n"
      ],
      "metadata": {
        "id": "K4XmOSdpHpAx"
      },
      "execution_count": null,
      "outputs": []
    },
    {
      "cell_type": "code",
      "source": [
        "# import the metrics class\n",
        "from sklearn import metrics\n",
        "\n",
        "cnf_matrix = metrics.confusion_matrix(y_test, y_pred)\n",
        "cnf_matrix"
      ],
      "metadata": {
        "colab": {
          "base_uri": "https://localhost:8080/"
        },
        "id": "MIhhN-ZWJDU1",
        "outputId": "e427eb02-4095-4eeb-e490-52cd58dae260"
      },
      "execution_count": 102,
      "outputs": [
        {
          "output_type": "execute_result",
          "data": {
            "text/plain": [
              "array([[1799,  121],\n",
              "       [ 423,  170]])"
            ]
          },
          "metadata": {},
          "execution_count": 102
        }
      ]
    },
    {
      "cell_type": "markdown",
      "metadata": {
        "id": "1iVWHVrxqoo9"
      },
      "source": [
        "### *B. Pourquoi on utilise la régression logistique ?*\n"
      ]
    },
    {
      "cell_type": "markdown",
      "metadata": {
        "id": "Gpj8tcjwZSQ_"
      },
      "source": [
        "La régresion logistique est utilisée pour la classification et les problèmes de prédiction. elle est couramment utilisée dans les cas suiviant : \n",
        "\n",
        "*   Détection de la faude\n",
        "*   Prédiction des maladies \n",
        "*   Prédiction des attrition (indicateurs de performance) \n",
        "\n",
        "\n"
      ]
    },
    {
      "cell_type": "markdown",
      "metadata": {
        "id": "5G1iaM4_q0NJ"
      },
      "source": [
        "### *C. La différence entre une régression logistique et une régression linéaire*\n"
      ]
    },
    {
      "cell_type": "markdown",
      "metadata": {
        "id": "iUEUaWQJeaZ2"
      },
      "source": [
        "La principale différence entre la régression logistique et la régression linéaire est que la régression logistique fournit un résultat constant, tandis que la régression linéaire fournit un résultat continu.\n",
        "\n",
        "Dans la régression logistique, le résultat, tel qu'une variable dépendante, n'a qu'un nombre limité de valeurs possibles. La régression logistique est utilisée lorsque la variable réponse est catégorique, comme oui/non, vrai/faux et réussite/échec.\n",
        "\n",
        "Cependant, en régression linéaire, le résultat est continu, ce qui signifie qu'il peut avoir n'importe laquelle parmi un nombre infini de valeurs possibles. La régression linéaire est utilisée lorsque la variable réponse est continue, comme le nombre d'heures, la taille et le poids.\n",
        "\n",
        "Avec les prédictions de régression logistique, seules des valeurs ou des catégories spécifiques sont autorisées. Par conséquent, la régression logistique peut prédire si l'élève a réussi ou échoué. Puisque les prédictions de régression linéaire sont continues, comme les nombres dans une plage, elles peuvent prédire le résultat de l'élève sur une échelle de 0 à 100.(LeMagIT, 2019)"
      ]
    },
    {
      "cell_type": "markdown",
      "metadata": {
        "id": "U8n9ChDpq_jX"
      },
      "source": [
        "### *D. La validité de votre modèle (R², p-value,...)*"
      ]
    },
    {
      "cell_type": "markdown",
      "metadata": {
        "id": "AmGu0K6EJEEQ"
      },
      "source": [
        "La valeur R² vous indique la quantité de variation expliquée par votre modèle. Ainsi, un R-carré de 0,1 signifie que votre modèle explique 10 % de la variation des données. Plus le R² est élevé, meilleur est le modèle. La valeur p, quant à elle, vous renseigne sur le test d'hypothèse de la statistique F, à savoir que \"l'ajustement du modèle à interception seule et celui de votre modèle sont égaux\". Ainsi, si la valeur p est inférieure au seuil de signification (généralement 0,05), votre modèle s'adapte bien aux données.\n",
        "\n",
        "Vous avez donc quatre scénarios :\n",
        "\n",
        "1.  R² faible et une valeur p faible (valeur p <= 0,05).\n",
        "Cela signifie que votre modèle n'explique pas une grande partie de la variation des données mais qu'il est significatif (mieux que de ne pas avoir de modèle).\n",
        "\n",
        "2. R² faible et valeur p élevée (valeur p > 0,05)\n",
        "Cela signifie que votre modèle n'explique pas une grande partie de la variation des données et qu'il n'est pas significatif (le pire scénario).\n",
        "\n",
        "3. R² élevé et p-value faible\n",
        "Cela signifie que votre modèle explique une grande partie de la variation des données et qu'il est significatif (meilleur scénario).\n",
        "\n",
        "4. R² élevé et valeur-p élevée\n",
        "Cela signifie que votre modèle explique beaucoup de variations au sein des données mais qu'il n'est pas significatif (le modèle n'a aucune valeur)."
      ]
    },
    {
      "cell_type": "markdown",
      "metadata": {
        "id": "kuuJSspEJ0sb"
      },
      "source": [
        "### *E. Profil d'un salarié qui risque de quitter l'entreprise*"
      ]
    },
    {
      "cell_type": "markdown",
      "source": [
        "Selon l'ensemble des variables étudiées précédemment, les collaborateurs quittent l'entreprise en raison :    \n",
        "\n",
        "- d'un niveau de satisfaction faible : \n",
        "\n",
        "- d'une faible note attribuée au cours de la dernière évaluation\n",
        "\n",
        "- du nombre de projet trop faible (aucune responsabilité à assumer) ou trop important (surcharge detravail)\n",
        "\n",
        "- du nombre trop important d'heures travaillées psr mois\n",
        "\n",
        "- de l'ancienneté\n",
        "\n",
        "- de la non-attribution de promotion sur 5 années\n",
        "\n",
        "- du nombre d'accidents de travail"
      ],
      "metadata": {
        "id": "CUP_xENfbGaZ"
      }
    }
  ],
  "metadata": {
    "colab": {
      "provenance": [],
      "include_colab_link": true
    },
    "kernelspec": {
      "display_name": "Python 3",
      "name": "python3"
    },
    "language_info": {
      "name": "python"
    }
  },
  "nbformat": 4,
  "nbformat_minor": 0
}