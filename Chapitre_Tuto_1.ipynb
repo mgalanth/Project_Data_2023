{
  "nbformat": 4,
  "nbformat_minor": 0,
  "metadata": {
    "colab": {
      "provenance": [],
      "include_colab_link": true
    },
    "kernelspec": {
      "name": "python3",
      "display_name": "Python 3"
    },
    "language_info": {
      "name": "python"
    }
  },
  "cells": [
    {
      "cell_type": "markdown",
      "metadata": {
        "id": "view-in-github",
        "colab_type": "text"
      },
      "source": [
        "<a href=\"https://colab.research.google.com/github/mgalanth/Project_Data_2023/blob/main/Chapitre_Tuto_1.ipynb\" target=\"_parent\"><img src=\"https://colab.research.google.com/assets/colab-badge.svg\" alt=\"Open In Colab\"/></a>"
      ]
    },
    {
      "cell_type": "markdown",
      "source": [
        "## **Chapitre 1 : Décrire les données**"
      ],
      "metadata": {
        "id": "8Je6dqZX0Qou"
      }
    },
    {
      "cell_type": "markdown",
      "source": [
        "## I. La typologie des données"
      ],
      "metadata": {
        "id": "0Slzd9jrAf4n"
      }
    },
    {
      "cell_type": "markdown",
      "source": [
        "### *A.Les variables quantitatives*\n",
        "\n",
        "Les variables quantitatives peuvent prendre des valeurs numériques. \n",
        "Elles mesurent donc des \"quantités\" (comparaisons, additions, soustractions) telles que :\n",
        "\n",
        "*   Le poids d'un véhicule en kilogrammes\n",
        "*   Le temps nécessaire pour accomplir une tâche en minutes ou secondes\n",
        "*   Le nombre de tâches réussies.\n",
        "\n",
        "Les variables quantitatives peuvent être discrètes ou continues. "
      ],
      "metadata": {
        "id": "FhAg900L2PSO"
      }
    },
    {
      "cell_type": "markdown",
      "source": [
        "##### **Les variables discrètes**\n",
        "\n",
        "Les variables discrètes ne peuvent prendre qu'un ensemble spécifiaue de valeurs : elles ont un nombre fini de valeurs. Elles peuvent être énumérées ('1, 2, 3,...'). Pour cela, on peut généralement l'énoncer sous la forme « Le nombre de… ».\n",
        "\n",
        "Par exemple: \n",
        "*   le nombre d’items dans une liste.\n",
        "*   le nombre de personnes dans une salle."
      ],
      "metadata": {
        "id": "ppWohmikPAE-"
      }
    },
    {
      "cell_type": "markdown",
      "source": [
        "##### **Les variables continues**\n",
        "\n",
        "Les variables continues peuvent prendre n'importe quelle valeur dans une plage de données. \n",
        "\n",
        "Par exemple:\n",
        "*   La température\n",
        "*   La taille, le poids d’une personne\n",
        "*   La vitesse d’une voiture\n",
        "\n",
        "Les variables continues peuvent être mesurées avec une précision infinie."
      ],
      "metadata": {
        "id": "eWzaeaQIPGWi"
      }
    },
    {
      "cell_type": "markdown",
      "source": [
        "### *B.Les variables qualitatives*\n",
        "\n",
        "Les variables qualitatives sont des variables qui décrivent une caractéristique ou un trait qui ne peut pas être mesuré numériquement.\n",
        "\n",
        "Par exemple:\n",
        "*   La couleur des yeux \n",
        "*   Le sexe\n",
        "*   La marque d'un véhicule\n"
      ],
      "metadata": {
        "id": "rDbeIHzsPwN2"
      }
    },
    {
      "cell_type": "markdown",
      "source": [
        "##### **Les variables nominales**\n",
        "\n",
        "Les variables nominales n'ont pas d'ordre ou de classement particulier. Elles sont utilisées pour classer et catégoriser les données en différents groupes ou catégories.\n",
        "\n",
        "Par exemple: \n",
        "*   La profession\n",
        "*   La religion\n",
        "*   La couleur des yeux\n",
        "\n",
        "Les variables nominales sont généralement représentées par des mots ou des étiquettes. Ainsi, il n'est pas logique d'effectuer des opérations mathématiques sur celles-ci. \n",
        "\n",
        "Elles sont principalement utilisées dans les statistiques descriptives pour compter le nombre d'observations dans chaque catégorie."
      ],
      "metadata": {
        "id": "QuZgyXZd6LF2"
      }
    },
    {
      "cell_type": "markdown",
      "source": [
        "##### **Les variables ordinales**\n",
        "\n",
        "\n",
        "Les variables ordinales sont généralement représentées par des mots ou des étiquettes et peuvent être triées en fonction du degré de la catégorie. Cela se fait généralement de manière naturelle. \n",
        "\n",
        "Elles ne peuvent pas être utilisées pour des calculs mathématiques mais elles sont utilisées pour faire des comparaisons entre catégories. \n",
        "\n",
        "Les variables ordinales sont le plus souvent utilisées pour établir un classement ou un ordre.\n",
        "\n",
        "Par exemple:\n",
        "*   Questionnaire sur une échelle de Likert (1 : pas du tout d’accord, 2 … 5 : Tout à fait d’accord)\n",
        "*   Notes alphabétiques (A+, A,..)\n",
        "*   Degré de satisfaction (de 0 à 10)\n",
        "\n",
        "Il faut tenir compte du fait que le même intervalle de \"1\" ne signifie pas nécessairement la même chose. \n"
      ],
      "metadata": {
        "id": "5gq8ljjUQN6N"
      }
    },
    {
      "cell_type": "markdown",
      "source": [
        "## II. Catégories de données\n",
        "Les variables sont-elles dépendantes ou indépendantes ? "
      ],
      "metadata": {
        "id": "sv1ELxsC9lzx"
      }
    },
    {
      "cell_type": "markdown",
      "source": [
        "### *A.Les variables dépendantes*\n",
        "\n",
        "Une variable dépendante est affectée par une ou plusieurs variables indépendantes. \n",
        "\n",
        "Elle est souvent appelée variable de résultat ou de réponse et est généralement représentée par la lettre « y » en notation mathématique. \n",
        "\n",
        "La valeur de la variable dépendante est déterminée par les valeurs des variables indépendantes. \n",
        "* Par exemple, dans une étude sur l'effet de la température sur la croissance des plantes, la variable dépendante serait la croissance de la plante, tandis que la variable indépendante serait la température.\n",
        "\n"
      ],
      "metadata": {
        "id": "0pz86Fx2-Hli"
      }
    },
    {
      "cell_type": "markdown",
      "source": [
        "### *B.Les variables indépendantes*\n",
        "\n",
        "Les variables indépendantes ne sont pas affectées par d'autres variables du modèle.\n",
        "\n",
        "Elles sont généralement interprêtées comme des prédicteurs ou variables explicatives dans une étude.\n",
        "\n",
        "Les effets des variables indépendants sur la/les variables dépendantes sont généralement analysés à l'aide de techniques statistiques telles que l'analyse de régression."
      ],
      "metadata": {
        "id": "iur5T8rSQ1xV"
      }
    },
    {
      "cell_type": "markdown",
      "source": [
        "## III. La transformation des données"
      ],
      "metadata": {
        "id": "nkjTL0Yl276e"
      }
    },
    {
      "cell_type": "markdown",
      "source": [
        "![capture.png](data:image/png;base64,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)\n"
      ],
      "metadata": {
        "id": "Sad73b1uPXrX"
      }
    },
    {
      "cell_type": "markdown",
      "source": [
        "## IV.Les mesures de tendance centrale\n",
        "\n",
        "La dispersion, également connue sous le nom de variabilité ou propagation, fait référence à la mesure dans laquelle un ensemble de données varie ou s'écarte de sa tendance centrale. \n",
        "\n",
        "Il existe plusieurs mesures de dispersion. \n",
        "Celles-ci donnent une idée de la répartition des données et de la façon dont les données sont réparties autour de la tendance centrale."
      ],
      "metadata": {
        "id": "p4BcKzel2wp4"
      }
    },
    {
      "cell_type": "markdown",
      "source": [
        "### *A.La moyenne*\n",
        "\n",
        "La moyenne est une mesure de la tendance centrale calculée en additionnant un ensemble de nombres, puis en divisant par le nombre de valeurs de l'ensemble. La valeur résultante est la moyenne et donne une idée de la valeur typique ou moyenne dans un ensemble de données.\n",
        "\n",
        "* Par exemple, si un ensemble de cinq nombres est {1, 2, 3, 4, 5}, la moyenne est (1 + 2 + 3 + 4 + 5) / 5 = 15 / 5 = 3.\n",
        "\n",
        "La moyenne est sensible aux valeurs aberrantes : si un ensemble de nombres contient une ou plusieurs valeurs extrêmement élevées ou faibles, la moyenne sera affectée et peut ne pas représenter avec précision la valeur typique de l'ensemble. Dans de tels cas, d'autres mesures de tendance centrale, telles que la médiane ou le mode, pourraient être plus informatives."
      ],
      "metadata": {
        "id": "de1baKWz3qvF"
      }
    },
    {
      "cell_type": "code",
      "source": [
        "#Calcul de la moyenne\n",
        "hr.mean(axis=0) # mean signifie moyenne "
      ],
      "metadata": {
        "id": "HOXmx_DzA4KQ",
        "colab": {
          "base_uri": "https://localhost:8080/"
        },
        "outputId": "50c593f4-1116-4b4e-e7ef-f332cf207b1b"
      },
      "execution_count": 16,
      "outputs": [
        {
          "output_type": "stream",
          "name": "stderr",
          "text": [
            "<ipython-input-16-c4e3e0695c99>:2: FutureWarning: Dropping of nuisance columns in DataFrame reductions (with 'numeric_only=None') is deprecated; in a future version this will raise TypeError.  Select only valid columns before calling the reduction.\n",
            "  hr.mean(axis=0) # mean signifie moyenne\n"
          ]
        },
        {
          "output_type": "execute_result",
          "data": {
            "text/plain": [
              "id_colab                 7492.237489\n",
              "satisfaction_level          0.612140\n",
              "last_evaluation             0.717006\n",
              "number_project              3.803303\n",
              "average_montly_hours      200.812655\n",
              "time_spend_company          3.507213\n",
              "work_accident               0.147050\n",
              "promotion_last_5years       0.020098\n",
              "left                        0.237688\n",
              "dtype: float64"
            ]
          },
          "metadata": {},
          "execution_count": 16
        }
      ]
    },
    {
      "cell_type": "markdown",
      "source": [
        "### *B.La médiane*\n",
        "\n",
        "La médiane est une valeur statistique qui sépare un ensemble de données en deux moitiés. C'est la valeur médiane lorsqu'un ensemble de données est classé par ordre de grandeur. \n",
        "\n",
        "* Si l'ensemble de données a un nombre impair d'observations, la médiane est la valeur médiane. \n",
        "* Si l'ensemble de données a un nombre pair d'observations, la médiane est la moyenne des deux valeurs médianes. \n",
        "\n",
        "C'est une mesure de tendance centrale, comme la moyenne ou le mode."
      ],
      "metadata": {
        "id": "emhyo-uI3744"
      }
    },
    {
      "cell_type": "code",
      "source": [
        "#Calcul de la médiane\n",
        "hr.median(axis=0) #médian signifie médiane"
      ],
      "metadata": {
        "id": "Cqy1bpPiBHrG",
        "colab": {
          "base_uri": "https://localhost:8080/"
        },
        "outputId": "d4e3ef3a-b87c-48a5-fb4b-33f32f1d1b94"
      },
      "execution_count": null,
      "outputs": [
        {
          "output_type": "stream",
          "name": "stderr",
          "text": [
            "<ipython-input-14-f3bf6e31d5c1>:2: FutureWarning: Dropping of nuisance columns in DataFrame reductions (with 'numeric_only=None') is deprecated; in a future version this will raise TypeError.  Select only valid columns before calling the reduction.\n",
            "  hr.median(axis=0) #médian signifie médiane\n"
          ]
        },
        {
          "output_type": "execute_result",
          "data": {
            "text/plain": [
              "id_colab                 7500.00\n",
              "satisfaction_level          0.64\n",
              "last_evaluation             0.72\n",
              "number_project              4.00\n",
              "average_montly_hours      199.00\n",
              "time_spend_company          3.00\n",
              "work_accident               0.00\n",
              "promotion_last_5years       0.00\n",
              "left                        0.00\n",
              "dtype: float64"
            ]
          },
          "metadata": {},
          "execution_count": 14
        }
      ]
    },
    {
      "cell_type": "markdown",
      "source": [
        "### *C.Le mode*\n",
        "\n",
        "Le mode est la valeur qui apparaît le plus fréquemment dans un jeu de données. C'est une mesure de tendance centrale, comme la moyenne et la médiane. \n",
        "\n",
        "Un jeu de données peut avoir un mode, plusieurs modes (multimodal) ou aucun mode du tout. En l'absence de mode, le jeu de données est dit non modal. \n",
        "\n",
        "Le mode n'est défini que pour les ensembles de données avec des valeurs discrètes, si les données sont continues, la valeur modale ne peut pas être calculée."
      ],
      "metadata": {
        "id": "2Cdin2Ur4Ck5"
      }
    },
    {
      "cell_type": "code",
      "source": [
        "#Calcul du mode\n",
        "from scipy import stats\n",
        "mode = stats.mode(hr)\n",
        "mode"
      ],
      "metadata": {
        "colab": {
          "base_uri": "https://localhost:8080/"
        },
        "id": "oTAEDyStdVat",
        "outputId": "70670fcc-a77d-41d0-dfaf-14b5d220907f"
      },
      "execution_count": null,
      "outputs": [
        {
          "output_type": "execute_result",
          "data": {
            "text/plain": [
              "ModeResult(mode=array([[4, 0.1, 0.54, 4, 156, 3, 0, 0, 'sales', 'low', 0]], dtype=object), count=array([[   1,  261,  248, 2938,  102, 4311, 8573, 9849, 2816, 4899, 7662]]))"
            ]
          },
          "metadata": {},
          "execution_count": 15
        }
      ]
    },
    {
      "cell_type": "markdown",
      "source": [
        "## V.Les mesures de dispersion et de position\n",
        "\n",
        "Les mesures de dispersion et de position sont utilisées pour décrire respectivement la propagation et l'emplacement d'un ensemble de données.\n",
        "\n",
        "Les mesures de dispersion, telles que la variance ou l'écart type, décrivent le degré auquel les valeurs d'un ensemble de données varient et s'écartent de la tendance centrale. Elles donnent une idée de la répartition notamment autour de la tendance centrale.\n",
        "\n",
        "Les mesures de position, telles que les centiles ou les quartiles, décrivent l'emplacement d'une valeur spécifique ou d'un groupe de valeurs dans un jeu de données.\n",
        "Ces mesures donnent une idée de la position des données dans l'ensemble de données.\n",
        "\n",
        "\n",
        "\n"
      ],
      "metadata": {
        "id": "vLd2lmGN4QMM"
      }
    },
    {
      "cell_type": "markdown",
      "source": [
        "### *A.L'écart-type*\n",
        "\n",
        "L'écart type permet de mesurer la variance des valeurs d'un échantillon statistique ou d'une distribution de probabilité. Il est défini comme étant la racine carrée de la variance ou, de manière équivalente, la racine carrée moyenne des écarts par rapport à la moyenne.\n",
        "\n",
        "L'écart type est aussi utilisé pour calculer d'autres notions comme :\n",
        "*   le coefficient de corrélation \n",
        "*   le coefficient de variation\n",
        "*   la répartition optimale de Neyman.\n"
      ],
      "metadata": {
        "id": "JpB2lYui4y8s"
      }
    },
    {
      "cell_type": "code",
      "source": [
        "#Calcul de l'écart type\n",
        "hr.std(axis=0) #std signifie l'écart type"
      ],
      "metadata": {
        "colab": {
          "base_uri": "https://localhost:8080/"
        },
        "id": "ZEZOxqU-YqiG",
        "outputId": "8d4846b3-f292-4d3d-a2e1-6e5aa51c2c41"
      },
      "execution_count": null,
      "outputs": [
        {
          "output_type": "stream",
          "name": "stderr",
          "text": [
            "<ipython-input-16-3ed4eb0de73e>:2: FutureWarning: Dropping of nuisance columns in DataFrame reductions (with 'numeric_only=None') is deprecated; in a future version this will raise TypeError.  Select only valid columns before calling the reduction.\n",
            "  hr.std(axis=0) #std signifie l'écart type\n"
          ]
        },
        {
          "output_type": "execute_result",
          "data": {
            "text/plain": [
              "id_colab                 4331.355967\n",
              "satisfaction_level          0.249014\n",
              "last_evaluation             0.171542\n",
              "number_project              1.230464\n",
              "average_montly_hours       49.775706\n",
              "time_spend_company          1.480360\n",
              "work_accident               0.354173\n",
              "promotion_last_5years       0.140341\n",
              "left                        0.425688\n",
              "dtype: float64"
            ]
          },
          "metadata": {},
          "execution_count": 16
        }
      ]
    },
    {
      "cell_type": "markdown",
      "source": [
        "### *B.La variance*\n",
        "La variance est utilisée pour caractériser la dispersion d’une distribution ou d’un échantillon. Il est possible de l’interpréter comme la dispersion des valeurs par rapport à la moyenne. \n",
        "\n",
        "Concrètement, la variance est définie comme la moyenne des carrés des écarts à la moyenne. La considération du carré de ces écarts évite que s’annulent des écarts positifs et négatifs.\n",
        "\n",
        "Dans un jeu de données, la variance correspond à la moyenne des carrés des écarts à la moyenne."
      ],
      "metadata": {
        "id": "CwCKRMmC4_su"
      }
    },
    {
      "cell_type": "code",
      "source": [
        "#Calcul de la variance\n",
        "hr.var(axis=0) #var signifie la variance"
      ],
      "metadata": {
        "colab": {
          "base_uri": "https://localhost:8080/"
        },
        "id": "cWdjmq3lY8T-",
        "outputId": "08326b78-1850-4187-b569-1f3b999fffcf"
      },
      "execution_count": null,
      "outputs": [
        {
          "output_type": "stream",
          "name": "stderr",
          "text": [
            "<ipython-input-17-4ee97af85485>:2: FutureWarning: Dropping of nuisance columns in DataFrame reductions (with 'numeric_only=None') is deprecated; in a future version this will raise TypeError.  Select only valid columns before calling the reduction.\n",
            "  hr.var(axis=0) #var signifie la variance\n"
          ]
        },
        {
          "output_type": "execute_result",
          "data": {
            "text/plain": [
              "id_colab                 1.876064e+07\n",
              "satisfaction_level       6.200785e-02\n",
              "last_evaluation          2.942667e-02\n",
              "number_project           1.514043e+00\n",
              "average_montly_hours     2.477621e+03\n",
              "time_spend_company       2.191465e+00\n",
              "work_accident            1.254388e-01\n",
              "promotion_last_5years    1.969555e-02\n",
              "left                     1.812103e-01\n",
              "dtype: float64"
            ]
          },
          "metadata": {},
          "execution_count": 17
        }
      ]
    },
    {
      "cell_type": "markdown",
      "source": [
        "### *C.La fréquence*\n",
        "\n",
        "La fréquence d’une valeur donné représente le quotient (la division) de l’effectif de la valeur par l’effectif total. \n",
        "\n",
        "Intuitivement, elle indique la proportion de la présence de la valeur dans la liste.\n"
      ],
      "metadata": {
        "id": "wT32dITn5CBj"
      }
    },
    {
      "cell_type": "code",
      "source": [
        "#Calcul de la fréquence de la colonne salary et job\n",
        "freq = hr.groupby(['salary', 'job']).size()\n",
        "print(freq)"
      ],
      "metadata": {
        "id": "4k7WISJ1dlfz",
        "colab": {
          "base_uri": "https://localhost:8080/"
        },
        "outputId": "3bbcb277-7426-496a-b98e-a0c68b861d27"
      },
      "execution_count": null,
      "outputs": [
        {
          "output_type": "stream",
          "name": "stdout",
          "text": [
            "salary  job        \n",
            "high    IT               60\n",
            "        RandD            36\n",
            "        accounting       46\n",
            "        hr               28\n",
            "        management      158\n",
            "        marketing        53\n",
            "        product_mng      39\n",
            "        sales           182\n",
            "        support          97\n",
            "        technical       129\n",
            "low     IT              423\n",
            "        RandD           243\n",
            "        accounting      241\n",
            "        hr              225\n",
            "        management      122\n",
            "        marketing       279\n",
            "        product_mng     293\n",
            "        sales          1407\n",
            "        support         741\n",
            "        technical       925\n",
            "medium  IT              369\n",
            "        RandD           230\n",
            "        accounting      215\n",
            "        hr              241\n",
            "        management      153\n",
            "        marketing       251\n",
            "        product_mng     254\n",
            "        sales          1227\n",
            "        support         630\n",
            "        technical       754\n",
            "dtype: int64\n"
          ]
        }
      ]
    },
    {
      "cell_type": "markdown",
      "source": [
        "### *D. L’étendue (minimum, maximum)*\n",
        "**Minimum** est la valeur la plus petite atteinte par une quantité variable ; limite inférieure (s'oppose à maximum).\n",
        "\n",
        "**Maximum** est la valeur la plus grande atteinte par une quantité variable ; limite supérieure (s'oppose à minimum)."
      ],
      "metadata": {
        "id": "W8qwjoAn5Djf"
      }
    },
    {
      "cell_type": "code",
      "source": [
        "#Calcul du min\n",
        "min=hr.min(axis=0)\n",
        "print(min)"
      ],
      "metadata": {
        "colab": {
          "base_uri": "https://localhost:8080/"
        },
        "id": "ceY6TohZclmP",
        "outputId": "972a0ef3-b26e-4ac6-f617-ba9c3d95be8c"
      },
      "execution_count": null,
      "outputs": [
        {
          "output_type": "stream",
          "name": "stdout",
          "text": [
            "id_colab                    4\n",
            "satisfaction_level       0.09\n",
            "last_evaluation          0.36\n",
            "number_project              2\n",
            "average_montly_hours       96\n",
            "time_spend_company          2\n",
            "work_accident               0\n",
            "promotion_last_5years       0\n",
            "job                        IT\n",
            "salary                   high\n",
            "left                        0\n",
            "dtype: object\n"
          ]
        }
      ]
    },
    {
      "cell_type": "code",
      "source": [
        "#Calcul du max\n",
        "hr.max(axis=0)"
      ],
      "metadata": {
        "colab": {
          "base_uri": "https://localhost:8080/"
        },
        "id": "2dYeCwxVcnnm",
        "outputId": "95a344ca-41e0-4e78-f1e4-962ec4f326cc"
      },
      "execution_count": null,
      "outputs": [
        {
          "output_type": "execute_result",
          "data": {
            "text/plain": [
              "id_colab                     14998\n",
              "satisfaction_level             1.0\n",
              "last_evaluation                1.0\n",
              "number_project                   7\n",
              "average_montly_hours           310\n",
              "time_spend_company              10\n",
              "work_accident                    1\n",
              "promotion_last_5years            1\n",
              "job                      technical\n",
              "salary                      medium\n",
              "left                             1\n",
              "dtype: object"
            ]
          },
          "metadata": {},
          "execution_count": 20
        }
      ]
    },
    {
      "cell_type": "markdown",
      "source": [
        "### *E. Le percentile*\n",
        "\n",
        "Un percentile est un concept de statistique qui permet de déterminer la position d’une personne par rapport à un groupe donné. Le groupe est divisé en 99 parts, chacune correspondant à un centile, c’est-à-dire à 1/100 du groupe: le 1er centile, le 2ème centile, le 3ème centile (…) le 99ème centile.\n",
        "\n",
        "Votre percentile est déterminé en fonction de votre score global. Le percentile est susceptible d’évoluer d’année en année en fonction des scores obtenus par les nouveaux candidats."
      ],
      "metadata": {
        "id": "xeq-7CAf5Gi6"
      }
    },
    {
      "cell_type": "code",
      "source": [
        "#Touver le 25ème percentile de chaque colonne\n",
        "hr.quantile(.25)"
      ],
      "metadata": {
        "colab": {
          "base_uri": "https://localhost:8080/"
        },
        "id": "5BCAaHJH-Lk_",
        "outputId": "7b518388-3353-4c3b-f707-ccba4149415f"
      },
      "execution_count": null,
      "outputs": [
        {
          "output_type": "execute_result",
          "data": {
            "text/plain": [
              "id_colab                 3750.50\n",
              "satisfaction_level          0.44\n",
              "last_evaluation             0.56\n",
              "number_project              3.00\n",
              "average_montly_hours      156.00\n",
              "time_spend_company          3.00\n",
              "work_accident               0.00\n",
              "promotion_last_5years       0.00\n",
              "left                        0.00\n",
              "Name: 0.25, dtype: float64"
            ]
          },
          "metadata": {},
          "execution_count": 21
        }
      ]
    },
    {
      "cell_type": "code",
      "source": [
        "#Touver le 50ème percentile (la moyenne) de chaque colonne\n",
        "hr.quantile(.50)"
      ],
      "metadata": {
        "colab": {
          "base_uri": "https://localhost:8080/"
        },
        "id": "yZIUjnja_cQi",
        "outputId": "70cb7c32-9522-4117-b714-f9f0e81e3308"
      },
      "execution_count": null,
      "outputs": [
        {
          "output_type": "execute_result",
          "data": {
            "text/plain": [
              "id_colab                 7500.00\n",
              "satisfaction_level          0.64\n",
              "last_evaluation             0.72\n",
              "number_project              4.00\n",
              "average_montly_hours      199.00\n",
              "time_spend_company          3.00\n",
              "work_accident               0.00\n",
              "promotion_last_5years       0.00\n",
              "left                        0.00\n",
              "Name: 0.5, dtype: float64"
            ]
          },
          "metadata": {},
          "execution_count": 22
        }
      ]
    },
    {
      "cell_type": "code",
      "source": [
        "#Touver le 75ème percentile de chaque colonne\n",
        "hr.quantile(.75)"
      ],
      "metadata": {
        "colab": {
          "base_uri": "https://localhost:8080/"
        },
        "id": "6vDoGVfD_mFI",
        "outputId": "b6207159-cbbe-4017-d65b-88c9faff2a83"
      },
      "execution_count": null,
      "outputs": [
        {
          "output_type": "execute_result",
          "data": {
            "text/plain": [
              "id_colab                 11249.00\n",
              "satisfaction_level           0.82\n",
              "last_evaluation              0.87\n",
              "number_project               5.00\n",
              "average_montly_hours       245.00\n",
              "time_spend_company           4.00\n",
              "work_accident                0.00\n",
              "promotion_last_5years        0.00\n",
              "left                         0.00\n",
              "Name: 0.75, dtype: float64"
            ]
          },
          "metadata": {},
          "execution_count": 23
        }
      ]
    },
    {
      "cell_type": "markdown",
      "source": [
        "# Etude de Cas"
      ],
      "metadata": {
        "id": "uhX_EmaE0mws"
      }
    },
    {
      "cell_type": "markdown",
      "source": [
        "**Etude de cas: risque de départ des salariés d'une organisation**\n",
        "\n",
        "A l'aide du jeu de donnée, vous identifiez les indicateurs clés pour connaître le risque départ d'un salarié. Puis, vous présenterez vos résultats sous la forme d'un tableau de bord.\n",
        "\n",
        "En se servant de l'outil Python, ce tutoriel retrace la démarche d'analyse de données"
      ],
      "metadata": {
        "id": "gI8sSUvvAUsG"
      }
    },
    {
      "cell_type": "markdown",
      "source": [
        "##**Comment importer un jeu de donnée sur Python ?**"
      ],
      "metadata": {
        "id": "IOxjwNqM03sG"
      }
    },
    {
      "cell_type": "code",
      "source": [
        "# 1er étape: importer les libraires nécéssaires à l'analyse des données \n",
        "import pandas as pd \n",
        "import numpy as np\n",
        "import matplotlib.pyplot as plt\n",
        "# 2ème étape: ouvrir le jeu de donnée\n",
        "hr = pd.read_csv(r'HR_training.csv', sep = ';', decimal=',') \n",
        "  #sep = ';' permet de séparer les colonnes \n",
        "  #decimal=',' remplacer les nombre décimal par un .\n",
        "print(hr)   #Python affiche les 5 premières et dernières données du fichier "
      ],
      "metadata": {
        "id": "tqMuNK7jRguX",
        "colab": {
          "base_uri": "https://localhost:8080/"
        },
        "outputId": "49769e7f-eb07-4ff6-bbf3-ad1833ca300c"
      },
      "execution_count": 1,
      "outputs": [
        {
          "output_type": "stream",
          "name": "stdout",
          "text": [
            "       id_colab  satisfaction_level  last_evaluation  number_project  \\\n",
            "0             4                0.72             0.87               5   \n",
            "1             5                0.37             0.52               2   \n",
            "2             7                0.10             0.77               6   \n",
            "3             9                0.89             1.00               5   \n",
            "4            10                0.42             0.53               2   \n",
            "...         ...                 ...              ...             ...   \n",
            "10046     14993                0.40             0.48               2   \n",
            "10047     14995                0.40             0.57               2   \n",
            "10048     14996                0.37             0.48               2   \n",
            "10049     14997                0.37             0.53               2   \n",
            "10050     14998                0.11             0.96               6   \n",
            "\n",
            "       average_montly_hours  time_spend_company  work_accident  \\\n",
            "0                       223                   5              0   \n",
            "1                       159                   3              0   \n",
            "2                       247                   4              0   \n",
            "3                       224                   5              0   \n",
            "4                       142                   3              0   \n",
            "...                     ...                 ...            ...   \n",
            "10046                   155                   3              0   \n",
            "10047                   151                   3              0   \n",
            "10048                   160                   3              0   \n",
            "10049                   143                   3              0   \n",
            "10050                   280                   4              0   \n",
            "\n",
            "       promotion_last_5years      job salary  left  \n",
            "0                          0    sales    low     1  \n",
            "1                          0    sales    low     1  \n",
            "2                          0    sales    low     1  \n",
            "3                          0    sales    low     1  \n",
            "4                          0    sales    low     1  \n",
            "...                      ...      ...    ...   ...  \n",
            "10046                      0  support    low     1  \n",
            "10047                      0  support    low     1  \n",
            "10048                      0  support    low     1  \n",
            "10049                      0  support    low     1  \n",
            "10050                      0  support    low     1  \n",
            "\n",
            "[10051 rows x 11 columns]\n"
          ]
        }
      ]
    },
    {
      "cell_type": "markdown",
      "source": [
        "##**Quels sont les types de variables identifés dans notre jeu de donnée?** \n",
        "\n",
        "**Id** : Numéro du collaborateur: *qualitative ordinale - variable indépendante*\n",
        "\n",
        "**Satisfaction level** : Niveau de satisfaction des collaborateurs: *quantitative ordinale - variable dépendante* \n",
        "\n",
        "**Last evaluation **: Niveau de satisfaction des collaborateurs lors de l’évaluation précédente: *qualitative ordinale - variable dépendante*\n",
        "\n",
        "**Number project** : Nombre de projets portés par le collaborateur : *quantitative discrète - variable indépendante*\n",
        "\n",
        "**Average monthly hours** : Nombre d’heures mensuel moyen d’un collaborateur : *quantitative continue - variable indépendante*\n",
        "\n",
        "**Time spent company** : Nombre d’années passées au sein de l’entreprise: *quantitative continue - variable indépendante* \n",
        "\n",
        "**Work accident** : Information qui précise si le collaborateur a subi un accident du travail : *qualitative ordinale - variable indépendante*\n",
        "\n",
        "**Promotion last 5 years** : Information qui précise si le collaborateur a été sujet à une promotion durant les 5 dernières années: *qualitative nominale - variable dépendante* \n",
        "\n",
        "**Job** : Secteur dans lequel travaille le collaborateur: *qualitative nominale - variable indépendante* \n",
        "\n",
        "**Salary** : Salaire du collaborateur (bas, moyen, haut) : *quantitative continue - variable dépendante* \n",
        "\n",
        "**Left** : Si le collaborateur a finalement quitté l’entreprise ou non: *qualitative nominale - variable dépendante*\n",
        "\n"
      ],
      "metadata": {
        "id": "9cQZvIXyTiCc"
      }
    },
    {
      "cell_type": "markdown",
      "source": [
        "## **Calculer les mesures de tendance centrale ou dispersion et de position:**"
      ],
      "metadata": {
        "id": "eR6Il1kC52hQ"
      }
    },
    {
      "cell_type": "code",
      "source": [
        "# la fonction .describe() permet d'identifier la moyenne, médiane, variance, percentile, écart-type d'un jeu de donnée\n",
        "#applymap('{:.2f}'.format) >>> arrondiir à 2 chiffres après la virgule \n",
        "kpi=hr.describe().applymap('{:.2f}'.format)\n",
        "kpi"
      ],
      "metadata": {
        "id": "satwzkQk-45l",
        "colab": {
          "base_uri": "https://localhost:8080/",
          "height": 361
        },
        "outputId": "ed68c3e9-3ae4-47ec-f7f3-6daeb38a8913"
      },
      "execution_count": 2,
      "outputs": [
        {
          "output_type": "execute_result",
          "data": {
            "text/plain": [
              "       id_colab satisfaction_level last_evaluation number_project  \\\n",
              "count  10051.00           10051.00        10051.00       10051.00   \n",
              "mean    7492.24               0.61            0.72           3.80   \n",
              "std     4331.36               0.25            0.17           1.23   \n",
              "min        4.00               0.09            0.36           2.00   \n",
              "25%     3750.50               0.44            0.56           3.00   \n",
              "50%     7500.00               0.64            0.72           4.00   \n",
              "75%    11249.00               0.82            0.87           5.00   \n",
              "max    14998.00               1.00            1.00           7.00   \n",
              "\n",
              "      average_montly_hours time_spend_company work_accident  \\\n",
              "count             10051.00           10051.00      10051.00   \n",
              "mean                200.81               3.51          0.15   \n",
              "std                  49.78               1.48          0.35   \n",
              "min                  96.00               2.00          0.00   \n",
              "25%                 156.00               3.00          0.00   \n",
              "50%                 199.00               3.00          0.00   \n",
              "75%                 245.00               4.00          0.00   \n",
              "max                 310.00              10.00          1.00   \n",
              "\n",
              "      promotion_last_5years      left  \n",
              "count              10051.00  10051.00  \n",
              "mean                   0.02      0.24  \n",
              "std                    0.14      0.43  \n",
              "min                    0.00      0.00  \n",
              "25%                    0.00      0.00  \n",
              "50%                    0.00      0.00  \n",
              "75%                    0.00      0.00  \n",
              "max                    1.00      1.00  "
            ],
            "text/html": [
              "\n",
              "  <div id=\"df-d7551ef1-a8cb-4f35-9e89-b372a6c1a066\">\n",
              "    <div class=\"colab-df-container\">\n",
              "      <div>\n",
              "<style scoped>\n",
              "    .dataframe tbody tr th:only-of-type {\n",
              "        vertical-align: middle;\n",
              "    }\n",
              "\n",
              "    .dataframe tbody tr th {\n",
              "        vertical-align: top;\n",
              "    }\n",
              "\n",
              "    .dataframe thead th {\n",
              "        text-align: right;\n",
              "    }\n",
              "</style>\n",
              "<table border=\"1\" class=\"dataframe\">\n",
              "  <thead>\n",
              "    <tr style=\"text-align: right;\">\n",
              "      <th></th>\n",
              "      <th>id_colab</th>\n",
              "      <th>satisfaction_level</th>\n",
              "      <th>last_evaluation</th>\n",
              "      <th>number_project</th>\n",
              "      <th>average_montly_hours</th>\n",
              "      <th>time_spend_company</th>\n",
              "      <th>work_accident</th>\n",
              "      <th>promotion_last_5years</th>\n",
              "      <th>left</th>\n",
              "    </tr>\n",
              "  </thead>\n",
              "  <tbody>\n",
              "    <tr>\n",
              "      <th>count</th>\n",
              "      <td>10051.00</td>\n",
              "      <td>10051.00</td>\n",
              "      <td>10051.00</td>\n",
              "      <td>10051.00</td>\n",
              "      <td>10051.00</td>\n",
              "      <td>10051.00</td>\n",
              "      <td>10051.00</td>\n",
              "      <td>10051.00</td>\n",
              "      <td>10051.00</td>\n",
              "    </tr>\n",
              "    <tr>\n",
              "      <th>mean</th>\n",
              "      <td>7492.24</td>\n",
              "      <td>0.61</td>\n",
              "      <td>0.72</td>\n",
              "      <td>3.80</td>\n",
              "      <td>200.81</td>\n",
              "      <td>3.51</td>\n",
              "      <td>0.15</td>\n",
              "      <td>0.02</td>\n",
              "      <td>0.24</td>\n",
              "    </tr>\n",
              "    <tr>\n",
              "      <th>std</th>\n",
              "      <td>4331.36</td>\n",
              "      <td>0.25</td>\n",
              "      <td>0.17</td>\n",
              "      <td>1.23</td>\n",
              "      <td>49.78</td>\n",
              "      <td>1.48</td>\n",
              "      <td>0.35</td>\n",
              "      <td>0.14</td>\n",
              "      <td>0.43</td>\n",
              "    </tr>\n",
              "    <tr>\n",
              "      <th>min</th>\n",
              "      <td>4.00</td>\n",
              "      <td>0.09</td>\n",
              "      <td>0.36</td>\n",
              "      <td>2.00</td>\n",
              "      <td>96.00</td>\n",
              "      <td>2.00</td>\n",
              "      <td>0.00</td>\n",
              "      <td>0.00</td>\n",
              "      <td>0.00</td>\n",
              "    </tr>\n",
              "    <tr>\n",
              "      <th>25%</th>\n",
              "      <td>3750.50</td>\n",
              "      <td>0.44</td>\n",
              "      <td>0.56</td>\n",
              "      <td>3.00</td>\n",
              "      <td>156.00</td>\n",
              "      <td>3.00</td>\n",
              "      <td>0.00</td>\n",
              "      <td>0.00</td>\n",
              "      <td>0.00</td>\n",
              "    </tr>\n",
              "    <tr>\n",
              "      <th>50%</th>\n",
              "      <td>7500.00</td>\n",
              "      <td>0.64</td>\n",
              "      <td>0.72</td>\n",
              "      <td>4.00</td>\n",
              "      <td>199.00</td>\n",
              "      <td>3.00</td>\n",
              "      <td>0.00</td>\n",
              "      <td>0.00</td>\n",
              "      <td>0.00</td>\n",
              "    </tr>\n",
              "    <tr>\n",
              "      <th>75%</th>\n",
              "      <td>11249.00</td>\n",
              "      <td>0.82</td>\n",
              "      <td>0.87</td>\n",
              "      <td>5.00</td>\n",
              "      <td>245.00</td>\n",
              "      <td>4.00</td>\n",
              "      <td>0.00</td>\n",
              "      <td>0.00</td>\n",
              "      <td>0.00</td>\n",
              "    </tr>\n",
              "    <tr>\n",
              "      <th>max</th>\n",
              "      <td>14998.00</td>\n",
              "      <td>1.00</td>\n",
              "      <td>1.00</td>\n",
              "      <td>7.00</td>\n",
              "      <td>310.00</td>\n",
              "      <td>10.00</td>\n",
              "      <td>1.00</td>\n",
              "      <td>1.00</td>\n",
              "      <td>1.00</td>\n",
              "    </tr>\n",
              "  </tbody>\n",
              "</table>\n",
              "</div>\n",
              "      <button class=\"colab-df-convert\" onclick=\"convertToInteractive('df-d7551ef1-a8cb-4f35-9e89-b372a6c1a066')\"\n",
              "              title=\"Convert this dataframe to an interactive table.\"\n",
              "              style=\"display:none;\">\n",
              "        \n",
              "  <svg xmlns=\"http://www.w3.org/2000/svg\" height=\"24px\"viewBox=\"0 0 24 24\"\n",
              "       width=\"24px\">\n",
              "    <path d=\"M0 0h24v24H0V0z\" fill=\"none\"/>\n",
              "    <path d=\"M18.56 5.44l.94 2.06.94-2.06 2.06-.94-2.06-.94-.94-2.06-.94 2.06-2.06.94zm-11 1L8.5 8.5l.94-2.06 2.06-.94-2.06-.94L8.5 2.5l-.94 2.06-2.06.94zm10 10l.94 2.06.94-2.06 2.06-.94-2.06-.94-.94-2.06-.94 2.06-2.06.94z\"/><path d=\"M17.41 7.96l-1.37-1.37c-.4-.4-.92-.59-1.43-.59-.52 0-1.04.2-1.43.59L10.3 9.45l-7.72 7.72c-.78.78-.78 2.05 0 2.83L4 21.41c.39.39.9.59 1.41.59.51 0 1.02-.2 1.41-.59l7.78-7.78 2.81-2.81c.8-.78.8-2.07 0-2.86zM5.41 20L4 18.59l7.72-7.72 1.47 1.35L5.41 20z\"/>\n",
              "  </svg>\n",
              "      </button>\n",
              "      \n",
              "  <style>\n",
              "    .colab-df-container {\n",
              "      display:flex;\n",
              "      flex-wrap:wrap;\n",
              "      gap: 12px;\n",
              "    }\n",
              "\n",
              "    .colab-df-convert {\n",
              "      background-color: #E8F0FE;\n",
              "      border: none;\n",
              "      border-radius: 50%;\n",
              "      cursor: pointer;\n",
              "      display: none;\n",
              "      fill: #1967D2;\n",
              "      height: 32px;\n",
              "      padding: 0 0 0 0;\n",
              "      width: 32px;\n",
              "    }\n",
              "\n",
              "    .colab-df-convert:hover {\n",
              "      background-color: #E2EBFA;\n",
              "      box-shadow: 0px 1px 2px rgba(60, 64, 67, 0.3), 0px 1px 3px 1px rgba(60, 64, 67, 0.15);\n",
              "      fill: #174EA6;\n",
              "    }\n",
              "\n",
              "    [theme=dark] .colab-df-convert {\n",
              "      background-color: #3B4455;\n",
              "      fill: #D2E3FC;\n",
              "    }\n",
              "\n",
              "    [theme=dark] .colab-df-convert:hover {\n",
              "      background-color: #434B5C;\n",
              "      box-shadow: 0px 1px 3px 1px rgba(0, 0, 0, 0.15);\n",
              "      filter: drop-shadow(0px 1px 2px rgba(0, 0, 0, 0.3));\n",
              "      fill: #FFFFFF;\n",
              "    }\n",
              "  </style>\n",
              "\n",
              "      <script>\n",
              "        const buttonEl =\n",
              "          document.querySelector('#df-d7551ef1-a8cb-4f35-9e89-b372a6c1a066 button.colab-df-convert');\n",
              "        buttonEl.style.display =\n",
              "          google.colab.kernel.accessAllowed ? 'block' : 'none';\n",
              "\n",
              "        async function convertToInteractive(key) {\n",
              "          const element = document.querySelector('#df-d7551ef1-a8cb-4f35-9e89-b372a6c1a066');\n",
              "          const dataTable =\n",
              "            await google.colab.kernel.invokeFunction('convertToInteractive',\n",
              "                                                     [key], {});\n",
              "          if (!dataTable) return;\n",
              "\n",
              "          const docLinkHtml = 'Like what you see? Visit the ' +\n",
              "            '<a target=\"_blank\" href=https://colab.research.google.com/notebooks/data_table.ipynb>data table notebook</a>'\n",
              "            + ' to learn more about interactive tables.';\n",
              "          element.innerHTML = '';\n",
              "          dataTable['output_type'] = 'display_data';\n",
              "          await google.colab.output.renderOutput(dataTable, element);\n",
              "          const docLink = document.createElement('div');\n",
              "          docLink.innerHTML = docLinkHtml;\n",
              "          element.appendChild(docLink);\n",
              "        }\n",
              "      </script>\n",
              "    </div>\n",
              "  </div>\n",
              "  "
            ]
          },
          "metadata": {},
          "execution_count": 2
        }
      ]
    },
    {
      "cell_type": "code",
      "source": [
        "# l'ajout describe(include=[object]) permet d'identifier uniquement pour les valeurs de type 'objet' :\n",
        "#top > la valeur la plus courante\n",
        "#freq > la fréquence de la valeur la plus courante\n",
        "#unique > le nombre de valeur unique (non répétée dans la colonne)\n",
        "kpi2 = hr.describe(include=[object])\n",
        "kpi2"
      ],
      "metadata": {
        "colab": {
          "base_uri": "https://localhost:8080/",
          "height": 173
        },
        "id": "gs55wdF7Ooyc",
        "outputId": "e31fbe4a-6f17-4289-a3ad-8105b717894f"
      },
      "execution_count": 3,
      "outputs": [
        {
          "output_type": "execute_result",
          "data": {
            "text/plain": [
              "          job salary\n",
              "count   10051  10051\n",
              "unique     10      3\n",
              "top     sales    low\n",
              "freq     2816   4899"
            ],
            "text/html": [
              "\n",
              "  <div id=\"df-bc74b4b4-1ef3-4548-b7d6-a0579d10d2b5\">\n",
              "    <div class=\"colab-df-container\">\n",
              "      <div>\n",
              "<style scoped>\n",
              "    .dataframe tbody tr th:only-of-type {\n",
              "        vertical-align: middle;\n",
              "    }\n",
              "\n",
              "    .dataframe tbody tr th {\n",
              "        vertical-align: top;\n",
              "    }\n",
              "\n",
              "    .dataframe thead th {\n",
              "        text-align: right;\n",
              "    }\n",
              "</style>\n",
              "<table border=\"1\" class=\"dataframe\">\n",
              "  <thead>\n",
              "    <tr style=\"text-align: right;\">\n",
              "      <th></th>\n",
              "      <th>job</th>\n",
              "      <th>salary</th>\n",
              "    </tr>\n",
              "  </thead>\n",
              "  <tbody>\n",
              "    <tr>\n",
              "      <th>count</th>\n",
              "      <td>10051</td>\n",
              "      <td>10051</td>\n",
              "    </tr>\n",
              "    <tr>\n",
              "      <th>unique</th>\n",
              "      <td>10</td>\n",
              "      <td>3</td>\n",
              "    </tr>\n",
              "    <tr>\n",
              "      <th>top</th>\n",
              "      <td>sales</td>\n",
              "      <td>low</td>\n",
              "    </tr>\n",
              "    <tr>\n",
              "      <th>freq</th>\n",
              "      <td>2816</td>\n",
              "      <td>4899</td>\n",
              "    </tr>\n",
              "  </tbody>\n",
              "</table>\n",
              "</div>\n",
              "      <button class=\"colab-df-convert\" onclick=\"convertToInteractive('df-bc74b4b4-1ef3-4548-b7d6-a0579d10d2b5')\"\n",
              "              title=\"Convert this dataframe to an interactive table.\"\n",
              "              style=\"display:none;\">\n",
              "        \n",
              "  <svg xmlns=\"http://www.w3.org/2000/svg\" height=\"24px\"viewBox=\"0 0 24 24\"\n",
              "       width=\"24px\">\n",
              "    <path d=\"M0 0h24v24H0V0z\" fill=\"none\"/>\n",
              "    <path d=\"M18.56 5.44l.94 2.06.94-2.06 2.06-.94-2.06-.94-.94-2.06-.94 2.06-2.06.94zm-11 1L8.5 8.5l.94-2.06 2.06-.94-2.06-.94L8.5 2.5l-.94 2.06-2.06.94zm10 10l.94 2.06.94-2.06 2.06-.94-2.06-.94-.94-2.06-.94 2.06-2.06.94z\"/><path d=\"M17.41 7.96l-1.37-1.37c-.4-.4-.92-.59-1.43-.59-.52 0-1.04.2-1.43.59L10.3 9.45l-7.72 7.72c-.78.78-.78 2.05 0 2.83L4 21.41c.39.39.9.59 1.41.59.51 0 1.02-.2 1.41-.59l7.78-7.78 2.81-2.81c.8-.78.8-2.07 0-2.86zM5.41 20L4 18.59l7.72-7.72 1.47 1.35L5.41 20z\"/>\n",
              "  </svg>\n",
              "      </button>\n",
              "      \n",
              "  <style>\n",
              "    .colab-df-container {\n",
              "      display:flex;\n",
              "      flex-wrap:wrap;\n",
              "      gap: 12px;\n",
              "    }\n",
              "\n",
              "    .colab-df-convert {\n",
              "      background-color: #E8F0FE;\n",
              "      border: none;\n",
              "      border-radius: 50%;\n",
              "      cursor: pointer;\n",
              "      display: none;\n",
              "      fill: #1967D2;\n",
              "      height: 32px;\n",
              "      padding: 0 0 0 0;\n",
              "      width: 32px;\n",
              "    }\n",
              "\n",
              "    .colab-df-convert:hover {\n",
              "      background-color: #E2EBFA;\n",
              "      box-shadow: 0px 1px 2px rgba(60, 64, 67, 0.3), 0px 1px 3px 1px rgba(60, 64, 67, 0.15);\n",
              "      fill: #174EA6;\n",
              "    }\n",
              "\n",
              "    [theme=dark] .colab-df-convert {\n",
              "      background-color: #3B4455;\n",
              "      fill: #D2E3FC;\n",
              "    }\n",
              "\n",
              "    [theme=dark] .colab-df-convert:hover {\n",
              "      background-color: #434B5C;\n",
              "      box-shadow: 0px 1px 3px 1px rgba(0, 0, 0, 0.15);\n",
              "      filter: drop-shadow(0px 1px 2px rgba(0, 0, 0, 0.3));\n",
              "      fill: #FFFFFF;\n",
              "    }\n",
              "  </style>\n",
              "\n",
              "      <script>\n",
              "        const buttonEl =\n",
              "          document.querySelector('#df-bc74b4b4-1ef3-4548-b7d6-a0579d10d2b5 button.colab-df-convert');\n",
              "        buttonEl.style.display =\n",
              "          google.colab.kernel.accessAllowed ? 'block' : 'none';\n",
              "\n",
              "        async function convertToInteractive(key) {\n",
              "          const element = document.querySelector('#df-bc74b4b4-1ef3-4548-b7d6-a0579d10d2b5');\n",
              "          const dataTable =\n",
              "            await google.colab.kernel.invokeFunction('convertToInteractive',\n",
              "                                                     [key], {});\n",
              "          if (!dataTable) return;\n",
              "\n",
              "          const docLinkHtml = 'Like what you see? Visit the ' +\n",
              "            '<a target=\"_blank\" href=https://colab.research.google.com/notebooks/data_table.ipynb>data table notebook</a>'\n",
              "            + ' to learn more about interactive tables.';\n",
              "          element.innerHTML = '';\n",
              "          dataTable['output_type'] = 'display_data';\n",
              "          await google.colab.output.renderOutput(dataTable, element);\n",
              "          const docLink = document.createElement('div');\n",
              "          docLink.innerHTML = docLinkHtml;\n",
              "          element.appendChild(docLink);\n",
              "        }\n",
              "      </script>\n",
              "    </div>\n",
              "  </div>\n",
              "  "
            ]
          },
          "metadata": {},
          "execution_count": 3
        }
      ]
    },
    {
      "cell_type": "markdown",
      "source": [
        "## **Présentation graphique via Python**"
      ],
      "metadata": {
        "id": "bTXhHDs8ewLA"
      }
    }
  ]
}